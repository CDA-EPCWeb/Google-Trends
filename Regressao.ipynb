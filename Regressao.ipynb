{
 "cells": [
  {
   "cell_type": "code",
   "execution_count": 1,
   "metadata": {},
   "outputs": [],
   "source": [
    "import pandas as pd\n",
    "import sqlite3\n",
    "import numpy as np\n",
    "import matplotlib.pyplot as plt\n",
    "import math\n",
    "from lagCorrelations import getMaxCorrelations\n",
    "from sklearn.metrics import mean_absolute_error\n",
    "import pmdarima as pm"
   ]
  },
  {
   "cell_type": "code",
   "execution_count": 2,
   "metadata": {
    "scrolled": true
   },
   "outputs": [],
   "source": [
    "kwBR=pd.read_csv('dados\\\\SeriesKeywords.csv')\n",
    "kwMG=pd.read_csv('dados\\\\SeriesKeywordsMg.csv')\n",
    "kwBR=kwBR[:63]\n",
    "kwMG=kwMG[:63]\n",
    "conn =sqlite3.connect(\"dados\\\\indicadores.db\")\n",
    "brasilDf=pd.read_sql_query(\"select * from brazil_df\",conn)\n",
    "statesDf=pd.read_sql_query(\"select * from states_df\",conn)\n",
    "conn.close()"
   ]
  },
  {
   "cell_type": "code",
   "execution_count": 3,
   "metadata": {},
   "outputs": [
    {
     "data": {
      "text/html": [
       "<div>\n",
       "<style scoped>\n",
       "    .dataframe tbody tr th:only-of-type {\n",
       "        vertical-align: middle;\n",
       "    }\n",
       "\n",
       "    .dataframe tbody tr th {\n",
       "        vertical-align: top;\n",
       "    }\n",
       "\n",
       "    .dataframe thead th {\n",
       "        text-align: right;\n",
       "    }\n",
       "</style>\n",
       "<table border=\"1\" class=\"dataframe\">\n",
       "  <thead>\n",
       "    <tr style=\"text-align: right;\">\n",
       "      <th></th>\n",
       "      <th>Keyword</th>\n",
       "      <th>MaxCorrelation</th>\n",
       "      <th>Lag</th>\n",
       "    </tr>\n",
       "  </thead>\n",
       "  <tbody>\n",
       "    <tr>\n",
       "      <th>103</th>\n",
       "      <td>decreto lockdown</td>\n",
       "      <td>0.860029</td>\n",
       "      <td>3</td>\n",
       "    </tr>\n",
       "    <tr>\n",
       "      <th>49</th>\n",
       "      <td>covid</td>\n",
       "      <td>0.829267</td>\n",
       "      <td>4</td>\n",
       "    </tr>\n",
       "    <tr>\n",
       "      <th>123</th>\n",
       "      <td>estou com covid</td>\n",
       "      <td>0.823418</td>\n",
       "      <td>3</td>\n",
       "    </tr>\n",
       "    <tr>\n",
       "      <th>124</th>\n",
       "      <td>peguei covid</td>\n",
       "      <td>0.816361</td>\n",
       "      <td>1</td>\n",
       "    </tr>\n",
       "    <tr>\n",
       "      <th>32</th>\n",
       "      <td>oximetro</td>\n",
       "      <td>0.806206</td>\n",
       "      <td>4</td>\n",
       "    </tr>\n",
       "    <tr>\n",
       "      <th>33</th>\n",
       "      <td>oximetro de dedo</td>\n",
       "      <td>0.782610</td>\n",
       "      <td>3</td>\n",
       "    </tr>\n",
       "    <tr>\n",
       "      <th>19</th>\n",
       "      <td>teste covid</td>\n",
       "      <td>0.767422</td>\n",
       "      <td>3</td>\n",
       "    </tr>\n",
       "    <tr>\n",
       "      <th>34</th>\n",
       "      <td>tomar ivermectina</td>\n",
       "      <td>0.759583</td>\n",
       "      <td>2</td>\n",
       "    </tr>\n",
       "    <tr>\n",
       "      <th>102</th>\n",
       "      <td>lockdown covid</td>\n",
       "      <td>0.759239</td>\n",
       "      <td>5</td>\n",
       "    </tr>\n",
       "    <tr>\n",
       "      <th>1</th>\n",
       "      <td>sintomas do covid</td>\n",
       "      <td>0.754365</td>\n",
       "      <td>4</td>\n",
       "    </tr>\n",
       "    <tr>\n",
       "      <th>90</th>\n",
       "      <td>reagente igg</td>\n",
       "      <td>0.715391</td>\n",
       "      <td>1</td>\n",
       "    </tr>\n",
       "    <tr>\n",
       "      <th>63</th>\n",
       "      <td>taxa de ocupação de leitos</td>\n",
       "      <td>0.705310</td>\n",
       "      <td>1</td>\n",
       "    </tr>\n",
       "    <tr>\n",
       "      <th>83</th>\n",
       "      <td>teste rápido covid</td>\n",
       "      <td>0.702121</td>\n",
       "      <td>3</td>\n",
       "    </tr>\n",
       "    <tr>\n",
       "      <th>80</th>\n",
       "      <td>exame covid</td>\n",
       "      <td>0.701509</td>\n",
       "      <td>3</td>\n",
       "    </tr>\n",
       "    <tr>\n",
       "      <th>27</th>\n",
       "      <td>ansiedade</td>\n",
       "      <td>0.682796</td>\n",
       "      <td>5</td>\n",
       "    </tr>\n",
       "    <tr>\n",
       "      <th>101</th>\n",
       "      <td>lockdown brasil</td>\n",
       "      <td>0.666441</td>\n",
       "      <td>7</td>\n",
       "    </tr>\n",
       "    <tr>\n",
       "      <th>92</th>\n",
       "      <td>exame igg</td>\n",
       "      <td>0.661145</td>\n",
       "      <td>3</td>\n",
       "    </tr>\n",
       "    <tr>\n",
       "      <th>16</th>\n",
       "      <td>paladar e olfato</td>\n",
       "      <td>0.660906</td>\n",
       "      <td>6</td>\n",
       "    </tr>\n",
       "    <tr>\n",
       "      <th>85</th>\n",
       "      <td>igg</td>\n",
       "      <td>0.651804</td>\n",
       "      <td>3</td>\n",
       "    </tr>\n",
       "    <tr>\n",
       "      <th>37</th>\n",
       "      <td>azitromicina</td>\n",
       "      <td>0.651647</td>\n",
       "      <td>5</td>\n",
       "    </tr>\n",
       "  </tbody>\n",
       "</table>\n",
       "</div>"
      ],
      "text/plain": [
       "                        Keyword  MaxCorrelation  Lag\n",
       "103            decreto lockdown        0.860029    3\n",
       "49                        covid        0.829267    4\n",
       "123             estou com covid        0.823418    3\n",
       "124                peguei covid        0.816361    1\n",
       "32                     oximetro        0.806206    4\n",
       "33             oximetro de dedo        0.782610    3\n",
       "19                  teste covid        0.767422    3\n",
       "34            tomar ivermectina        0.759583    2\n",
       "102              lockdown covid        0.759239    5\n",
       "1             sintomas do covid        0.754365    4\n",
       "90                 reagente igg        0.715391    1\n",
       "63   taxa de ocupação de leitos        0.705310    1\n",
       "83           teste rápido covid        0.702121    3\n",
       "80                  exame covid        0.701509    3\n",
       "27                    ansiedade        0.682796    5\n",
       "101             lockdown brasil        0.666441    7\n",
       "92                    exame igg        0.661145    3\n",
       "16             paladar e olfato        0.660906    6\n",
       "85                          igg        0.651804    3\n",
       "37                 azitromicina        0.651647    5"
      ]
     },
     "execution_count": 3,
     "metadata": {},
     "output_type": "execute_result"
    }
   ],
   "source": [
    "#Encontrando as lagcorrelations, ind é o indicador a ser usado\n",
    "ind='new_week_deaths'\n",
    "Corr=pd.DataFrame(getMaxCorrelations(kwBR,brasilDf,ind))\n",
    "Corr=Corr.sort_values(by='MaxCorrelation',ascending=False)\n",
    "Corr[:20]"
   ]
  },
  {
   "cell_type": "code",
   "execution_count": 4,
   "metadata": {},
   "outputs": [],
   "source": [
    "#obtendo dados apenas das semanas desejadas dos indicadores\n",
    "#lag é o lag a ser explorado\n",
    "lag=Corr['Lag'].iloc[0]\n",
    "brasilDf=brasilDf.iloc[lag:].reset_index(drop=True)\n",
    "statesDf=statesDf[statesDf['state']=='MG']\n",
    "statesDf=statesDf.iloc[lag:].reset_index(drop=True)\n",
    "#retirarei as ultimas semanas para considerar o lag\n",
    "kwBR=kwBR[:-lag]\n",
    "kwMG=kwMG[:-lag]"
   ]
  },
  {
   "cell_type": "code",
   "execution_count": 5,
   "metadata": {},
   "outputs": [
    {
     "data": {
      "text/html": [
       "<div>\n",
       "<style scoped>\n",
       "    .dataframe tbody tr th:only-of-type {\n",
       "        vertical-align: middle;\n",
       "    }\n",
       "\n",
       "    .dataframe tbody tr th {\n",
       "        vertical-align: top;\n",
       "    }\n",
       "\n",
       "    .dataframe thead th {\n",
       "        text-align: right;\n",
       "    }\n",
       "</style>\n",
       "<table border=\"1\" class=\"dataframe\">\n",
       "  <thead>\n",
       "    <tr style=\"text-align: right;\">\n",
       "      <th></th>\n",
       "      <th>week_last_day</th>\n",
       "      <th>epidemiological_week</th>\n",
       "      <th>total_inhabitants</th>\n",
       "      <th>last_available_confirmed</th>\n",
       "      <th>last_available_deaths</th>\n",
       "      <th>new_week_cases</th>\n",
       "      <th>new_week_deaths</th>\n",
       "      <th>prevalence</th>\n",
       "      <th>mortality</th>\n",
       "      <th>lethality</th>\n",
       "      <th>incidence_cases</th>\n",
       "      <th>incidence_deaths</th>\n",
       "      <th>cases_growth_factor</th>\n",
       "      <th>deaths_growth_factor</th>\n",
       "    </tr>\n",
       "  </thead>\n",
       "  <tbody>\n",
       "    <tr>\n",
       "      <th>0</th>\n",
       "      <td>2020-03-21</td>\n",
       "      <td>202012</td>\n",
       "      <td>2.117557e+08</td>\n",
       "      <td>1132</td>\n",
       "      <td>18</td>\n",
       "      <td>996</td>\n",
       "      <td>18</td>\n",
       "      <td>0.534578</td>\n",
       "      <td>0.008500</td>\n",
       "      <td>1.590106</td>\n",
       "      <td>0.470353</td>\n",
       "      <td>0.008500</td>\n",
       "      <td>8.512821</td>\n",
       "      <td>0.000000</td>\n",
       "    </tr>\n",
       "    <tr>\n",
       "      <th>1</th>\n",
       "      <td>2020-03-28</td>\n",
       "      <td>202013</td>\n",
       "      <td>2.117557e+08</td>\n",
       "      <td>3953</td>\n",
       "      <td>115</td>\n",
       "      <td>2821</td>\n",
       "      <td>97</td>\n",
       "      <td>1.866774</td>\n",
       "      <td>0.054308</td>\n",
       "      <td>2.909183</td>\n",
       "      <td>1.332196</td>\n",
       "      <td>0.045808</td>\n",
       "      <td>2.832329</td>\n",
       "      <td>5.388889</td>\n",
       "    </tr>\n",
       "    <tr>\n",
       "      <th>2</th>\n",
       "      <td>2020-04-04</td>\n",
       "      <td>202014</td>\n",
       "      <td>2.117557e+08</td>\n",
       "      <td>10381</td>\n",
       "      <td>445</td>\n",
       "      <td>6428</td>\n",
       "      <td>330</td>\n",
       "      <td>4.902348</td>\n",
       "      <td>0.210148</td>\n",
       "      <td>4.286678</td>\n",
       "      <td>3.035574</td>\n",
       "      <td>0.155840</td>\n",
       "      <td>2.278625</td>\n",
       "      <td>3.402062</td>\n",
       "    </tr>\n",
       "    <tr>\n",
       "      <th>3</th>\n",
       "      <td>2020-04-11</td>\n",
       "      <td>202015</td>\n",
       "      <td>2.117557e+08</td>\n",
       "      <td>20991</td>\n",
       "      <td>1141</td>\n",
       "      <td>10610</td>\n",
       "      <td>696</td>\n",
       "      <td>9.912839</td>\n",
       "      <td>0.538828</td>\n",
       "      <td>5.435663</td>\n",
       "      <td>5.010491</td>\n",
       "      <td>0.328681</td>\n",
       "      <td>1.650591</td>\n",
       "      <td>2.109091</td>\n",
       "    </tr>\n",
       "    <tr>\n",
       "      <th>4</th>\n",
       "      <td>2020-04-18</td>\n",
       "      <td>202016</td>\n",
       "      <td>2.117557e+08</td>\n",
       "      <td>37175</td>\n",
       "      <td>2375</td>\n",
       "      <td>16184</td>\n",
       "      <td>1234</td>\n",
       "      <td>17.555608</td>\n",
       "      <td>1.121576</td>\n",
       "      <td>6.388702</td>\n",
       "      <td>7.642770</td>\n",
       "      <td>0.582747</td>\n",
       "      <td>1.525353</td>\n",
       "      <td>1.772989</td>\n",
       "    </tr>\n",
       "    <tr>\n",
       "      <th>5</th>\n",
       "      <td>2020-04-25</td>\n",
       "      <td>202017</td>\n",
       "      <td>2.117557e+08</td>\n",
       "      <td>59506</td>\n",
       "      <td>4074</td>\n",
       "      <td>22331</td>\n",
       "      <td>1699</td>\n",
       "      <td>28.101252</td>\n",
       "      <td>1.923915</td>\n",
       "      <td>6.846368</td>\n",
       "      <td>10.545643</td>\n",
       "      <td>0.802340</td>\n",
       "      <td>1.379820</td>\n",
       "      <td>1.376823</td>\n",
       "    </tr>\n",
       "    <tr>\n",
       "      <th>6</th>\n",
       "      <td>2020-05-02</td>\n",
       "      <td>202018</td>\n",
       "      <td>2.117557e+08</td>\n",
       "      <td>97579</td>\n",
       "      <td>6810</td>\n",
       "      <td>38073</td>\n",
       "      <td>2736</td>\n",
       "      <td>46.080934</td>\n",
       "      <td>3.215970</td>\n",
       "      <td>6.978961</td>\n",
       "      <td>17.979682</td>\n",
       "      <td>1.292055</td>\n",
       "      <td>1.704939</td>\n",
       "      <td>1.610359</td>\n",
       "    </tr>\n",
       "    <tr>\n",
       "      <th>7</th>\n",
       "      <td>2020-05-09</td>\n",
       "      <td>202019</td>\n",
       "      <td>2.117557e+08</td>\n",
       "      <td>157248</td>\n",
       "      <td>10695</td>\n",
       "      <td>59669</td>\n",
       "      <td>3885</td>\n",
       "      <td>74.259161</td>\n",
       "      <td>5.050632</td>\n",
       "      <td>6.801358</td>\n",
       "      <td>28.178227</td>\n",
       "      <td>1.834661</td>\n",
       "      <td>1.567226</td>\n",
       "      <td>1.419956</td>\n",
       "    </tr>\n",
       "    <tr>\n",
       "      <th>8</th>\n",
       "      <td>2020-05-16</td>\n",
       "      <td>202020</td>\n",
       "      <td>2.117557e+08</td>\n",
       "      <td>234678</td>\n",
       "      <td>15702</td>\n",
       "      <td>77430</td>\n",
       "      <td>5007</td>\n",
       "      <td>110.824884</td>\n",
       "      <td>7.415149</td>\n",
       "      <td>6.690870</td>\n",
       "      <td>36.565723</td>\n",
       "      <td>2.364517</td>\n",
       "      <td>1.297659</td>\n",
       "      <td>1.288803</td>\n",
       "    </tr>\n",
       "    <tr>\n",
       "      <th>9</th>\n",
       "      <td>2020-05-23</td>\n",
       "      <td>202021</td>\n",
       "      <td>2.117557e+08</td>\n",
       "      <td>351561</td>\n",
       "      <td>22196</td>\n",
       "      <td>116883</td>\n",
       "      <td>6494</td>\n",
       "      <td>166.021984</td>\n",
       "      <td>10.481891</td>\n",
       "      <td>6.313556</td>\n",
       "      <td>55.197100</td>\n",
       "      <td>3.066742</td>\n",
       "      <td>1.509531</td>\n",
       "      <td>1.296984</td>\n",
       "    </tr>\n",
       "    <tr>\n",
       "      <th>10</th>\n",
       "      <td>2020-05-30</td>\n",
       "      <td>202022</td>\n",
       "      <td>2.117557e+08</td>\n",
       "      <td>502913</td>\n",
       "      <td>28895</td>\n",
       "      <td>151352</td>\n",
       "      <td>6699</td>\n",
       "      <td>237.496804</td>\n",
       "      <td>13.645442</td>\n",
       "      <td>5.745527</td>\n",
       "      <td>71.474820</td>\n",
       "      <td>3.163551</td>\n",
       "      <td>1.294902</td>\n",
       "      <td>1.031568</td>\n",
       "    </tr>\n",
       "    <tr>\n",
       "      <th>11</th>\n",
       "      <td>2020-06-06</td>\n",
       "      <td>202023</td>\n",
       "      <td>2.117557e+08</td>\n",
       "      <td>676893</td>\n",
       "      <td>36054</td>\n",
       "      <td>173980</td>\n",
       "      <td>7159</td>\n",
       "      <td>319.657524</td>\n",
       "      <td>17.026225</td>\n",
       "      <td>5.326396</td>\n",
       "      <td>82.160720</td>\n",
       "      <td>3.380783</td>\n",
       "      <td>1.149506</td>\n",
       "      <td>1.068667</td>\n",
       "    </tr>\n",
       "    <tr>\n",
       "      <th>12</th>\n",
       "      <td>2020-06-13</td>\n",
       "      <td>202024</td>\n",
       "      <td>2.117557e+08</td>\n",
       "      <td>851779</td>\n",
       "      <td>42792</td>\n",
       "      <td>174886</td>\n",
       "      <td>6738</td>\n",
       "      <td>402.246095</td>\n",
       "      <td>20.208194</td>\n",
       "      <td>5.023838</td>\n",
       "      <td>82.588571</td>\n",
       "      <td>3.181969</td>\n",
       "      <td>1.005207</td>\n",
       "      <td>0.941193</td>\n",
       "    </tr>\n",
       "    <tr>\n",
       "      <th>13</th>\n",
       "      <td>2020-06-20</td>\n",
       "      <td>202025</td>\n",
       "      <td>2.117557e+08</td>\n",
       "      <td>1071337</td>\n",
       "      <td>50100</td>\n",
       "      <td>219558</td>\n",
       "      <td>7308</td>\n",
       "      <td>505.930675</td>\n",
       "      <td>23.659340</td>\n",
       "      <td>4.676400</td>\n",
       "      <td>103.684580</td>\n",
       "      <td>3.451147</td>\n",
       "      <td>1.255435</td>\n",
       "      <td>1.084595</td>\n",
       "    </tr>\n",
       "    <tr>\n",
       "      <th>14</th>\n",
       "      <td>2020-06-27</td>\n",
       "      <td>202026</td>\n",
       "      <td>2.117557e+08</td>\n",
       "      <td>1318551</td>\n",
       "      <td>57159</td>\n",
       "      <td>247214</td>\n",
       "      <td>7059</td>\n",
       "      <td>622.675589</td>\n",
       "      <td>26.992899</td>\n",
       "      <td>4.334986</td>\n",
       "      <td>116.744914</td>\n",
       "      <td>3.333559</td>\n",
       "      <td>1.125962</td>\n",
       "      <td>0.965928</td>\n",
       "    </tr>\n",
       "    <tr>\n",
       "      <th>15</th>\n",
       "      <td>2020-07-04</td>\n",
       "      <td>202027</td>\n",
       "      <td>2.117557e+08</td>\n",
       "      <td>1580041</td>\n",
       "      <td>64410</td>\n",
       "      <td>261490</td>\n",
       "      <td>7251</td>\n",
       "      <td>746.162234</td>\n",
       "      <td>30.417128</td>\n",
       "      <td>4.076476</td>\n",
       "      <td>123.486645</td>\n",
       "      <td>3.424229</td>\n",
       "      <td>1.057748</td>\n",
       "      <td>1.027199</td>\n",
       "    </tr>\n",
       "    <tr>\n",
       "      <th>16</th>\n",
       "      <td>2020-07-11</td>\n",
       "      <td>202028</td>\n",
       "      <td>2.117557e+08</td>\n",
       "      <td>1844313</td>\n",
       "      <td>71578</td>\n",
       "      <td>264272</td>\n",
       "      <td>7168</td>\n",
       "      <td>870.962658</td>\n",
       "      <td>33.802161</td>\n",
       "      <td>3.881012</td>\n",
       "      <td>124.800423</td>\n",
       "      <td>3.385033</td>\n",
       "      <td>1.010639</td>\n",
       "      <td>0.988553</td>\n",
       "    </tr>\n",
       "    <tr>\n",
       "      <th>17</th>\n",
       "      <td>2020-07-18</td>\n",
       "      <td>202029</td>\n",
       "      <td>2.117557e+08</td>\n",
       "      <td>2077955</td>\n",
       "      <td>78870</td>\n",
       "      <td>233642</td>\n",
       "      <td>7292</td>\n",
       "      <td>981.298299</td>\n",
       "      <td>37.245752</td>\n",
       "      <td>3.795559</td>\n",
       "      <td>110.335641</td>\n",
       "      <td>3.443591</td>\n",
       "      <td>0.884097</td>\n",
       "      <td>1.017299</td>\n",
       "    </tr>\n",
       "    <tr>\n",
       "      <th>18</th>\n",
       "      <td>2020-07-25</td>\n",
       "      <td>202030</td>\n",
       "      <td>2.117557e+08</td>\n",
       "      <td>2398993</td>\n",
       "      <td>86536</td>\n",
       "      <td>321038</td>\n",
       "      <td>7666</td>\n",
       "      <td>1132.906030</td>\n",
       "      <td>40.865962</td>\n",
       "      <td>3.607180</td>\n",
       "      <td>151.607731</td>\n",
       "      <td>3.620210</td>\n",
       "      <td>1.374059</td>\n",
       "      <td>1.051289</td>\n",
       "    </tr>\n",
       "    <tr>\n",
       "      <th>19</th>\n",
       "      <td>2020-08-01</td>\n",
       "      <td>202031</td>\n",
       "      <td>2.117557e+08</td>\n",
       "      <td>2711992</td>\n",
       "      <td>93668</td>\n",
       "      <td>312999</td>\n",
       "      <td>7132</td>\n",
       "      <td>1280.717405</td>\n",
       "      <td>44.233994</td>\n",
       "      <td>3.453845</td>\n",
       "      <td>147.811375</td>\n",
       "      <td>3.368032</td>\n",
       "      <td>0.974959</td>\n",
       "      <td>0.930342</td>\n",
       "    </tr>\n",
       "    <tr>\n",
       "      <th>20</th>\n",
       "      <td>2020-08-08</td>\n",
       "      <td>202032</td>\n",
       "      <td>2.117557e+08</td>\n",
       "      <td>3018397</td>\n",
       "      <td>100648</td>\n",
       "      <td>306405</td>\n",
       "      <td>6980</td>\n",
       "      <td>1425.414815</td>\n",
       "      <td>47.530245</td>\n",
       "      <td>3.334485</td>\n",
       "      <td>144.697409</td>\n",
       "      <td>3.296251</td>\n",
       "      <td>0.978933</td>\n",
       "      <td>0.978688</td>\n",
       "    </tr>\n",
       "    <tr>\n",
       "      <th>21</th>\n",
       "      <td>2020-08-15</td>\n",
       "      <td>202033</td>\n",
       "      <td>2.117557e+08</td>\n",
       "      <td>3320108</td>\n",
       "      <td>107364</td>\n",
       "      <td>301711</td>\n",
       "      <td>6716</td>\n",
       "      <td>1567.895518</td>\n",
       "      <td>50.701825</td>\n",
       "      <td>3.233750</td>\n",
       "      <td>142.480704</td>\n",
       "      <td>3.171579</td>\n",
       "      <td>0.984680</td>\n",
       "      <td>0.962178</td>\n",
       "    </tr>\n",
       "    <tr>\n",
       "      <th>22</th>\n",
       "      <td>2020-08-22</td>\n",
       "      <td>202034</td>\n",
       "      <td>2.117557e+08</td>\n",
       "      <td>3586586</td>\n",
       "      <td>114378</td>\n",
       "      <td>266478</td>\n",
       "      <td>7014</td>\n",
       "      <td>1693.737709</td>\n",
       "      <td>54.014133</td>\n",
       "      <td>3.189049</td>\n",
       "      <td>125.842190</td>\n",
       "      <td>3.312308</td>\n",
       "      <td>0.883223</td>\n",
       "      <td>1.044372</td>\n",
       "    </tr>\n",
       "    <tr>\n",
       "      <th>23</th>\n",
       "      <td>2020-08-29</td>\n",
       "      <td>202035</td>\n",
       "      <td>2.117557e+08</td>\n",
       "      <td>3850070</td>\n",
       "      <td>120570</td>\n",
       "      <td>263484</td>\n",
       "      <td>6192</td>\n",
       "      <td>1818.166005</td>\n",
       "      <td>56.938257</td>\n",
       "      <td>3.131631</td>\n",
       "      <td>124.428297</td>\n",
       "      <td>2.924124</td>\n",
       "      <td>0.988765</td>\n",
       "      <td>0.882806</td>\n",
       "    </tr>\n",
       "    <tr>\n",
       "      <th>24</th>\n",
       "      <td>2020-09-05</td>\n",
       "      <td>202036</td>\n",
       "      <td>2.117557e+08</td>\n",
       "      <td>4125816</td>\n",
       "      <td>126292</td>\n",
       "      <td>275746</td>\n",
       "      <td>5722</td>\n",
       "      <td>1948.384937</td>\n",
       "      <td>59.640428</td>\n",
       "      <td>3.061019</td>\n",
       "      <td>130.218932</td>\n",
       "      <td>2.702171</td>\n",
       "      <td>1.046538</td>\n",
       "      <td>0.924096</td>\n",
       "    </tr>\n",
       "    <tr>\n",
       "      <th>25</th>\n",
       "      <td>2020-09-12</td>\n",
       "      <td>202037</td>\n",
       "      <td>2.117557e+08</td>\n",
       "      <td>4318971</td>\n",
       "      <td>131341</td>\n",
       "      <td>193155</td>\n",
       "      <td>5049</td>\n",
       "      <td>2039.600903</td>\n",
       "      <td>62.024779</td>\n",
       "      <td>3.041025</td>\n",
       "      <td>91.215966</td>\n",
       "      <td>2.384351</td>\n",
       "      <td>0.700482</td>\n",
       "      <td>0.882384</td>\n",
       "    </tr>\n",
       "    <tr>\n",
       "      <th>26</th>\n",
       "      <td>2020-09-19</td>\n",
       "      <td>202038</td>\n",
       "      <td>2.117557e+08</td>\n",
       "      <td>4531145</td>\n",
       "      <td>136626</td>\n",
       "      <td>212174</td>\n",
       "      <td>5285</td>\n",
       "      <td>2139.798446</td>\n",
       "      <td>64.520580</td>\n",
       "      <td>3.015264</td>\n",
       "      <td>100.197543</td>\n",
       "      <td>2.495801</td>\n",
       "      <td>1.098465</td>\n",
       "      <td>1.046742</td>\n",
       "    </tr>\n",
       "    <tr>\n",
       "      <th>27</th>\n",
       "      <td>2020-09-26</td>\n",
       "      <td>202039</td>\n",
       "      <td>2.117557e+08</td>\n",
       "      <td>4720957</td>\n",
       "      <td>141508</td>\n",
       "      <td>189812</td>\n",
       "      <td>4882</td>\n",
       "      <td>2229.435706</td>\n",
       "      <td>66.826067</td>\n",
       "      <td>2.997443</td>\n",
       "      <td>89.637260</td>\n",
       "      <td>2.305487</td>\n",
       "      <td>0.894605</td>\n",
       "      <td>0.923746</td>\n",
       "    </tr>\n",
       "    <tr>\n",
       "      <th>28</th>\n",
       "      <td>2020-10-03</td>\n",
       "      <td>202040</td>\n",
       "      <td>2.117557e+08</td>\n",
       "      <td>4908974</td>\n",
       "      <td>146093</td>\n",
       "      <td>188017</td>\n",
       "      <td>4585</td>\n",
       "      <td>2318.225291</td>\n",
       "      <td>68.991298</td>\n",
       "      <td>2.976039</td>\n",
       "      <td>88.789585</td>\n",
       "      <td>2.165231</td>\n",
       "      <td>0.990543</td>\n",
       "      <td>0.939164</td>\n",
       "    </tr>\n",
       "    <tr>\n",
       "      <th>29</th>\n",
       "      <td>2020-10-10</td>\n",
       "      <td>202041</td>\n",
       "      <td>2.117557e+08</td>\n",
       "      <td>5084513</td>\n",
       "      <td>150302</td>\n",
       "      <td>175539</td>\n",
       "      <td>4209</td>\n",
       "      <td>2401.122236</td>\n",
       "      <td>70.978966</td>\n",
       "      <td>2.956075</td>\n",
       "      <td>82.896945</td>\n",
       "      <td>1.987668</td>\n",
       "      <td>0.933634</td>\n",
       "      <td>0.917993</td>\n",
       "    </tr>\n",
       "    <tr>\n",
       "      <th>30</th>\n",
       "      <td>2020-10-17</td>\n",
       "      <td>202042</td>\n",
       "      <td>2.117557e+08</td>\n",
       "      <td>5226341</td>\n",
       "      <td>153756</td>\n",
       "      <td>141828</td>\n",
       "      <td>3454</td>\n",
       "      <td>2468.099421</td>\n",
       "      <td>72.610091</td>\n",
       "      <td>2.941944</td>\n",
       "      <td>66.977184</td>\n",
       "      <td>1.631125</td>\n",
       "      <td>0.807957</td>\n",
       "      <td>0.820622</td>\n",
       "    </tr>\n",
       "    <tr>\n",
       "      <th>31</th>\n",
       "      <td>2020-10-24</td>\n",
       "      <td>202043</td>\n",
       "      <td>2.117557e+08</td>\n",
       "      <td>5384340</td>\n",
       "      <td>156991</td>\n",
       "      <td>157999</td>\n",
       "      <td>3235</td>\n",
       "      <td>2542.713236</td>\n",
       "      <td>74.137795</td>\n",
       "      <td>2.915696</td>\n",
       "      <td>74.613815</td>\n",
       "      <td>1.527704</td>\n",
       "      <td>1.114018</td>\n",
       "      <td>0.936595</td>\n",
       "    </tr>\n",
       "    <tr>\n",
       "      <th>32</th>\n",
       "      <td>2020-10-31</td>\n",
       "      <td>202044</td>\n",
       "      <td>2.117557e+08</td>\n",
       "      <td>5537763</td>\n",
       "      <td>159972</td>\n",
       "      <td>153423</td>\n",
       "      <td>2981</td>\n",
       "      <td>2615.166070</td>\n",
       "      <td>75.545549</td>\n",
       "      <td>2.888748</td>\n",
       "      <td>72.452834</td>\n",
       "      <td>1.407754</td>\n",
       "      <td>0.971038</td>\n",
       "      <td>0.921484</td>\n",
       "    </tr>\n",
       "    <tr>\n",
       "      <th>33</th>\n",
       "      <td>2020-11-07</td>\n",
       "      <td>202045</td>\n",
       "      <td>2.117557e+08</td>\n",
       "      <td>5655887</td>\n",
       "      <td>162348</td>\n",
       "      <td>118124</td>\n",
       "      <td>2376</td>\n",
       "      <td>2670.949222</td>\n",
       "      <td>76.667597</td>\n",
       "      <td>2.870425</td>\n",
       "      <td>55.783152</td>\n",
       "      <td>1.122048</td>\n",
       "      <td>0.769924</td>\n",
       "      <td>0.797048</td>\n",
       "    </tr>\n",
       "    <tr>\n",
       "      <th>34</th>\n",
       "      <td>2020-11-14</td>\n",
       "      <td>202046</td>\n",
       "      <td>2.117557e+08</td>\n",
       "      <td>5851389</td>\n",
       "      <td>165739</td>\n",
       "      <td>195502</td>\n",
       "      <td>3391</td>\n",
       "      <td>2763.273541</td>\n",
       "      <td>78.268971</td>\n",
       "      <td>2.832473</td>\n",
       "      <td>92.324319</td>\n",
       "      <td>1.601374</td>\n",
       "      <td>1.655057</td>\n",
       "      <td>1.427189</td>\n",
       "    </tr>\n",
       "    <tr>\n",
       "      <th>35</th>\n",
       "      <td>2020-11-21</td>\n",
       "      <td>202047</td>\n",
       "      <td>2.117557e+08</td>\n",
       "      <td>6056135</td>\n",
       "      <td>169088</td>\n",
       "      <td>204746</td>\n",
       "      <td>3349</td>\n",
       "      <td>2859.963268</td>\n",
       "      <td>79.850510</td>\n",
       "      <td>2.792012</td>\n",
       "      <td>96.689727</td>\n",
       "      <td>1.581540</td>\n",
       "      <td>1.047283</td>\n",
       "      <td>0.987614</td>\n",
       "    </tr>\n",
       "    <tr>\n",
       "      <th>36</th>\n",
       "      <td>2020-11-28</td>\n",
       "      <td>202048</td>\n",
       "      <td>2.117557e+08</td>\n",
       "      <td>6297258</td>\n",
       "      <td>172684</td>\n",
       "      <td>241123</td>\n",
       "      <td>3596</td>\n",
       "      <td>2973.831754</td>\n",
       "      <td>81.548694</td>\n",
       "      <td>2.742209</td>\n",
       "      <td>113.868486</td>\n",
       "      <td>1.698183</td>\n",
       "      <td>1.177669</td>\n",
       "      <td>1.073753</td>\n",
       "    </tr>\n",
       "    <tr>\n",
       "      <th>37</th>\n",
       "      <td>2020-12-05</td>\n",
       "      <td>202049</td>\n",
       "      <td>2.117557e+08</td>\n",
       "      <td>6580517</td>\n",
       "      <td>176718</td>\n",
       "      <td>283259</td>\n",
       "      <td>4034</td>\n",
       "      <td>3107.598642</td>\n",
       "      <td>83.453719</td>\n",
       "      <td>2.685473</td>\n",
       "      <td>133.766889</td>\n",
       "      <td>1.905026</td>\n",
       "      <td>1.174749</td>\n",
       "      <td>1.121802</td>\n",
       "    </tr>\n",
       "    <tr>\n",
       "      <th>38</th>\n",
       "      <td>2020-12-12</td>\n",
       "      <td>202050</td>\n",
       "      <td>2.117557e+08</td>\n",
       "      <td>6884782</td>\n",
       "      <td>181241</td>\n",
       "      <td>304265</td>\n",
       "      <td>4523</td>\n",
       "      <td>3251.285453</td>\n",
       "      <td>85.589671</td>\n",
       "      <td>2.632487</td>\n",
       "      <td>143.686811</td>\n",
       "      <td>2.135952</td>\n",
       "      <td>1.074158</td>\n",
       "      <td>1.121220</td>\n",
       "    </tr>\n",
       "    <tr>\n",
       "      <th>39</th>\n",
       "      <td>2020-12-19</td>\n",
       "      <td>202051</td>\n",
       "      <td>2.117557e+08</td>\n",
       "      <td>7218141</td>\n",
       "      <td>186461</td>\n",
       "      <td>333359</td>\n",
       "      <td>5220</td>\n",
       "      <td>3408.711682</td>\n",
       "      <td>88.054776</td>\n",
       "      <td>2.583227</td>\n",
       "      <td>157.426229</td>\n",
       "      <td>2.465105</td>\n",
       "      <td>1.095621</td>\n",
       "      <td>1.154101</td>\n",
       "    </tr>\n",
       "    <tr>\n",
       "      <th>40</th>\n",
       "      <td>2020-12-26</td>\n",
       "      <td>202052</td>\n",
       "      <td>2.117557e+08</td>\n",
       "      <td>7469541</td>\n",
       "      <td>190913</td>\n",
       "      <td>251400</td>\n",
       "      <td>4452</td>\n",
       "      <td>3527.433402</td>\n",
       "      <td>90.157199</td>\n",
       "      <td>2.555887</td>\n",
       "      <td>118.721720</td>\n",
       "      <td>2.102423</td>\n",
       "      <td>0.754142</td>\n",
       "      <td>0.852874</td>\n",
       "    </tr>\n",
       "    <tr>\n",
       "      <th>41</th>\n",
       "      <td>2021-01-02</td>\n",
       "      <td>202053</td>\n",
       "      <td>2.117557e+08</td>\n",
       "      <td>7719324</td>\n",
       "      <td>195834</td>\n",
       "      <td>249783</td>\n",
       "      <td>4921</td>\n",
       "      <td>3645.391507</td>\n",
       "      <td>92.481103</td>\n",
       "      <td>2.536932</td>\n",
       "      <td>117.958104</td>\n",
       "      <td>2.323904</td>\n",
       "      <td>0.993568</td>\n",
       "      <td>1.105346</td>\n",
       "    </tr>\n",
       "    <tr>\n",
       "      <th>42</th>\n",
       "      <td>2021-01-09</td>\n",
       "      <td>202101</td>\n",
       "      <td>2.117557e+08</td>\n",
       "      <td>8081091</td>\n",
       "      <td>202769</td>\n",
       "      <td>361767</td>\n",
       "      <td>6935</td>\n",
       "      <td>3816.233196</td>\n",
       "      <td>95.756104</td>\n",
       "      <td>2.509179</td>\n",
       "      <td>170.841689</td>\n",
       "      <td>3.275001</td>\n",
       "      <td>1.448325</td>\n",
       "      <td>1.409266</td>\n",
       "    </tr>\n",
       "    <tr>\n",
       "      <th>43</th>\n",
       "      <td>2021-01-16</td>\n",
       "      <td>202102</td>\n",
       "      <td>2.117557e+08</td>\n",
       "      <td>8460987</td>\n",
       "      <td>209442</td>\n",
       "      <td>379896</td>\n",
       "      <td>6673</td>\n",
       "      <td>3995.636166</td>\n",
       "      <td>98.907377</td>\n",
       "      <td>2.475385</td>\n",
       "      <td>179.402970</td>\n",
       "      <td>3.151273</td>\n",
       "      <td>1.050112</td>\n",
       "      <td>0.962221</td>\n",
       "    </tr>\n",
       "    <tr>\n",
       "      <th>44</th>\n",
       "      <td>2021-01-23</td>\n",
       "      <td>202103</td>\n",
       "      <td>2.117557e+08</td>\n",
       "      <td>8821815</td>\n",
       "      <td>216587</td>\n",
       "      <td>360828</td>\n",
       "      <td>7145</td>\n",
       "      <td>4166.034419</td>\n",
       "      <td>102.281548</td>\n",
       "      <td>2.455130</td>\n",
       "      <td>170.398253</td>\n",
       "      <td>3.374171</td>\n",
       "      <td>0.949807</td>\n",
       "      <td>1.070733</td>\n",
       "    </tr>\n",
       "    <tr>\n",
       "      <th>45</th>\n",
       "      <td>2021-01-30</td>\n",
       "      <td>202104</td>\n",
       "      <td>2.117557e+08</td>\n",
       "      <td>9180621</td>\n",
       "      <td>224079</td>\n",
       "      <td>358806</td>\n",
       "      <td>7492</td>\n",
       "      <td>4335.477798</td>\n",
       "      <td>105.819588</td>\n",
       "      <td>2.440783</td>\n",
       "      <td>169.443379</td>\n",
       "      <td>3.538039</td>\n",
       "      <td>0.994396</td>\n",
       "      <td>1.048565</td>\n",
       "    </tr>\n",
       "    <tr>\n",
       "      <th>46</th>\n",
       "      <td>2021-02-06</td>\n",
       "      <td>202105</td>\n",
       "      <td>2.117557e+08</td>\n",
       "      <td>9502810</td>\n",
       "      <td>231195</td>\n",
       "      <td>322189</td>\n",
       "      <td>7116</td>\n",
       "      <td>4487.629081</td>\n",
       "      <td>109.180064</td>\n",
       "      <td>2.432912</td>\n",
       "      <td>152.151282</td>\n",
       "      <td>3.360476</td>\n",
       "      <td>0.897948</td>\n",
       "      <td>0.949813</td>\n",
       "    </tr>\n",
       "    <tr>\n",
       "      <th>47</th>\n",
       "      <td>2021-02-13</td>\n",
       "      <td>202106</td>\n",
       "      <td>2.117557e+08</td>\n",
       "      <td>9817285</td>\n",
       "      <td>238768</td>\n",
       "      <td>314475</td>\n",
       "      <td>7573</td>\n",
       "      <td>4636.137486</td>\n",
       "      <td>112.756355</td>\n",
       "      <td>2.432118</td>\n",
       "      <td>148.508405</td>\n",
       "      <td>3.576291</td>\n",
       "      <td>0.976058</td>\n",
       "      <td>1.064221</td>\n",
       "    </tr>\n",
       "    <tr>\n",
       "      <th>48</th>\n",
       "      <td>2021-02-20</td>\n",
       "      <td>202107</td>\n",
       "      <td>2.117557e+08</td>\n",
       "      <td>10144332</td>\n",
       "      <td>246113</td>\n",
       "      <td>327047</td>\n",
       "      <td>7345</td>\n",
       "      <td>4790.582921</td>\n",
       "      <td>116.224975</td>\n",
       "      <td>2.426113</td>\n",
       "      <td>154.445435</td>\n",
       "      <td>3.468620</td>\n",
       "      <td>1.039978</td>\n",
       "      <td>0.969893</td>\n",
       "    </tr>\n",
       "    <tr>\n",
       "      <th>49</th>\n",
       "      <td>2021-02-27</td>\n",
       "      <td>202108</td>\n",
       "      <td>2.117557e+08</td>\n",
       "      <td>10524723</td>\n",
       "      <td>254403</td>\n",
       "      <td>380391</td>\n",
       "      <td>8290</td>\n",
       "      <td>4970.219651</td>\n",
       "      <td>120.139864</td>\n",
       "      <td>2.417194</td>\n",
       "      <td>179.636730</td>\n",
       "      <td>3.914889</td>\n",
       "      <td>1.163108</td>\n",
       "      <td>1.128659</td>\n",
       "    </tr>\n",
       "    <tr>\n",
       "      <th>50</th>\n",
       "      <td>2021-03-06</td>\n",
       "      <td>202109</td>\n",
       "      <td>2.117557e+08</td>\n",
       "      <td>10946497</td>\n",
       "      <td>264584</td>\n",
       "      <td>421774</td>\n",
       "      <td>10181</td>\n",
       "      <td>5169.399185</td>\n",
       "      <td>124.947763</td>\n",
       "      <td>2.417065</td>\n",
       "      <td>199.179534</td>\n",
       "      <td>4.807899</td>\n",
       "      <td>1.108791</td>\n",
       "      <td>1.228106</td>\n",
       "    </tr>\n",
       "    <tr>\n",
       "      <th>51</th>\n",
       "      <td>2021-03-13</td>\n",
       "      <td>202110</td>\n",
       "      <td>2.117557e+08</td>\n",
       "      <td>11447416</td>\n",
       "      <td>277412</td>\n",
       "      <td>500919</td>\n",
       "      <td>12828</td>\n",
       "      <td>5405.954338</td>\n",
       "      <td>131.005688</td>\n",
       "      <td>2.423359</td>\n",
       "      <td>236.555153</td>\n",
       "      <td>6.057925</td>\n",
       "      <td>1.187648</td>\n",
       "      <td>1.259994</td>\n",
       "    </tr>\n",
       "    <tr>\n",
       "      <th>52</th>\n",
       "      <td>2021-03-20</td>\n",
       "      <td>202111</td>\n",
       "      <td>2.117557e+08</td>\n",
       "      <td>11958814</td>\n",
       "      <td>293076</td>\n",
       "      <td>511398</td>\n",
       "      <td>15664</td>\n",
       "      <td>5647.458118</td>\n",
       "      <td>138.402891</td>\n",
       "      <td>2.450711</td>\n",
       "      <td>241.503780</td>\n",
       "      <td>7.397204</td>\n",
       "      <td>1.020920</td>\n",
       "      <td>1.221079</td>\n",
       "    </tr>\n",
       "    <tr>\n",
       "      <th>53</th>\n",
       "      <td>2021-03-27</td>\n",
       "      <td>202112</td>\n",
       "      <td>2.117557e+08</td>\n",
       "      <td>12498653</td>\n",
       "      <td>310963</td>\n",
       "      <td>539839</td>\n",
       "      <td>17887</td>\n",
       "      <td>5902.392942</td>\n",
       "      <td>146.849890</td>\n",
       "      <td>2.487972</td>\n",
       "      <td>254.934824</td>\n",
       "      <td>8.446998</td>\n",
       "      <td>1.055614</td>\n",
       "      <td>1.141918</td>\n",
       "    </tr>\n",
       "    <tr>\n",
       "      <th>54</th>\n",
       "      <td>2021-04-03</td>\n",
       "      <td>202113</td>\n",
       "      <td>2.117557e+08</td>\n",
       "      <td>12959895</td>\n",
       "      <td>330503</td>\n",
       "      <td>461242</td>\n",
       "      <td>19540</td>\n",
       "      <td>6120.210936</td>\n",
       "      <td>156.077505</td>\n",
       "      <td>2.550198</td>\n",
       "      <td>217.817994</td>\n",
       "      <td>9.227615</td>\n",
       "      <td>0.854407</td>\n",
       "      <td>1.092413</td>\n",
       "    </tr>\n",
       "    <tr>\n",
       "      <th>55</th>\n",
       "      <td>2021-04-10</td>\n",
       "      <td>202114</td>\n",
       "      <td>2.117557e+08</td>\n",
       "      <td>13451932</td>\n",
       "      <td>351673</td>\n",
       "      <td>492037</td>\n",
       "      <td>21170</td>\n",
       "      <td>6352.571632</td>\n",
       "      <td>166.074875</td>\n",
       "      <td>2.614294</td>\n",
       "      <td>232.360696</td>\n",
       "      <td>9.997370</td>\n",
       "      <td>1.066765</td>\n",
       "      <td>1.083419</td>\n",
       "    </tr>\n",
       "    <tr>\n",
       "      <th>56</th>\n",
       "      <td>2021-04-17</td>\n",
       "      <td>202115</td>\n",
       "      <td>2.117557e+08</td>\n",
       "      <td>13912159</td>\n",
       "      <td>372149</td>\n",
       "      <td>460227</td>\n",
       "      <td>20476</td>\n",
       "      <td>6569.910301</td>\n",
       "      <td>175.744509</td>\n",
       "      <td>2.674991</td>\n",
       "      <td>217.338668</td>\n",
       "      <td>9.669634</td>\n",
       "      <td>0.935350</td>\n",
       "      <td>0.967218</td>\n",
       "    </tr>\n",
       "    <tr>\n",
       "      <th>57</th>\n",
       "      <td>2021-04-24</td>\n",
       "      <td>202116</td>\n",
       "      <td>2.117557e+08</td>\n",
       "      <td>14315320</td>\n",
       "      <td>389830</td>\n",
       "      <td>403161</td>\n",
       "      <td>17681</td>\n",
       "      <td>6760.299988</td>\n",
       "      <td>184.094225</td>\n",
       "      <td>2.723167</td>\n",
       "      <td>190.389688</td>\n",
       "      <td>8.349717</td>\n",
       "      <td>0.876005</td>\n",
       "      <td>0.863499</td>\n",
       "    </tr>\n",
       "    <tr>\n",
       "      <th>58</th>\n",
       "      <td>2021-05-01</td>\n",
       "      <td>202117</td>\n",
       "      <td>2.117557e+08</td>\n",
       "      <td>14733396</td>\n",
       "      <td>406770</td>\n",
       "      <td>418076</td>\n",
       "      <td>16940</td>\n",
       "      <td>6957.733170</td>\n",
       "      <td>192.094010</td>\n",
       "      <td>2.760871</td>\n",
       "      <td>197.433182</td>\n",
       "      <td>7.999785</td>\n",
       "      <td>1.036995</td>\n",
       "      <td>0.958091</td>\n",
       "    </tr>\n",
       "    <tr>\n",
       "      <th>59</th>\n",
       "      <td>2021-05-08</td>\n",
       "      <td>202118</td>\n",
       "      <td>2.117557e+08</td>\n",
       "      <td>15158475</td>\n",
       "      <td>421715</td>\n",
       "      <td>425079</td>\n",
       "      <td>14945</td>\n",
       "      <td>7158.473465</td>\n",
       "      <td>199.151672</td>\n",
       "      <td>2.782041</td>\n",
       "      <td>200.740295</td>\n",
       "      <td>7.057662</td>\n",
       "      <td>1.016751</td>\n",
       "      <td>0.882231</td>\n",
       "    </tr>\n",
       "  </tbody>\n",
       "</table>\n",
       "</div>"
      ],
      "text/plain": [
       "   week_last_day  epidemiological_week  total_inhabitants  \\\n",
       "0     2020-03-21                202012       2.117557e+08   \n",
       "1     2020-03-28                202013       2.117557e+08   \n",
       "2     2020-04-04                202014       2.117557e+08   \n",
       "3     2020-04-11                202015       2.117557e+08   \n",
       "4     2020-04-18                202016       2.117557e+08   \n",
       "5     2020-04-25                202017       2.117557e+08   \n",
       "6     2020-05-02                202018       2.117557e+08   \n",
       "7     2020-05-09                202019       2.117557e+08   \n",
       "8     2020-05-16                202020       2.117557e+08   \n",
       "9     2020-05-23                202021       2.117557e+08   \n",
       "10    2020-05-30                202022       2.117557e+08   \n",
       "11    2020-06-06                202023       2.117557e+08   \n",
       "12    2020-06-13                202024       2.117557e+08   \n",
       "13    2020-06-20                202025       2.117557e+08   \n",
       "14    2020-06-27                202026       2.117557e+08   \n",
       "15    2020-07-04                202027       2.117557e+08   \n",
       "16    2020-07-11                202028       2.117557e+08   \n",
       "17    2020-07-18                202029       2.117557e+08   \n",
       "18    2020-07-25                202030       2.117557e+08   \n",
       "19    2020-08-01                202031       2.117557e+08   \n",
       "20    2020-08-08                202032       2.117557e+08   \n",
       "21    2020-08-15                202033       2.117557e+08   \n",
       "22    2020-08-22                202034       2.117557e+08   \n",
       "23    2020-08-29                202035       2.117557e+08   \n",
       "24    2020-09-05                202036       2.117557e+08   \n",
       "25    2020-09-12                202037       2.117557e+08   \n",
       "26    2020-09-19                202038       2.117557e+08   \n",
       "27    2020-09-26                202039       2.117557e+08   \n",
       "28    2020-10-03                202040       2.117557e+08   \n",
       "29    2020-10-10                202041       2.117557e+08   \n",
       "30    2020-10-17                202042       2.117557e+08   \n",
       "31    2020-10-24                202043       2.117557e+08   \n",
       "32    2020-10-31                202044       2.117557e+08   \n",
       "33    2020-11-07                202045       2.117557e+08   \n",
       "34    2020-11-14                202046       2.117557e+08   \n",
       "35    2020-11-21                202047       2.117557e+08   \n",
       "36    2020-11-28                202048       2.117557e+08   \n",
       "37    2020-12-05                202049       2.117557e+08   \n",
       "38    2020-12-12                202050       2.117557e+08   \n",
       "39    2020-12-19                202051       2.117557e+08   \n",
       "40    2020-12-26                202052       2.117557e+08   \n",
       "41    2021-01-02                202053       2.117557e+08   \n",
       "42    2021-01-09                202101       2.117557e+08   \n",
       "43    2021-01-16                202102       2.117557e+08   \n",
       "44    2021-01-23                202103       2.117557e+08   \n",
       "45    2021-01-30                202104       2.117557e+08   \n",
       "46    2021-02-06                202105       2.117557e+08   \n",
       "47    2021-02-13                202106       2.117557e+08   \n",
       "48    2021-02-20                202107       2.117557e+08   \n",
       "49    2021-02-27                202108       2.117557e+08   \n",
       "50    2021-03-06                202109       2.117557e+08   \n",
       "51    2021-03-13                202110       2.117557e+08   \n",
       "52    2021-03-20                202111       2.117557e+08   \n",
       "53    2021-03-27                202112       2.117557e+08   \n",
       "54    2021-04-03                202113       2.117557e+08   \n",
       "55    2021-04-10                202114       2.117557e+08   \n",
       "56    2021-04-17                202115       2.117557e+08   \n",
       "57    2021-04-24                202116       2.117557e+08   \n",
       "58    2021-05-01                202117       2.117557e+08   \n",
       "59    2021-05-08                202118       2.117557e+08   \n",
       "\n",
       "    last_available_confirmed  last_available_deaths  new_week_cases  \\\n",
       "0                       1132                     18             996   \n",
       "1                       3953                    115            2821   \n",
       "2                      10381                    445            6428   \n",
       "3                      20991                   1141           10610   \n",
       "4                      37175                   2375           16184   \n",
       "5                      59506                   4074           22331   \n",
       "6                      97579                   6810           38073   \n",
       "7                     157248                  10695           59669   \n",
       "8                     234678                  15702           77430   \n",
       "9                     351561                  22196          116883   \n",
       "10                    502913                  28895          151352   \n",
       "11                    676893                  36054          173980   \n",
       "12                    851779                  42792          174886   \n",
       "13                   1071337                  50100          219558   \n",
       "14                   1318551                  57159          247214   \n",
       "15                   1580041                  64410          261490   \n",
       "16                   1844313                  71578          264272   \n",
       "17                   2077955                  78870          233642   \n",
       "18                   2398993                  86536          321038   \n",
       "19                   2711992                  93668          312999   \n",
       "20                   3018397                 100648          306405   \n",
       "21                   3320108                 107364          301711   \n",
       "22                   3586586                 114378          266478   \n",
       "23                   3850070                 120570          263484   \n",
       "24                   4125816                 126292          275746   \n",
       "25                   4318971                 131341          193155   \n",
       "26                   4531145                 136626          212174   \n",
       "27                   4720957                 141508          189812   \n",
       "28                   4908974                 146093          188017   \n",
       "29                   5084513                 150302          175539   \n",
       "30                   5226341                 153756          141828   \n",
       "31                   5384340                 156991          157999   \n",
       "32                   5537763                 159972          153423   \n",
       "33                   5655887                 162348          118124   \n",
       "34                   5851389                 165739          195502   \n",
       "35                   6056135                 169088          204746   \n",
       "36                   6297258                 172684          241123   \n",
       "37                   6580517                 176718          283259   \n",
       "38                   6884782                 181241          304265   \n",
       "39                   7218141                 186461          333359   \n",
       "40                   7469541                 190913          251400   \n",
       "41                   7719324                 195834          249783   \n",
       "42                   8081091                 202769          361767   \n",
       "43                   8460987                 209442          379896   \n",
       "44                   8821815                 216587          360828   \n",
       "45                   9180621                 224079          358806   \n",
       "46                   9502810                 231195          322189   \n",
       "47                   9817285                 238768          314475   \n",
       "48                  10144332                 246113          327047   \n",
       "49                  10524723                 254403          380391   \n",
       "50                  10946497                 264584          421774   \n",
       "51                  11447416                 277412          500919   \n",
       "52                  11958814                 293076          511398   \n",
       "53                  12498653                 310963          539839   \n",
       "54                  12959895                 330503          461242   \n",
       "55                  13451932                 351673          492037   \n",
       "56                  13912159                 372149          460227   \n",
       "57                  14315320                 389830          403161   \n",
       "58                  14733396                 406770          418076   \n",
       "59                  15158475                 421715          425079   \n",
       "\n",
       "    new_week_deaths   prevalence   mortality  lethality  incidence_cases  \\\n",
       "0                18     0.534578    0.008500   1.590106         0.470353   \n",
       "1                97     1.866774    0.054308   2.909183         1.332196   \n",
       "2               330     4.902348    0.210148   4.286678         3.035574   \n",
       "3               696     9.912839    0.538828   5.435663         5.010491   \n",
       "4              1234    17.555608    1.121576   6.388702         7.642770   \n",
       "5              1699    28.101252    1.923915   6.846368        10.545643   \n",
       "6              2736    46.080934    3.215970   6.978961        17.979682   \n",
       "7              3885    74.259161    5.050632   6.801358        28.178227   \n",
       "8              5007   110.824884    7.415149   6.690870        36.565723   \n",
       "9              6494   166.021984   10.481891   6.313556        55.197100   \n",
       "10             6699   237.496804   13.645442   5.745527        71.474820   \n",
       "11             7159   319.657524   17.026225   5.326396        82.160720   \n",
       "12             6738   402.246095   20.208194   5.023838        82.588571   \n",
       "13             7308   505.930675   23.659340   4.676400       103.684580   \n",
       "14             7059   622.675589   26.992899   4.334986       116.744914   \n",
       "15             7251   746.162234   30.417128   4.076476       123.486645   \n",
       "16             7168   870.962658   33.802161   3.881012       124.800423   \n",
       "17             7292   981.298299   37.245752   3.795559       110.335641   \n",
       "18             7666  1132.906030   40.865962   3.607180       151.607731   \n",
       "19             7132  1280.717405   44.233994   3.453845       147.811375   \n",
       "20             6980  1425.414815   47.530245   3.334485       144.697409   \n",
       "21             6716  1567.895518   50.701825   3.233750       142.480704   \n",
       "22             7014  1693.737709   54.014133   3.189049       125.842190   \n",
       "23             6192  1818.166005   56.938257   3.131631       124.428297   \n",
       "24             5722  1948.384937   59.640428   3.061019       130.218932   \n",
       "25             5049  2039.600903   62.024779   3.041025        91.215966   \n",
       "26             5285  2139.798446   64.520580   3.015264       100.197543   \n",
       "27             4882  2229.435706   66.826067   2.997443        89.637260   \n",
       "28             4585  2318.225291   68.991298   2.976039        88.789585   \n",
       "29             4209  2401.122236   70.978966   2.956075        82.896945   \n",
       "30             3454  2468.099421   72.610091   2.941944        66.977184   \n",
       "31             3235  2542.713236   74.137795   2.915696        74.613815   \n",
       "32             2981  2615.166070   75.545549   2.888748        72.452834   \n",
       "33             2376  2670.949222   76.667597   2.870425        55.783152   \n",
       "34             3391  2763.273541   78.268971   2.832473        92.324319   \n",
       "35             3349  2859.963268   79.850510   2.792012        96.689727   \n",
       "36             3596  2973.831754   81.548694   2.742209       113.868486   \n",
       "37             4034  3107.598642   83.453719   2.685473       133.766889   \n",
       "38             4523  3251.285453   85.589671   2.632487       143.686811   \n",
       "39             5220  3408.711682   88.054776   2.583227       157.426229   \n",
       "40             4452  3527.433402   90.157199   2.555887       118.721720   \n",
       "41             4921  3645.391507   92.481103   2.536932       117.958104   \n",
       "42             6935  3816.233196   95.756104   2.509179       170.841689   \n",
       "43             6673  3995.636166   98.907377   2.475385       179.402970   \n",
       "44             7145  4166.034419  102.281548   2.455130       170.398253   \n",
       "45             7492  4335.477798  105.819588   2.440783       169.443379   \n",
       "46             7116  4487.629081  109.180064   2.432912       152.151282   \n",
       "47             7573  4636.137486  112.756355   2.432118       148.508405   \n",
       "48             7345  4790.582921  116.224975   2.426113       154.445435   \n",
       "49             8290  4970.219651  120.139864   2.417194       179.636730   \n",
       "50            10181  5169.399185  124.947763   2.417065       199.179534   \n",
       "51            12828  5405.954338  131.005688   2.423359       236.555153   \n",
       "52            15664  5647.458118  138.402891   2.450711       241.503780   \n",
       "53            17887  5902.392942  146.849890   2.487972       254.934824   \n",
       "54            19540  6120.210936  156.077505   2.550198       217.817994   \n",
       "55            21170  6352.571632  166.074875   2.614294       232.360696   \n",
       "56            20476  6569.910301  175.744509   2.674991       217.338668   \n",
       "57            17681  6760.299988  184.094225   2.723167       190.389688   \n",
       "58            16940  6957.733170  192.094010   2.760871       197.433182   \n",
       "59            14945  7158.473465  199.151672   2.782041       200.740295   \n",
       "\n",
       "    incidence_deaths  cases_growth_factor  deaths_growth_factor  \n",
       "0           0.008500             8.512821              0.000000  \n",
       "1           0.045808             2.832329              5.388889  \n",
       "2           0.155840             2.278625              3.402062  \n",
       "3           0.328681             1.650591              2.109091  \n",
       "4           0.582747             1.525353              1.772989  \n",
       "5           0.802340             1.379820              1.376823  \n",
       "6           1.292055             1.704939              1.610359  \n",
       "7           1.834661             1.567226              1.419956  \n",
       "8           2.364517             1.297659              1.288803  \n",
       "9           3.066742             1.509531              1.296984  \n",
       "10          3.163551             1.294902              1.031568  \n",
       "11          3.380783             1.149506              1.068667  \n",
       "12          3.181969             1.005207              0.941193  \n",
       "13          3.451147             1.255435              1.084595  \n",
       "14          3.333559             1.125962              0.965928  \n",
       "15          3.424229             1.057748              1.027199  \n",
       "16          3.385033             1.010639              0.988553  \n",
       "17          3.443591             0.884097              1.017299  \n",
       "18          3.620210             1.374059              1.051289  \n",
       "19          3.368032             0.974959              0.930342  \n",
       "20          3.296251             0.978933              0.978688  \n",
       "21          3.171579             0.984680              0.962178  \n",
       "22          3.312308             0.883223              1.044372  \n",
       "23          2.924124             0.988765              0.882806  \n",
       "24          2.702171             1.046538              0.924096  \n",
       "25          2.384351             0.700482              0.882384  \n",
       "26          2.495801             1.098465              1.046742  \n",
       "27          2.305487             0.894605              0.923746  \n",
       "28          2.165231             0.990543              0.939164  \n",
       "29          1.987668             0.933634              0.917993  \n",
       "30          1.631125             0.807957              0.820622  \n",
       "31          1.527704             1.114018              0.936595  \n",
       "32          1.407754             0.971038              0.921484  \n",
       "33          1.122048             0.769924              0.797048  \n",
       "34          1.601374             1.655057              1.427189  \n",
       "35          1.581540             1.047283              0.987614  \n",
       "36          1.698183             1.177669              1.073753  \n",
       "37          1.905026             1.174749              1.121802  \n",
       "38          2.135952             1.074158              1.121220  \n",
       "39          2.465105             1.095621              1.154101  \n",
       "40          2.102423             0.754142              0.852874  \n",
       "41          2.323904             0.993568              1.105346  \n",
       "42          3.275001             1.448325              1.409266  \n",
       "43          3.151273             1.050112              0.962221  \n",
       "44          3.374171             0.949807              1.070733  \n",
       "45          3.538039             0.994396              1.048565  \n",
       "46          3.360476             0.897948              0.949813  \n",
       "47          3.576291             0.976058              1.064221  \n",
       "48          3.468620             1.039978              0.969893  \n",
       "49          3.914889             1.163108              1.128659  \n",
       "50          4.807899             1.108791              1.228106  \n",
       "51          6.057925             1.187648              1.259994  \n",
       "52          7.397204             1.020920              1.221079  \n",
       "53          8.446998             1.055614              1.141918  \n",
       "54          9.227615             0.854407              1.092413  \n",
       "55          9.997370             1.066765              1.083419  \n",
       "56          9.669634             0.935350              0.967218  \n",
       "57          8.349717             0.876005              0.863499  \n",
       "58          7.999785             1.036995              0.958091  \n",
       "59          7.057662             1.016751              0.882231  "
      ]
     },
     "execution_count": 5,
     "metadata": {},
     "output_type": "execute_result"
    }
   ],
   "source": [
    "brasilDf"
   ]
  },
  {
   "cell_type": "code",
   "execution_count": 6,
   "metadata": {},
   "outputs": [],
   "source": [
    "#normalizando os dados de indicador a serem usados\n",
    "brasilDf['new_week_cases']=(brasilDf['new_week_cases']/brasilDf['new_week_cases'].max())*100\n",
    "brasilDf['new_week_deaths']=(brasilDf['new_week_deaths']/brasilDf['new_week_deaths'].max())*100\n",
    "statesDf['new_week_cases']=(statesDf['new_week_cases']/statesDf['new_week_cases'].max())*100\n",
    "statesDf['new_week_deaths']=(statesDf['new_week_deaths']/statesDf['new_week_deaths'].max())*100"
   ]
  },
  {
   "cell_type": "code",
   "execution_count": 7,
   "metadata": {},
   "outputs": [],
   "source": [
    "#extraindo apenas dados necessários das databases\n",
    "brasilDf=brasilDf.set_index('epidemiological_week')\n",
    "statesDf=statesDf.set_index('epidemiological_week')\n",
    "brasilDf=brasilDf[['new_week_cases','new_week_deaths','week_last_day']]\n",
    "statesDf=statesDf[['new_week_cases','new_week_deaths','week_last_day']]\n",
    "kwBR=kwBR.drop('date',axis=1)\n",
    "kwMG=kwMG.drop('date',axis=1)"
   ]
  },
  {
   "cell_type": "code",
   "execution_count": 8,
   "metadata": {},
   "outputs": [],
   "source": [
    "X=pd.DataFrame()\n",
    "X[Corr['Keyword'].iloc[0]]=kwBR[Corr['Keyword'].iloc[0]].copy()\n",
    "Y=brasilDf[[ind,'week_last_day']].copy()\n",
    "Y=Y.reset_index(drop=True)"
   ]
  },
  {
   "cell_type": "code",
   "execution_count": 9,
   "metadata": {},
   "outputs": [],
   "source": [
    "#unindo x e y\n",
    "df=X.copy()\n",
    "df[ind]=Y[ind].copy()\n",
    "df['date']=Y['week_last_day'].copy()\n",
    "#renomeando colunas para tirar espaço e facilitar a proxima etapa\n",
    "for i in df:\n",
    "    df.rename({i:i.replace(' ','_')},axis=1,inplace=True)\n",
    "#colocando o indice como as datas\n",
    "df['date']=pd.to_datetime(df['date'])\n",
    "df.set_index('date',inplace=True)\n",
    "df=df.asfreq('W-Sat')"
   ]
  },
  {
   "cell_type": "code",
   "execution_count": 10,
   "metadata": {},
   "outputs": [
    {
     "data": {
      "text/plain": [
       "['decreto_lockdown', 'new_week_deaths']"
      ]
     },
     "execution_count": 10,
     "metadata": {},
     "output_type": "execute_result"
    }
   ],
   "source": [
    "list(df.columns)"
   ]
  },
  {
   "cell_type": "markdown",
   "metadata": {},
   "source": [
    "# Previsão 1: Arimax com apenas a \"melhor\" keyword como parametro"
   ]
  },
  {
   "cell_type": "code",
   "execution_count": 11,
   "metadata": {},
   "outputs": [],
   "source": [
    "from statsmodels.tsa.arima.model import ARIMA "
   ]
  },
  {
   "cell_type": "code",
   "execution_count": 12,
   "metadata": {},
   "outputs": [],
   "source": [
    "#dividindo em treino e teste\n",
    "percentage=0.7\n",
    "trainsize=round(percentage*len(df))\n",
    "train=df[:trainsize]\n",
    "test=df[trainsize:]"
   ]
  },
  {
   "cell_type": "code",
   "execution_count": 13,
   "metadata": {},
   "outputs": [],
   "source": [
    "param1=pm.arima.auto_arima(train[ind],X=train.drop(ind,axis=1))\n",
    "order=param1.order"
   ]
  },
  {
   "cell_type": "code",
   "execution_count": 14,
   "metadata": {},
   "outputs": [
    {
     "name": "stdout",
     "output_type": "stream",
     "text": [
      "ARIMA (3, 0, 0)  erro= 3.700368733021278\n"
     ]
    }
   ],
   "source": [
    "#order foi o melhor resultado\n",
    "arimax=ARIMA(endog=train[ind],freq='W-Sat',order=order,exog=train.drop(ind,axis=1)).fit()\n",
    "forecast1=arimax.forecast(steps=len(test),exog=test.drop(ind,axis=1))\n",
    "terr_gtrends=np.sqrt((arimax.resid**2).mean())\n",
    "tmerr_gtrends=(np.abs(arimax.resid)).mean()\n",
    "print('ARIMA',order,' erro=',terr_gtrends)"
   ]
  },
  {
   "cell_type": "code",
   "execution_count": 15,
   "metadata": {},
   "outputs": [
    {
     "data": {
      "image/png": "[encoded data removed]",
      "text/plain": [
       "<Figure size 720x360 with 1 Axes>"
      ]
     },
     "metadata": {
      "needs_background": "light"
     },
     "output_type": "display_data"
    }
   ],
   "source": [
    "predict=arimax.get_forecast(steps=len(test),exog=test.drop(ind,axis=1)).summary_frame()\n",
    "plt.figure(figsize=(10,5))\n",
    "plt.plot(test[ind],label='test', linestyle='-', marker='o')\n",
    "plt.plot(forecast1,label='forecast', linestyle='-', marker='o')\n",
    "plt.plot(predict['mean_ci_lower'], color='#990099', marker='.', linestyle=':', label='Lower 95%')\n",
    "plt.plot(predict['mean_ci_upper'], color='#0000cc', marker='.', linestyle=':', label='Upper 95%')\n",
    "plt.fill_between(test.index,predict['mean_ci_lower'], predict['mean_ci_upper'], color = 'b', alpha = 0.15)\n",
    "plt.legend()\n",
    "plt.show()"
   ]
  },
  {
   "cell_type": "code",
   "execution_count": 16,
   "metadata": {
    "scrolled": true
   },
   "outputs": [
    {
     "data": {
      "image/png": "[encoded data removed]",
      "text/plain": [
       "<Figure size 720x360 with 1 Axes>"
      ]
     },
     "metadata": {
      "needs_background": "light"
     },
     "output_type": "display_data"
    }
   ],
   "source": [
    "plt.figure(figsize=(10,5))\n",
    "plt.plot(train[ind], linestyle='-',label='train')\n",
    "plt.plot(arimax.predict(), linestyle='-',label='model')\n",
    "plt.plot(test[ind],label='test',linestyle='-', marker='o')\n",
    "plt.plot(forecast1,label='predict', linestyle='-', marker='o')\n",
    "plt.legend()\n",
    "plt.show()"
   ]
  },
  {
   "cell_type": "code",
   "execution_count": 17,
   "metadata": {},
   "outputs": [
    {
     "data": {
      "text/html": [
       "<div>\n",
       "<style scoped>\n",
       "    .dataframe tbody tr th:only-of-type {\n",
       "        vertical-align: middle;\n",
       "    }\n",
       "\n",
       "    .dataframe tbody tr th {\n",
       "        vertical-align: top;\n",
       "    }\n",
       "\n",
       "    .dataframe thead th {\n",
       "        text-align: right;\n",
       "    }\n",
       "</style>\n",
       "<table border=\"1\" class=\"dataframe\">\n",
       "  <thead>\n",
       "    <tr style=\"text-align: right;\">\n",
       "      <th>new_week_deaths</th>\n",
       "      <th>mean</th>\n",
       "      <th>mean_se</th>\n",
       "      <th>mean_ci_lower</th>\n",
       "      <th>mean_ci_upper</th>\n",
       "    </tr>\n",
       "  </thead>\n",
       "  <tbody>\n",
       "    <tr>\n",
       "      <th>2021-01-09</th>\n",
       "      <td>21.428590</td>\n",
       "      <td>2.086613</td>\n",
       "      <td>17.338902</td>\n",
       "      <td>25.518277</td>\n",
       "    </tr>\n",
       "    <tr>\n",
       "      <th>2021-01-16</th>\n",
       "      <td>22.269501</td>\n",
       "      <td>3.129373</td>\n",
       "      <td>16.136043</td>\n",
       "      <td>28.402959</td>\n",
       "    </tr>\n",
       "    <tr>\n",
       "      <th>2021-01-23</th>\n",
       "      <td>21.285204</td>\n",
       "      <td>4.603813</td>\n",
       "      <td>12.261896</td>\n",
       "      <td>30.308512</td>\n",
       "    </tr>\n",
       "    <tr>\n",
       "      <th>2021-01-30</th>\n",
       "      <td>21.545533</td>\n",
       "      <td>5.768163</td>\n",
       "      <td>10.240142</td>\n",
       "      <td>32.850924</td>\n",
       "    </tr>\n",
       "    <tr>\n",
       "      <th>2021-02-06</th>\n",
       "      <td>21.001126</td>\n",
       "      <td>6.926232</td>\n",
       "      <td>7.425962</td>\n",
       "      <td>34.576290</td>\n",
       "    </tr>\n",
       "    <tr>\n",
       "      <th>2021-02-13</th>\n",
       "      <td>20.934910</td>\n",
       "      <td>7.848469</td>\n",
       "      <td>5.552194</td>\n",
       "      <td>36.317626</td>\n",
       "    </tr>\n",
       "    <tr>\n",
       "      <th>2021-02-20</th>\n",
       "      <td>20.689860</td>\n",
       "      <td>8.638657</td>\n",
       "      <td>3.758403</td>\n",
       "      <td>37.621317</td>\n",
       "    </tr>\n",
       "    <tr>\n",
       "      <th>2021-02-27</th>\n",
       "      <td>20.555066</td>\n",
       "      <td>9.235298</td>\n",
       "      <td>2.454214</td>\n",
       "      <td>38.655918</td>\n",
       "    </tr>\n",
       "    <tr>\n",
       "      <th>2021-03-06</th>\n",
       "      <td>20.166450</td>\n",
       "      <td>9.689113</td>\n",
       "      <td>1.176137</td>\n",
       "      <td>39.156763</td>\n",
       "    </tr>\n",
       "    <tr>\n",
       "      <th>2021-03-13</th>\n",
       "      <td>20.244631</td>\n",
       "      <td>10.000150</td>\n",
       "      <td>0.644698</td>\n",
       "      <td>39.844564</td>\n",
       "    </tr>\n",
       "    <tr>\n",
       "      <th>2021-03-20</th>\n",
       "      <td>22.958221</td>\n",
       "      <td>10.204623</td>\n",
       "      <td>2.957526</td>\n",
       "      <td>42.958915</td>\n",
       "    </tr>\n",
       "    <tr>\n",
       "      <th>2021-03-27</th>\n",
       "      <td>22.751001</td>\n",
       "      <td>10.322632</td>\n",
       "      <td>2.519014</td>\n",
       "      <td>42.982987</td>\n",
       "    </tr>\n",
       "    <tr>\n",
       "      <th>2021-04-03</th>\n",
       "      <td>22.214593</td>\n",
       "      <td>10.382609</td>\n",
       "      <td>1.865053</td>\n",
       "      <td>42.564133</td>\n",
       "    </tr>\n",
       "    <tr>\n",
       "      <th>2021-04-10</th>\n",
       "      <td>23.874536</td>\n",
       "      <td>10.405533</td>\n",
       "      <td>3.480067</td>\n",
       "      <td>44.269005</td>\n",
       "    </tr>\n",
       "    <tr>\n",
       "      <th>2021-04-17</th>\n",
       "      <td>22.093822</td>\n",
       "      <td>10.410386</td>\n",
       "      <td>1.689840</td>\n",
       "      <td>42.497804</td>\n",
       "    </tr>\n",
       "    <tr>\n",
       "      <th>2021-04-24</th>\n",
       "      <td>21.232352</td>\n",
       "      <td>10.410390</td>\n",
       "      <td>0.828362</td>\n",
       "      <td>41.636341</td>\n",
       "    </tr>\n",
       "    <tr>\n",
       "      <th>2021-05-01</th>\n",
       "      <td>20.945072</td>\n",
       "      <td>10.414068</td>\n",
       "      <td>0.533875</td>\n",
       "      <td>41.356270</td>\n",
       "    </tr>\n",
       "    <tr>\n",
       "      <th>2021-05-08</th>\n",
       "      <td>20.306512</td>\n",
       "      <td>10.425560</td>\n",
       "      <td>-0.127211</td>\n",
       "      <td>40.740234</td>\n",
       "    </tr>\n",
       "  </tbody>\n",
       "</table>\n",
       "</div>"
      ],
      "text/plain": [
       "new_week_deaths       mean    mean_se  mean_ci_lower  mean_ci_upper\n",
       "2021-01-09       21.428590   2.086613      17.338902      25.518277\n",
       "2021-01-16       22.269501   3.129373      16.136043      28.402959\n",
       "2021-01-23       21.285204   4.603813      12.261896      30.308512\n",
       "2021-01-30       21.545533   5.768163      10.240142      32.850924\n",
       "2021-02-06       21.001126   6.926232       7.425962      34.576290\n",
       "2021-02-13       20.934910   7.848469       5.552194      36.317626\n",
       "2021-02-20       20.689860   8.638657       3.758403      37.621317\n",
       "2021-02-27       20.555066   9.235298       2.454214      38.655918\n",
       "2021-03-06       20.166450   9.689113       1.176137      39.156763\n",
       "2021-03-13       20.244631  10.000150       0.644698      39.844564\n",
       "2021-03-20       22.958221  10.204623       2.957526      42.958915\n",
       "2021-03-27       22.751001  10.322632       2.519014      42.982987\n",
       "2021-04-03       22.214593  10.382609       1.865053      42.564133\n",
       "2021-04-10       23.874536  10.405533       3.480067      44.269005\n",
       "2021-04-17       22.093822  10.410386       1.689840      42.497804\n",
       "2021-04-24       21.232352  10.410390       0.828362      41.636341\n",
       "2021-05-01       20.945072  10.414068       0.533875      41.356270\n",
       "2021-05-08       20.306512  10.425560      -0.127211      40.740234"
      ]
     },
     "execution_count": 17,
     "metadata": {},
     "output_type": "execute_result"
    }
   ],
   "source": [
    "predict"
   ]
  },
  {
   "cell_type": "code",
   "execution_count": 18,
   "metadata": {},
   "outputs": [],
   "source": [
    "#erro da previsão\n",
    "from sklearn.metrics import mean_squared_error\n",
    "err_gtrends=mean_squared_error(forecast1,test[ind],squared=False)\n",
    "merr_gtrends= mean_absolute_error(forecast1,test[ind])"
   ]
  },
  {
   "cell_type": "markdown",
   "metadata": {},
   "source": [
    "# Teste 1: Arima apenas com o indicador"
   ]
  },
  {
   "cell_type": "code",
   "execution_count": 19,
   "metadata": {},
   "outputs": [],
   "source": [
    "param2=pm.arima.auto_arima(train[ind])\n",
    "order=param2.order"
   ]
  },
  {
   "cell_type": "code",
   "execution_count": 20,
   "metadata": {},
   "outputs": [
    {
     "name": "stdout",
     "output_type": "stream",
     "text": [
      "ARIMA (3, 0, 0)  erro= 3.741059927459121 2.032581215404774\n"
     ]
    }
   ],
   "source": [
    "#order foi o melhor resultado\n",
    "arima=ARIMA(train[ind],freq='W-Sat',order=order).fit()\n",
    "forecast2=arima.forecast(steps=len(test))\n",
    "terr_nogtrends=np.sqrt((arima.resid**2).mean())\n",
    "tmerr_nogtrends=(np.abs(arima.resid)).mean()\n",
    "print('ARIMA',order,' erro=',terr_nogtrends, tmerr_nogtrends)"
   ]
  },
  {
   "cell_type": "code",
   "execution_count": 21,
   "metadata": {},
   "outputs": [
    {
     "data": {
      "text/plain": [
       "const     1.882781e-07\n",
       "ar.L1     2.321967e-09\n",
       "ar.L2     3.478240e-01\n",
       "ar.L3     1.026381e-02\n",
       "sigma2    3.241871e-05\n",
       "dtype: float64"
      ]
     },
     "execution_count": 21,
     "metadata": {},
     "output_type": "execute_result"
    }
   ],
   "source": [
    "arima.pvalues"
   ]
  },
  {
   "cell_type": "code",
   "execution_count": 22,
   "metadata": {},
   "outputs": [
    {
     "data": {
      "image/png": "[encoded data removed]",
      "text/plain": [
       "<Figure size 720x360 with 1 Axes>"
      ]
     },
     "metadata": {
      "needs_background": "light"
     },
     "output_type": "display_data"
    }
   ],
   "source": [
    "predict=arima.get_forecast(steps=len(test)).summary_frame()\n",
    "plt.figure(figsize=(10,5))\n",
    "plt.plot(test[ind],label='test', linestyle='-', marker='o')\n",
    "plt.plot(forecast2,label='forecast', linestyle='-', marker='o')\n",
    "plt.plot(predict['mean_ci_lower'], color='#990099', marker='.', linestyle=':', label='Lower 95%')\n",
    "plt.plot(predict['mean_ci_upper'], color='#0000cc', marker='.', linestyle=':', label='Upper 95%')\n",
    "plt.fill_between(test.index,predict['mean_ci_lower'], predict['mean_ci_upper'], color = 'b', alpha = 0.15)\n",
    "plt.legend()\n",
    "plt.show()"
   ]
  },
  {
   "cell_type": "code",
   "execution_count": 23,
   "metadata": {
    "scrolled": true
   },
   "outputs": [
    {
     "data": {
      "image/png": "[encoded data removed]",
      "text/plain": [
       "<Figure size 720x360 with 1 Axes>"
      ]
     },
     "metadata": {
      "needs_background": "light"
     },
     "output_type": "display_data"
    }
   ],
   "source": [
    "plt.figure(figsize=(10,5))\n",
    "plt.plot(train[ind], linestyle='-',label='train')\n",
    "plt.plot(arima.predict(), linestyle='-',label='model')\n",
    "plt.plot(test[ind],label='test',linestyle='-', marker='o')\n",
    "plt.plot(forecast2,label='predict', linestyle='-', marker='o')\n",
    "plt.legend()\n",
    "plt.show()"
   ]
  },
  {
   "cell_type": "code",
   "execution_count": 24,
   "metadata": {},
   "outputs": [
    {
     "data": {
      "text/html": [
       "<div>\n",
       "<style scoped>\n",
       "    .dataframe tbody tr th:only-of-type {\n",
       "        vertical-align: middle;\n",
       "    }\n",
       "\n",
       "    .dataframe tbody tr th {\n",
       "        vertical-align: top;\n",
       "    }\n",
       "\n",
       "    .dataframe thead th {\n",
       "        text-align: right;\n",
       "    }\n",
       "</style>\n",
       "<table border=\"1\" class=\"dataframe\">\n",
       "  <thead>\n",
       "    <tr style=\"text-align: right;\">\n",
       "      <th>new_week_deaths</th>\n",
       "      <th>mean</th>\n",
       "      <th>mean_se</th>\n",
       "      <th>mean_ci_lower</th>\n",
       "      <th>mean_ci_upper</th>\n",
       "    </tr>\n",
       "  </thead>\n",
       "  <tbody>\n",
       "    <tr>\n",
       "      <th>2021-01-09</th>\n",
       "      <td>21.474596</td>\n",
       "      <td>2.113857</td>\n",
       "      <td>17.331513</td>\n",
       "      <td>25.617679</td>\n",
       "    </tr>\n",
       "    <tr>\n",
       "      <th>2021-01-16</th>\n",
       "      <td>22.289046</td>\n",
       "      <td>3.178679</td>\n",
       "      <td>16.058950</td>\n",
       "      <td>28.519142</td>\n",
       "    </tr>\n",
       "    <tr>\n",
       "      <th>2021-01-23</th>\n",
       "      <td>21.341645</td>\n",
       "      <td>4.674444</td>\n",
       "      <td>12.179903</td>\n",
       "      <td>30.503388</td>\n",
       "    </tr>\n",
       "    <tr>\n",
       "      <th>2021-01-30</th>\n",
       "      <td>21.549552</td>\n",
       "      <td>5.860992</td>\n",
       "      <td>10.062220</td>\n",
       "      <td>33.036884</td>\n",
       "    </tr>\n",
       "    <tr>\n",
       "      <th>2021-02-06</th>\n",
       "      <td>20.991712</td>\n",
       "      <td>7.036055</td>\n",
       "      <td>7.201298</td>\n",
       "      <td>34.782127</td>\n",
       "    </tr>\n",
       "    <tr>\n",
       "      <th>2021-02-13</th>\n",
       "      <td>20.963725</td>\n",
       "      <td>7.973459</td>\n",
       "      <td>5.336032</td>\n",
       "      <td>36.591418</td>\n",
       "    </tr>\n",
       "    <tr>\n",
       "      <th>2021-02-20</th>\n",
       "      <td>20.616490</td>\n",
       "      <td>8.773517</td>\n",
       "      <td>3.420713</td>\n",
       "      <td>37.812266</td>\n",
       "    </tr>\n",
       "    <tr>\n",
       "      <th>2021-02-27</th>\n",
       "      <td>20.524761</td>\n",
       "      <td>9.377167</td>\n",
       "      <td>2.145852</td>\n",
       "      <td>38.903669</td>\n",
       "    </tr>\n",
       "    <tr>\n",
       "      <th>2021-03-06</th>\n",
       "      <td>20.312161</td>\n",
       "      <td>9.833999</td>\n",
       "      <td>1.037878</td>\n",
       "      <td>39.586445</td>\n",
       "    </tr>\n",
       "    <tr>\n",
       "      <th>2021-03-13</th>\n",
       "      <td>20.232281</td>\n",
       "      <td>10.145817</td>\n",
       "      <td>0.346845</td>\n",
       "      <td>40.117717</td>\n",
       "    </tr>\n",
       "    <tr>\n",
       "      <th>2021-03-20</th>\n",
       "      <td>20.116705</td>\n",
       "      <td>10.348989</td>\n",
       "      <td>-0.166940</td>\n",
       "      <td>40.400350</td>\n",
       "    </tr>\n",
       "    <tr>\n",
       "      <th>2021-03-27</th>\n",
       "      <td>20.075641</td>\n",
       "      <td>10.464899</td>\n",
       "      <td>-0.435185</td>\n",
       "      <td>40.586467</td>\n",
       "    </tr>\n",
       "    <tr>\n",
       "      <th>2021-04-03</th>\n",
       "      <td>20.032050</td>\n",
       "      <td>10.522524</td>\n",
       "      <td>-0.591719</td>\n",
       "      <td>40.655819</td>\n",
       "    </tr>\n",
       "    <tr>\n",
       "      <th>2021-04-10</th>\n",
       "      <td>20.032184</td>\n",
       "      <td>10.543619</td>\n",
       "      <td>-0.632929</td>\n",
       "      <td>40.697298</td>\n",
       "    </tr>\n",
       "    <tr>\n",
       "      <th>2021-04-17</th>\n",
       "      <td>20.039332</td>\n",
       "      <td>10.547503</td>\n",
       "      <td>-0.633395</td>\n",
       "      <td>40.712059</td>\n",
       "    </tr>\n",
       "    <tr>\n",
       "      <th>2021-04-24</th>\n",
       "      <td>20.071499</td>\n",
       "      <td>10.547605</td>\n",
       "      <td>-0.601427</td>\n",
       "      <td>40.744425</td>\n",
       "    </tr>\n",
       "    <tr>\n",
       "      <th>2021-05-01</th>\n",
       "      <td>20.110124</td>\n",
       "      <td>10.552377</td>\n",
       "      <td>-0.572155</td>\n",
       "      <td>40.792403</td>\n",
       "    </tr>\n",
       "    <tr>\n",
       "      <th>2021-05-08</th>\n",
       "      <td>20.161136</td>\n",
       "      <td>10.565740</td>\n",
       "      <td>-0.547333</td>\n",
       "      <td>40.869605</td>\n",
       "    </tr>\n",
       "  </tbody>\n",
       "</table>\n",
       "</div>"
      ],
      "text/plain": [
       "new_week_deaths       mean    mean_se  mean_ci_lower  mean_ci_upper\n",
       "2021-01-09       21.474596   2.113857      17.331513      25.617679\n",
       "2021-01-16       22.289046   3.178679      16.058950      28.519142\n",
       "2021-01-23       21.341645   4.674444      12.179903      30.503388\n",
       "2021-01-30       21.549552   5.860992      10.062220      33.036884\n",
       "2021-02-06       20.991712   7.036055       7.201298      34.782127\n",
       "2021-02-13       20.963725   7.973459       5.336032      36.591418\n",
       "2021-02-20       20.616490   8.773517       3.420713      37.812266\n",
       "2021-02-27       20.524761   9.377167       2.145852      38.903669\n",
       "2021-03-06       20.312161   9.833999       1.037878      39.586445\n",
       "2021-03-13       20.232281  10.145817       0.346845      40.117717\n",
       "2021-03-20       20.116705  10.348989      -0.166940      40.400350\n",
       "2021-03-27       20.075641  10.464899      -0.435185      40.586467\n",
       "2021-04-03       20.032050  10.522524      -0.591719      40.655819\n",
       "2021-04-10       20.032184  10.543619      -0.632929      40.697298\n",
       "2021-04-17       20.039332  10.547503      -0.633395      40.712059\n",
       "2021-04-24       20.071499  10.547605      -0.601427      40.744425\n",
       "2021-05-01       20.110124  10.552377      -0.572155      40.792403\n",
       "2021-05-08       20.161136  10.565740      -0.547333      40.869605"
      ]
     },
     "execution_count": 24,
     "metadata": {},
     "output_type": "execute_result"
    }
   ],
   "source": [
    "predict"
   ]
  },
  {
   "cell_type": "code",
   "execution_count": 25,
   "metadata": {},
   "outputs": [],
   "source": [
    "#erro da previsão\n",
    "err_nogtrends=mean_squared_error(forecast2,test[ind],squared=False)\n",
    "merr_nogtrends= mean_absolute_error(forecast2,test[ind])"
   ]
  },
  {
   "cell_type": "code",
   "execution_count": 26,
   "metadata": {},
   "outputs": [
    {
     "name": "stdout",
     "output_type": "stream",
     "text": [
      "Erro da previsão sem gtrends:  46.30276271522682 \n",
      "Erro da previsão com gtrends:  45.019503835852284\n"
     ]
    }
   ],
   "source": [
    "#comparando os erros das previsões\n",
    "print(\"Erro da previsão sem gtrends: \",err_nogtrends,\"\\nErro da previsão com gtrends: \",err_gtrends)"
   ]
  },
  {
   "cell_type": "markdown",
   "metadata": {},
   "source": [
    "# Sobre a previsão 1\n",
    "Temos uma previsão, mas será que os dados google trends realmente a auxiliaram?\n",
    "\n",
    "O que pode-se observar, é que realmente auxiliaram a previsão de casos, mas não a de mortes."
   ]
  },
  {
   "cell_type": "markdown",
   "metadata": {},
   "source": [
    "# Previsão 2 - Usando todas as keywords com alta correlação até um determinado lag"
   ]
  },
  {
   "cell_type": "code",
   "execution_count": 27,
   "metadata": {},
   "outputs": [],
   "source": [
    "kwBR=pd.read_csv('dados\\\\SeriesKeywords.csv')\n",
    "kwMG=pd.read_csv('dados\\\\SeriesKeywordsMg.csv')\n",
    "kwBR=kwBR[:63]\n",
    "kwMG=kwMG[:63]\n",
    "conn =sqlite3.connect(\"dados\\\\indicadores.db\")\n",
    "brasilDf=pd.read_sql_query(\"select * from brazil_df\",conn)\n",
    "statesDf=pd.read_sql_query(\"select * from states_df\",conn)\n",
    "conn.close()"
   ]
  },
  {
   "cell_type": "code",
   "execution_count": 28,
   "metadata": {},
   "outputs": [],
   "source": [
    "#obtendo dados apenas das semanas desejadas dos indicadores\n",
    "#lag é o max lag a ser explorado\n",
    "lag=4\n",
    "brasilDf=brasilDf.iloc[lag:].reset_index(drop=True)\n",
    "statesDf=statesDf[statesDf['state']=='MG']\n",
    "statesDf=statesDf.iloc[lag:].reset_index(drop=True)"
   ]
  },
  {
   "cell_type": "code",
   "execution_count": 29,
   "metadata": {},
   "outputs": [],
   "source": [
    "#normalizando os dados de indicador a serem usados\n",
    "brasilDf['new_week_cases']=(brasilDf['new_week_cases']/brasilDf['new_week_cases'].max())*100\n",
    "brasilDf['new_week_deaths']=(brasilDf['new_week_deaths']/brasilDf['new_week_deaths'].max())*100\n",
    "statesDf['new_week_cases']=(statesDf['new_week_cases']/statesDf['new_week_cases'].max())*100\n",
    "statesDf['new_week_deaths']=(statesDf['new_week_deaths']/statesDf['new_week_deaths'].max())*100"
   ]
  },
  {
   "cell_type": "code",
   "execution_count": 30,
   "metadata": {},
   "outputs": [],
   "source": [
    "#extraindo apenas dados necessários das databases\n",
    "brasilDf=brasilDf.set_index('epidemiological_week')\n",
    "statesDf=statesDf.set_index('epidemiological_week')\n",
    "brasilDf=brasilDf[['new_week_cases','new_week_deaths','week_last_day']]\n",
    "statesDf=statesDf[['new_week_cases','new_week_deaths','week_last_day']]\n",
    "kwBR=kwBR.drop('date',axis=1)\n",
    "kwMG=kwMG.drop('date',axis=1)"
   ]
  },
  {
   "cell_type": "code",
   "execution_count": 31,
   "metadata": {},
   "outputs": [],
   "source": [
    "X=pd.DataFrame()\n",
    "for i in range(len(Corr)):\n",
    "    if Corr['Lag'].iloc[i]<=lag and Corr['Lag'].iloc[i]>0 and np.abs(Corr['MaxCorrelation'].iloc[i])>=0.7:\n",
    "        try:\n",
    "            X[Corr['Keyword'].iloc[i]]=kwBR[lag-Corr['Lag'].iloc[i]:-Corr['Lag'].iloc[i]].reset_index()[Corr['Keyword'].iloc[i]].copy()\n",
    "        except:\n",
    "            print(i,Corr['Keyword'].iloc[i])\n",
    "Y=brasilDf[[ind,'week_last_day']].copy()\n",
    "Y=Y.reset_index(drop=True)"
   ]
  },
  {
   "cell_type": "code",
   "execution_count": 32,
   "metadata": {},
   "outputs": [],
   "source": [
    "#unindo x e y\n",
    "df=X.copy()\n",
    "df[ind]=Y[ind].copy()\n",
    "df['date']=Y['week_last_day'].copy()\n",
    "#renomeando colunas para tirar espaço e facilitar a proxima etapa\n",
    "for i in df:\n",
    "    df.rename({i:i.replace(' ','_')},axis=1,inplace=True)\n",
    "#colocando o indice como as datas\n",
    "df['date']=pd.to_datetime(df['date'])\n",
    "df.set_index('date',inplace=True)\n",
    "df=df.asfreq('W-Sat')"
   ]
  },
  {
   "cell_type": "code",
   "execution_count": 33,
   "metadata": {},
   "outputs": [
    {
     "data": {
      "text/plain": [
       "['decreto_lockdown',\n",
       " 'covid',\n",
       " 'estou_com_covid',\n",
       " 'peguei_covid',\n",
       " 'oximetro',\n",
       " 'oximetro_de_dedo',\n",
       " 'teste_covid',\n",
       " 'tomar_ivermectina',\n",
       " 'sintomas_do_covid',\n",
       " 'reagente_igg',\n",
       " 'taxa_de_ocupação_de_leitos',\n",
       " 'teste_rápido_covid',\n",
       " 'exame_covid',\n",
       " 'new_week_deaths']"
      ]
     },
     "execution_count": 33,
     "metadata": {},
     "output_type": "execute_result"
    }
   ],
   "source": [
    "list(df.columns)"
   ]
  },
  {
   "cell_type": "code",
   "execution_count": 34,
   "metadata": {},
   "outputs": [],
   "source": [
    "#dividindo em treino e teste\n",
    "trainsize=round(percentage*len(df))\n",
    "train=df[:trainsize]\n",
    "test=df[trainsize:]"
   ]
  },
  {
   "cell_type": "code",
   "execution_count": 35,
   "metadata": {},
   "outputs": [],
   "source": [
    "param3=pm.arima.auto_arima(train[ind],X=train.drop(ind,axis=1))\n",
    "order=param3.order"
   ]
  },
  {
   "cell_type": "code",
   "execution_count": 36,
   "metadata": {},
   "outputs": [
    {
     "name": "stdout",
     "output_type": "stream",
     "text": [
      "ARIMA (0, 0, 1)  erro= 1.8288192806926706 1.5279897354340473\n"
     ]
    },
    {
     "name": "stderr",
     "output_type": "stream",
     "text": [
      "C:\\Users\\msart\\anaconda3\\lib\\site-packages\\statsmodels\\base\\model.py:568: ConvergenceWarning: Maximum Likelihood optimization failed to converge. Check mle_retvals\n",
      "  ConvergenceWarning)\n"
     ]
    }
   ],
   "source": [
    "#order foi o melhor resultado\n",
    "arimax=ARIMA(endog=train[ind],freq='W-Sat',order=order,exog=train.drop(ind,axis=1)).fit()\n",
    "forecast3=arimax.forecast(steps=len(test),exog=test.drop(ind,axis=1))\n",
    "terr_keywords=np.sqrt((arimax.resid**2).mean())\n",
    "tmerr_keywords=(np.abs(arimax.resid)).mean()\n",
    "print('ARIMA',order,' erro=',terr_keywords,tmerr_keywords)"
   ]
  },
  {
   "cell_type": "code",
   "execution_count": 37,
   "metadata": {},
   "outputs": [
    {
     "data": {
      "text/plain": [
       "const                         9.621550e-01\n",
       "decreto_lockdown              1.367416e-02\n",
       "covid                         3.873242e-02\n",
       "estou_com_covid               4.612893e-01\n",
       "peguei_covid                  6.666884e-01\n",
       "oximetro                      6.932923e-01\n",
       "oximetro_de_dedo              2.536582e-01\n",
       "teste_covid                   4.608025e-01\n",
       "tomar_ivermectina             4.166896e-02\n",
       "sintomas_do_covid             1.230749e-01\n",
       "reagente_igg                  1.594323e-02\n",
       "taxa_de_ocupação_de_leitos    2.749509e-01\n",
       "teste_rápido_covid            3.580257e-03\n",
       "exame_covid                   5.958833e-01\n",
       "ma.L1                         7.714935e-11\n",
       "sigma2                        9.693588e-03\n",
       "dtype: float64"
      ]
     },
     "execution_count": 37,
     "metadata": {},
     "output_type": "execute_result"
    }
   ],
   "source": [
    "arimax.pvalues"
   ]
  },
  {
   "cell_type": "code",
   "execution_count": 38,
   "metadata": {},
   "outputs": [
    {
     "data": {
      "image/png": "[encoded data removed]",
      "text/plain": [
       "<Figure size 720x360 with 1 Axes>"
      ]
     },
     "metadata": {
      "needs_background": "light"
     },
     "output_type": "display_data"
    }
   ],
   "source": [
    "predict=arimax.get_forecast(steps=len(test),exog=test.drop(ind,axis=1)).summary_frame()\n",
    "plt.figure(figsize=(10,5))\n",
    "plt.plot(test[ind],label='test', linestyle='-', marker='o')\n",
    "plt.plot(forecast3,label='forecast', linestyle='-', marker='o')\n",
    "#plt.plot(predict['mean_ci_lower'], color='#990099', marker='.', linestyle=':', label='Lower 95%')\n",
    "#plt.plot(predict['mean_ci_upper'], color='#0000cc', marker='.', linestyle=':', label='Upper 95%')\n",
    "#plt.fill_between(test.index,predict['mean_ci_lower'], predict['mean_ci_upper'], color = 'b', alpha = 0.15)\n",
    "plt.legend()\n",
    "plt.show()"
   ]
  },
  {
   "cell_type": "code",
   "execution_count": 39,
   "metadata": {
    "scrolled": true
   },
   "outputs": [
    {
     "data": {
      "image/png": "[encoded data removed]",
      "text/plain": [
       "<Figure size 720x360 with 1 Axes>"
      ]
     },
     "metadata": {
      "needs_background": "light"
     },
     "output_type": "display_data"
    }
   ],
   "source": [
    "plt.figure(figsize=(10,5))\n",
    "plt.plot(train[ind], linestyle='-',label='train')\n",
    "plt.plot(arimax.predict(), linestyle='-',label='model')\n",
    "plt.plot(test[ind],label='test',linestyle='-', marker='o')\n",
    "plt.plot(forecast3,label='predict', linestyle='-', marker='o')\n",
    "plt.legend()\n",
    "plt.show()"
   ]
  },
  {
   "cell_type": "code",
   "execution_count": 40,
   "metadata": {},
   "outputs": [
    {
     "name": "stdout",
     "output_type": "stream",
     "text": [
      "27.487833175459173 22.595451161488267\n"
     ]
    }
   ],
   "source": [
    "err_keywords=mean_squared_error(forecast3,test[ind],squared=False)\n",
    "merr_keywords= mean_absolute_error(forecast3,test[ind])\n",
    "print(err_keywords,merr_keywords)"
   ]
  },
  {
   "cell_type": "markdown",
   "metadata": {},
   "source": [
    "# Previsão 3: Usando Arimax com as keywords Gtrends e new_week_cases com o lag que garante maior correlação"
   ]
  },
  {
   "cell_type": "code",
   "execution_count": 41,
   "metadata": {},
   "outputs": [],
   "source": [
    "kwBR=pd.read_csv('dados\\\\SeriesKeywords.csv')\n",
    "kwMG=pd.read_csv('dados\\\\SeriesKeywordsMg.csv')\n",
    "kwBR=kwBR[:63]\n",
    "kwMG=kwMG[:63]\n",
    "conn =sqlite3.connect(\"dados\\\\indicadores.db\")\n",
    "brasilDf=pd.read_sql_query(\"select * from brazil_df\",conn)\n",
    "brasilDf2=pd.read_sql_query(\"select * from brazil_df\",conn)\n",
    "statesDf=pd.read_sql_query(\"select * from states_df\",conn)\n",
    "conn.close()"
   ]
  },
  {
   "cell_type": "code",
   "execution_count": 42,
   "metadata": {},
   "outputs": [],
   "source": [
    "#obtendo dados apenas das semanas desejadas dos indicadores\n",
    "#lag é o max lag a ser explorado\n",
    "lag=4\n",
    "brasilDf=brasilDf.iloc[lag:].reset_index(drop=True)\n",
    "statesDf=statesDf[statesDf['state']=='MG']\n",
    "statesDf=statesDf.iloc[lag:].reset_index(drop=True)"
   ]
  },
  {
   "cell_type": "code",
   "execution_count": 43,
   "metadata": {},
   "outputs": [],
   "source": [
    "#normalizando os dados de indicador a serem usados\n",
    "brasilDf['new_week_cases']=(brasilDf['new_week_cases']/brasilDf['new_week_cases'].max())*100\n",
    "brasilDf2['new_week_cases']=(brasilDf2['new_week_cases']/brasilDf2['new_week_cases'].max())*100\n",
    "brasilDf['new_week_deaths']=(brasilDf['new_week_deaths']/brasilDf['new_week_deaths'].max())*100\n",
    "statesDf['new_week_cases']=(statesDf['new_week_cases']/statesDf['new_week_cases'].max())*100\n",
    "statesDf['new_week_deaths']=(statesDf['new_week_deaths']/statesDf['new_week_deaths'].max())*100"
   ]
  },
  {
   "cell_type": "code",
   "execution_count": 44,
   "metadata": {},
   "outputs": [],
   "source": [
    "#extraindo apenas dados necessários das databases\n",
    "brasilDf=brasilDf.set_index('epidemiological_week')\n",
    "statesDf=statesDf.set_index('epidemiological_week')\n",
    "brasilDf=brasilDf[['new_week_cases','new_week_deaths','week_last_day']]\n",
    "statesDf=statesDf[['new_week_cases','new_week_deaths','week_last_day']]\n",
    "kwBR=kwBR.drop('date',axis=1)\n",
    "kwMG=kwMG.drop('date',axis=1)"
   ]
  },
  {
   "cell_type": "code",
   "execution_count": 45,
   "metadata": {},
   "outputs": [],
   "source": [
    "X=pd.DataFrame()\n",
    "for i in range(len(Corr)):\n",
    "    if Corr['Lag'].iloc[i]<=lag and Corr['Lag'].iloc[i]>0 and np.abs(Corr['MaxCorrelation'].iloc[i])>=0.7:\n",
    "        try:\n",
    "            X[Corr['Keyword'].iloc[i]]=kwBR[lag-Corr['Lag'].iloc[i]:-Corr['Lag'].iloc[i]].reset_index()[Corr['Keyword'].iloc[i]].copy()\n",
    "        except:\n",
    "            print(i,Corr['Keyword'].iloc[i])\n",
    "Y=brasilDf[[ind,'week_last_day']].copy()\n",
    "Y=Y.reset_index(drop=True)"
   ]
  },
  {
   "cell_type": "code",
   "execution_count": 46,
   "metadata": {},
   "outputs": [
    {
     "name": "stdout",
     "output_type": "stream",
     "text": [
      "0.8036820572764465 3\n"
     ]
    }
   ],
   "source": [
    "#achando o lag otimo para new_week_cases\n",
    "k=pd.DataFrame()\n",
    "k[ind]=Y[ind]\n",
    "maxcor=0\n",
    "for i in range(0,5):\n",
    "    k['new_week_cases']=brasilDf2[i:-(4-i)].reset_index()['new_week_cases']\n",
    "    cor=k.corr(method='spearman')['new_week_cases'].loc['new_week_deaths']\n",
    "    if(cor>maxcor):\n",
    "        maxcor=cor\n",
    "        newcaseslag=i\n",
    "print(maxcor,newcaseslag)"
   ]
  },
  {
   "cell_type": "code",
   "execution_count": 47,
   "metadata": {},
   "outputs": [],
   "source": [
    "#unindo x e y\n",
    "df=X.copy()\n",
    "df[ind]=Y[ind].copy()\n",
    "df['date']=Y['week_last_day'].copy()\n",
    "#renomeando colunas para tirar espaço e facilitar a proxima etapa\n",
    "for i in df:\n",
    "    df.rename({i:i.replace(' ','_')},axis=1,inplace=True)\n",
    "df['new_week_cases']=brasilDf2[newcaseslag:-(4-newcaseslag)].reset_index()['new_week_cases']\n",
    "#colocando o indice como as datas\n",
    "df['date']=pd.to_datetime(df['date'])\n",
    "df.set_index('date',inplace=True)\n",
    "df=df.asfreq('W-Sat')"
   ]
  },
  {
   "cell_type": "code",
   "execution_count": 48,
   "metadata": {},
   "outputs": [
    {
     "data": {
      "text/plain": [
       "['decreto_lockdown',\n",
       " 'covid',\n",
       " 'estou_com_covid',\n",
       " 'peguei_covid',\n",
       " 'oximetro',\n",
       " 'oximetro_de_dedo',\n",
       " 'teste_covid',\n",
       " 'tomar_ivermectina',\n",
       " 'sintomas_do_covid',\n",
       " 'reagente_igg',\n",
       " 'taxa_de_ocupação_de_leitos',\n",
       " 'teste_rápido_covid',\n",
       " 'exame_covid',\n",
       " 'new_week_deaths',\n",
       " 'new_week_cases']"
      ]
     },
     "execution_count": 48,
     "metadata": {},
     "output_type": "execute_result"
    }
   ],
   "source": [
    "list(df.columns)"
   ]
  },
  {
   "cell_type": "code",
   "execution_count": 49,
   "metadata": {},
   "outputs": [],
   "source": [
    "#dividindo em treino e teste\n",
    "trainsize=round(percentage*len(df))\n",
    "train=df[:trainsize]\n",
    "test=df[trainsize:]"
   ]
  },
  {
   "cell_type": "code",
   "execution_count": 50,
   "metadata": {},
   "outputs": [],
   "source": [
    "param4=pm.arima.auto_arima(train[ind],X=train.drop(ind,axis=1))\n",
    "order=param4.order"
   ]
  },
  {
   "cell_type": "code",
   "execution_count": 51,
   "metadata": {},
   "outputs": [
    {
     "name": "stdout",
     "output_type": "stream",
     "text": [
      "ARIMA (0, 0, 1)  erro= 1.8448441179551331\n"
     ]
    },
    {
     "name": "stderr",
     "output_type": "stream",
     "text": [
      "C:\\Users\\msart\\anaconda3\\lib\\site-packages\\statsmodels\\base\\model.py:568: ConvergenceWarning: Maximum Likelihood optimization failed to converge. Check mle_retvals\n",
      "  ConvergenceWarning)\n"
     ]
    }
   ],
   "source": [
    "#order foi o melhor resultado\n",
    "arimax=ARIMA(endog=train[ind],freq='W-Sat',order=order,exog=train.drop(ind,axis=1)).fit()\n",
    "forecast4=arimax.forecast(steps=len(test),exog=test.drop(ind,axis=1))\n",
    "terr_allparameters=np.sqrt((arimax.resid**2).mean())\n",
    "tmerr_allparameters=(np.abs(arimax.resid)).mean()\n",
    "print('ARIMA',order,' erro=',terr_allparameters)"
   ]
  },
  {
   "cell_type": "code",
   "execution_count": 52,
   "metadata": {},
   "outputs": [
    {
     "data": {
      "image/png": "[encoded data removed]",
      "text/plain": [
       "<Figure size 720x360 with 1 Axes>"
      ]
     },
     "metadata": {
      "needs_background": "light"
     },
     "output_type": "display_data"
    }
   ],
   "source": [
    "predict=arimax.get_forecast(steps=len(test),exog=test.drop(ind,axis=1)).summary_frame()\n",
    "plt.figure(figsize=(10,5))\n",
    "plt.plot(test[ind],label='test', linestyle='-', marker='o')\n",
    "plt.plot(forecast4,label='forecast', linestyle='-', marker='o')\n",
    "#plt.plot(predict['mean_ci_lower'], color='#990099', marker='.', linestyle=':', label='Lower 95%')\n",
    "#plt.plot(predict['mean_ci_upper'], color='#0000cc', marker='.', linestyle=':', label='Upper 95%')\n",
    "#plt.fill_between(test.index,predict['mean_ci_lower'], predict['mean_ci_upper'], color = 'b', alpha = 0.15)\n",
    "plt.legend()\n",
    "plt.show()"
   ]
  },
  {
   "cell_type": "code",
   "execution_count": 53,
   "metadata": {
    "scrolled": true
   },
   "outputs": [
    {
     "data": {
      "image/png": "[encoded data removed]",
      "text/plain": [
       "<Figure size 720x360 with 1 Axes>"
      ]
     },
     "metadata": {
      "needs_background": "light"
     },
     "output_type": "display_data"
    }
   ],
   "source": [
    "plt.figure(figsize=(10,5))\n",
    "plt.plot(train[ind], linestyle='-',label='train')\n",
    "plt.plot(arimax.predict(), linestyle='-',label='model')\n",
    "plt.plot(test[ind],label='test',linestyle='-', marker='o')\n",
    "plt.plot(forecast4,label='predict', linestyle='-', marker='o')\n",
    "plt.legend()\n",
    "plt.show()"
   ]
  },
  {
   "cell_type": "code",
   "execution_count": 54,
   "metadata": {
    "scrolled": true
   },
   "outputs": [
    {
     "data": {
      "text/html": [
       "<div>\n",
       "<style scoped>\n",
       "    .dataframe tbody tr th:only-of-type {\n",
       "        vertical-align: middle;\n",
       "    }\n",
       "\n",
       "    .dataframe tbody tr th {\n",
       "        vertical-align: top;\n",
       "    }\n",
       "\n",
       "    .dataframe thead th {\n",
       "        text-align: right;\n",
       "    }\n",
       "</style>\n",
       "<table border=\"1\" class=\"dataframe\">\n",
       "  <thead>\n",
       "    <tr style=\"text-align: right;\">\n",
       "      <th>new_week_deaths</th>\n",
       "      <th>mean</th>\n",
       "      <th>mean_se</th>\n",
       "      <th>mean_ci_lower</th>\n",
       "      <th>mean_ci_upper</th>\n",
       "    </tr>\n",
       "  </thead>\n",
       "  <tbody>\n",
       "    <tr>\n",
       "      <th>2021-01-09</th>\n",
       "      <td>26.196363</td>\n",
       "      <td>1.792431</td>\n",
       "      <td>22.683263</td>\n",
       "      <td>29.709463</td>\n",
       "    </tr>\n",
       "    <tr>\n",
       "      <th>2021-01-16</th>\n",
       "      <td>31.005298</td>\n",
       "      <td>2.284371</td>\n",
       "      <td>26.528014</td>\n",
       "      <td>35.482582</td>\n",
       "    </tr>\n",
       "    <tr>\n",
       "      <th>2021-01-23</th>\n",
       "      <td>37.366339</td>\n",
       "      <td>2.284371</td>\n",
       "      <td>32.889055</td>\n",
       "      <td>41.843623</td>\n",
       "    </tr>\n",
       "    <tr>\n",
       "      <th>2021-01-30</th>\n",
       "      <td>34.310248</td>\n",
       "      <td>2.284371</td>\n",
       "      <td>29.832964</td>\n",
       "      <td>38.787532</td>\n",
       "    </tr>\n",
       "    <tr>\n",
       "      <th>2021-02-06</th>\n",
       "      <td>31.612953</td>\n",
       "      <td>2.284371</td>\n",
       "      <td>27.135669</td>\n",
       "      <td>36.090237</td>\n",
       "    </tr>\n",
       "    <tr>\n",
       "      <th>2021-02-13</th>\n",
       "      <td>28.359019</td>\n",
       "      <td>2.284371</td>\n",
       "      <td>23.881735</td>\n",
       "      <td>32.836303</td>\n",
       "    </tr>\n",
       "    <tr>\n",
       "      <th>2021-02-20</th>\n",
       "      <td>24.781831</td>\n",
       "      <td>2.284371</td>\n",
       "      <td>20.304547</td>\n",
       "      <td>29.259115</td>\n",
       "    </tr>\n",
       "    <tr>\n",
       "      <th>2021-02-27</th>\n",
       "      <td>25.961120</td>\n",
       "      <td>2.284371</td>\n",
       "      <td>21.483836</td>\n",
       "      <td>30.438404</td>\n",
       "    </tr>\n",
       "    <tr>\n",
       "      <th>2021-03-06</th>\n",
       "      <td>24.889011</td>\n",
       "      <td>2.284371</td>\n",
       "      <td>20.411727</td>\n",
       "      <td>29.366295</td>\n",
       "    </tr>\n",
       "    <tr>\n",
       "      <th>2021-03-13</th>\n",
       "      <td>28.796682</td>\n",
       "      <td>2.284371</td>\n",
       "      <td>24.319398</td>\n",
       "      <td>33.273966</td>\n",
       "    </tr>\n",
       "    <tr>\n",
       "      <th>2021-03-20</th>\n",
       "      <td>47.461959</td>\n",
       "      <td>2.284371</td>\n",
       "      <td>42.984675</td>\n",
       "      <td>51.939243</td>\n",
       "    </tr>\n",
       "    <tr>\n",
       "      <th>2021-03-27</th>\n",
       "      <td>53.904405</td>\n",
       "      <td>2.284371</td>\n",
       "      <td>49.427121</td>\n",
       "      <td>58.381689</td>\n",
       "    </tr>\n",
       "    <tr>\n",
       "      <th>2021-04-03</th>\n",
       "      <td>51.317979</td>\n",
       "      <td>2.284371</td>\n",
       "      <td>46.840695</td>\n",
       "      <td>55.795263</td>\n",
       "    </tr>\n",
       "    <tr>\n",
       "      <th>2021-04-10</th>\n",
       "      <td>59.888281</td>\n",
       "      <td>2.284371</td>\n",
       "      <td>55.410997</td>\n",
       "      <td>64.365565</td>\n",
       "    </tr>\n",
       "    <tr>\n",
       "      <th>2021-04-17</th>\n",
       "      <td>59.114004</td>\n",
       "      <td>2.284371</td>\n",
       "      <td>54.636720</td>\n",
       "      <td>63.591288</td>\n",
       "    </tr>\n",
       "    <tr>\n",
       "      <th>2021-04-24</th>\n",
       "      <td>51.623156</td>\n",
       "      <td>2.284371</td>\n",
       "      <td>47.145872</td>\n",
       "      <td>56.100440</td>\n",
       "    </tr>\n",
       "    <tr>\n",
       "      <th>2021-05-01</th>\n",
       "      <td>42.822015</td>\n",
       "      <td>2.284371</td>\n",
       "      <td>38.344731</td>\n",
       "      <td>47.299299</td>\n",
       "    </tr>\n",
       "    <tr>\n",
       "      <th>2021-05-08</th>\n",
       "      <td>36.057288</td>\n",
       "      <td>2.284371</td>\n",
       "      <td>31.580004</td>\n",
       "      <td>40.534572</td>\n",
       "    </tr>\n",
       "  </tbody>\n",
       "</table>\n",
       "</div>"
      ],
      "text/plain": [
       "new_week_deaths       mean   mean_se  mean_ci_lower  mean_ci_upper\n",
       "2021-01-09       26.196363  1.792431      22.683263      29.709463\n",
       "2021-01-16       31.005298  2.284371      26.528014      35.482582\n",
       "2021-01-23       37.366339  2.284371      32.889055      41.843623\n",
       "2021-01-30       34.310248  2.284371      29.832964      38.787532\n",
       "2021-02-06       31.612953  2.284371      27.135669      36.090237\n",
       "2021-02-13       28.359019  2.284371      23.881735      32.836303\n",
       "2021-02-20       24.781831  2.284371      20.304547      29.259115\n",
       "2021-02-27       25.961120  2.284371      21.483836      30.438404\n",
       "2021-03-06       24.889011  2.284371      20.411727      29.366295\n",
       "2021-03-13       28.796682  2.284371      24.319398      33.273966\n",
       "2021-03-20       47.461959  2.284371      42.984675      51.939243\n",
       "2021-03-27       53.904405  2.284371      49.427121      58.381689\n",
       "2021-04-03       51.317979  2.284371      46.840695      55.795263\n",
       "2021-04-10       59.888281  2.284371      55.410997      64.365565\n",
       "2021-04-17       59.114004  2.284371      54.636720      63.591288\n",
       "2021-04-24       51.623156  2.284371      47.145872      56.100440\n",
       "2021-05-01       42.822015  2.284371      38.344731      47.299299\n",
       "2021-05-08       36.057288  2.284371      31.580004      40.534572"
      ]
     },
     "execution_count": 54,
     "metadata": {},
     "output_type": "execute_result"
    }
   ],
   "source": [
    "predict"
   ]
  },
  {
   "cell_type": "code",
   "execution_count": 55,
   "metadata": {},
   "outputs": [],
   "source": [
    "err_allparameters=mean_squared_error(forecast4,test[ind],squared=False)\n",
    "merr_allparameters= mean_absolute_error(forecast4,test[ind])"
   ]
  },
  {
   "cell_type": "markdown",
   "metadata": {},
   "source": [
    "# Teste 2- Arimax apenas com o new_week_cases com lag"
   ]
  },
  {
   "cell_type": "code",
   "execution_count": 56,
   "metadata": {},
   "outputs": [],
   "source": [
    "param5=pm.arima.auto_arima(train[ind],X=train['new_week_cases'].values.reshape(-1,1))\n",
    "order=param5.order"
   ]
  },
  {
   "cell_type": "code",
   "execution_count": 57,
   "metadata": {},
   "outputs": [
    {
     "name": "stdout",
     "output_type": "stream",
     "text": [
      "ARIMA (1, 1, 2)  erro= 2.07889141884623\n"
     ]
    }
   ],
   "source": [
    "#order foi o melhor resultado\n",
    "arimax=ARIMA(endog=train[ind],freq='W-Sat',order=order,exog=train['new_week_cases']).fit()\n",
    "forecast5=arimax.forecast(steps=len(test),exog=test['new_week_cases'])\n",
    "terr_nwcases=np.sqrt((arimax.resid**2).mean())\n",
    "tmerr_nwcases=(np.abs(arimax.resid)).mean()\n",
    "print('ARIMA',order,' erro=',terr_nwcases)"
   ]
  },
  {
   "cell_type": "code",
   "execution_count": 58,
   "metadata": {},
   "outputs": [
    {
     "data": {
      "image/png": "[encoded data removed]",
      "text/plain": [
       "<Figure size 720x360 with 1 Axes>"
      ]
     },
     "metadata": {
      "needs_background": "light"
     },
     "output_type": "display_data"
    }
   ],
   "source": [
    "predict=arimax.get_forecast(steps=len(test),exog=test['new_week_cases']).summary_frame()\n",
    "plt.figure(figsize=(10,5))\n",
    "plt.plot(test[ind],label='test', linestyle='-', marker='o')\n",
    "plt.plot(forecast5,label='forecast', linestyle='-', marker='o')\n",
    "plt.plot(predict['mean_ci_lower'], color='#990099', marker='.', linestyle=':', label='Lower 95%')\n",
    "plt.plot(predict['mean_ci_upper'], color='#0000cc', marker='.', linestyle=':', label='Upper 95%')\n",
    "plt.fill_between(test.index,predict['mean_ci_lower'], predict['mean_ci_upper'], color = 'b', alpha = 0.15)\n",
    "plt.legend()\n",
    "plt.show()"
   ]
  },
  {
   "cell_type": "code",
   "execution_count": 59,
   "metadata": {
    "scrolled": true
   },
   "outputs": [
    {
     "data": {
      "image/png": "[encoded data removed]",
      "text/plain": [
       "<Figure size 720x360 with 1 Axes>"
      ]
     },
     "metadata": {
      "needs_background": "light"
     },
     "output_type": "display_data"
    }
   ],
   "source": [
    "plt.figure(figsize=(10,5))\n",
    "plt.plot(train[ind], linestyle='-',label='train')\n",
    "plt.plot(arimax.predict(), linestyle='-',label='model')\n",
    "plt.plot(test[ind],label='test',linestyle='-', marker='o')\n",
    "plt.plot(forecast5,label='predict', linestyle='-', marker='o')\n",
    "plt.legend()\n",
    "plt.show()"
   ]
  },
  {
   "cell_type": "code",
   "execution_count": 60,
   "metadata": {
    "scrolled": true
   },
   "outputs": [
    {
     "data": {
      "text/html": [
       "<div>\n",
       "<style scoped>\n",
       "    .dataframe tbody tr th:only-of-type {\n",
       "        vertical-align: middle;\n",
       "    }\n",
       "\n",
       "    .dataframe tbody tr th {\n",
       "        vertical-align: top;\n",
       "    }\n",
       "\n",
       "    .dataframe thead th {\n",
       "        text-align: right;\n",
       "    }\n",
       "</style>\n",
       "<table border=\"1\" class=\"dataframe\">\n",
       "  <thead>\n",
       "    <tr style=\"text-align: right;\">\n",
       "      <th>new_week_deaths</th>\n",
       "      <th>mean</th>\n",
       "      <th>mean_se</th>\n",
       "      <th>mean_ci_lower</th>\n",
       "      <th>mean_ci_upper</th>\n",
       "    </tr>\n",
       "  </thead>\n",
       "  <tbody>\n",
       "    <tr>\n",
       "      <th>2021-01-09</th>\n",
       "      <td>21.619565</td>\n",
       "      <td>2.097417</td>\n",
       "      <td>17.508702</td>\n",
       "      <td>25.730427</td>\n",
       "    </tr>\n",
       "    <tr>\n",
       "      <th>2021-01-16</th>\n",
       "      <td>16.967029</td>\n",
       "      <td>3.525606</td>\n",
       "      <td>10.056969</td>\n",
       "      <td>23.877090</td>\n",
       "    </tr>\n",
       "    <tr>\n",
       "      <th>2021-01-23</th>\n",
       "      <td>15.362031</td>\n",
       "      <td>5.389301</td>\n",
       "      <td>4.799196</td>\n",
       "      <td>25.924867</td>\n",
       "    </tr>\n",
       "    <tr>\n",
       "      <th>2021-01-30</th>\n",
       "      <td>15.098524</td>\n",
       "      <td>7.343430</td>\n",
       "      <td>0.705666</td>\n",
       "      <td>29.491382</td>\n",
       "    </tr>\n",
       "    <tr>\n",
       "      <th>2021-02-06</th>\n",
       "      <td>14.566659</td>\n",
       "      <td>9.270139</td>\n",
       "      <td>-3.602479</td>\n",
       "      <td>32.735797</td>\n",
       "    </tr>\n",
       "    <tr>\n",
       "      <th>2021-02-13</th>\n",
       "      <td>15.168845</td>\n",
       "      <td>11.124251</td>\n",
       "      <td>-6.634287</td>\n",
       "      <td>36.971976</td>\n",
       "    </tr>\n",
       "    <tr>\n",
       "      <th>2021-02-20</th>\n",
       "      <td>15.069336</td>\n",
       "      <td>12.889188</td>\n",
       "      <td>-10.193010</td>\n",
       "      <td>40.331681</td>\n",
       "    </tr>\n",
       "    <tr>\n",
       "      <th>2021-02-27</th>\n",
       "      <td>14.481044</td>\n",
       "      <td>14.561367</td>\n",
       "      <td>-14.058710</td>\n",
       "      <td>43.020799</td>\n",
       "    </tr>\n",
       "    <tr>\n",
       "      <th>2021-03-06</th>\n",
       "      <td>12.802709</td>\n",
       "      <td>16.143397</td>\n",
       "      <td>-18.837768</td>\n",
       "      <td>44.443185</td>\n",
       "    </tr>\n",
       "    <tr>\n",
       "      <th>2021-03-13</th>\n",
       "      <td>11.507817</td>\n",
       "      <td>17.640754</td>\n",
       "      <td>-23.067425</td>\n",
       "      <td>46.083058</td>\n",
       "    </tr>\n",
       "    <tr>\n",
       "      <th>2021-03-20</th>\n",
       "      <td>9.179363</td>\n",
       "      <td>19.060050</td>\n",
       "      <td>-28.177649</td>\n",
       "      <td>46.536375</td>\n",
       "    </tr>\n",
       "    <tr>\n",
       "      <th>2021-03-27</th>\n",
       "      <td>8.815570</td>\n",
       "      <td>20.408132</td>\n",
       "      <td>-31.183634</td>\n",
       "      <td>48.814775</td>\n",
       "    </tr>\n",
       "    <tr>\n",
       "      <th>2021-04-03</th>\n",
       "      <td>7.962265</td>\n",
       "      <td>21.691607</td>\n",
       "      <td>-34.552503</td>\n",
       "      <td>50.477034</td>\n",
       "    </tr>\n",
       "    <tr>\n",
       "      <th>2021-04-10</th>\n",
       "      <td>10.146510</td>\n",
       "      <td>22.916619</td>\n",
       "      <td>-34.769239</td>\n",
       "      <td>55.062258</td>\n",
       "    </tr>\n",
       "    <tr>\n",
       "      <th>2021-04-17</th>\n",
       "      <td>9.249610</td>\n",
       "      <td>24.088759</td>\n",
       "      <td>-37.963491</td>\n",
       "      <td>56.462710</td>\n",
       "    </tr>\n",
       "    <tr>\n",
       "      <th>2021-04-24</th>\n",
       "      <td>10.128723</td>\n",
       "      <td>25.213046</td>\n",
       "      <td>-39.287939</td>\n",
       "      <td>59.545385</td>\n",
       "    </tr>\n",
       "    <tr>\n",
       "      <th>2021-05-01</th>\n",
       "      <td>11.726668</td>\n",
       "      <td>26.293949</td>\n",
       "      <td>-39.808525</td>\n",
       "      <td>63.261861</td>\n",
       "    </tr>\n",
       "    <tr>\n",
       "      <th>2021-05-08</th>\n",
       "      <td>11.294646</td>\n",
       "      <td>27.335432</td>\n",
       "      <td>-42.281817</td>\n",
       "      <td>64.871108</td>\n",
       "    </tr>\n",
       "  </tbody>\n",
       "</table>\n",
       "</div>"
      ],
      "text/plain": [
       "new_week_deaths       mean    mean_se  mean_ci_lower  mean_ci_upper\n",
       "2021-01-09       21.619565   2.097417      17.508702      25.730427\n",
       "2021-01-16       16.967029   3.525606      10.056969      23.877090\n",
       "2021-01-23       15.362031   5.389301       4.799196      25.924867\n",
       "2021-01-30       15.098524   7.343430       0.705666      29.491382\n",
       "2021-02-06       14.566659   9.270139      -3.602479      32.735797\n",
       "2021-02-13       15.168845  11.124251      -6.634287      36.971976\n",
       "2021-02-20       15.069336  12.889188     -10.193010      40.331681\n",
       "2021-02-27       14.481044  14.561367     -14.058710      43.020799\n",
       "2021-03-06       12.802709  16.143397     -18.837768      44.443185\n",
       "2021-03-13       11.507817  17.640754     -23.067425      46.083058\n",
       "2021-03-20        9.179363  19.060050     -28.177649      46.536375\n",
       "2021-03-27        8.815570  20.408132     -31.183634      48.814775\n",
       "2021-04-03        7.962265  21.691607     -34.552503      50.477034\n",
       "2021-04-10       10.146510  22.916619     -34.769239      55.062258\n",
       "2021-04-17        9.249610  24.088759     -37.963491      56.462710\n",
       "2021-04-24       10.128723  25.213046     -39.287939      59.545385\n",
       "2021-05-01       11.726668  26.293949     -39.808525      63.261861\n",
       "2021-05-08       11.294646  27.335432     -42.281817      64.871108"
      ]
     },
     "execution_count": 60,
     "metadata": {},
     "output_type": "execute_result"
    }
   ],
   "source": [
    "predict"
   ]
  },
  {
   "cell_type": "code",
   "execution_count": 61,
   "metadata": {},
   "outputs": [
    {
     "name": "stdout",
     "output_type": "stream",
     "text": [
      "Erro todos parametros:  25.68463993478218 Erro apenas new_week_cases:  54.188036891134665\n"
     ]
    }
   ],
   "source": [
    "err_nwcases=mean_squared_error(forecast5,test[ind],squared=False)\n",
    "merr_nwcases= mean_absolute_error(forecast5,test[ind])\n",
    "print('Erro todos parametros: ',err_allparameters,\"Erro apenas new_week_cases: \",err_nwcases)"
   ]
  },
  {
   "cell_type": "markdown",
   "metadata": {},
   "source": [
    "# Observações\n",
    "\n",
    "Como pode ser visto, ao retirar as keywords do google trends o resultado da previsão se torna bastante pior, indicando que não são só os novos casos contribuindo para a previsão"
   ]
  },
  {
   "cell_type": "markdown",
   "metadata": {},
   "source": [
    "# Teste regressão linear"
   ]
  },
  {
   "cell_type": "code",
   "execution_count": 62,
   "metadata": {},
   "outputs": [],
   "source": [
    "from sklearn.linear_model import LinearRegression\n",
    "from sklearn.model_selection import cross_val_score"
   ]
  },
  {
   "cell_type": "code",
   "execution_count": 63,
   "metadata": {},
   "outputs": [],
   "source": [
    "X=df.drop(['new_week_cases','new_week_deaths'],axis=1)\n",
    "y=df['new_week_deaths']"
   ]
  },
  {
   "cell_type": "code",
   "execution_count": 64,
   "metadata": {},
   "outputs": [],
   "source": [
    "#dividindo treino e teste\n",
    "trainsize=round(percentage*len(X))\n",
    "Xtrain=X[:trainsize]\n",
    "Xtest=X[trainsize:]\n",
    "ytrain=y[:trainsize]\n",
    "ytest=y[trainsize:]"
   ]
  },
  {
   "cell_type": "code",
   "execution_count": 65,
   "metadata": {},
   "outputs": [],
   "source": [
    "reg = LinearRegression()\n",
    "#.fit(Xtrain, ytrain)"
   ]
  },
  {
   "cell_type": "code",
   "execution_count": 66,
   "metadata": {},
   "outputs": [],
   "source": [
    "scores = cross_val_score(reg, Xtrain, ytrain, cv=5,scoring='neg_root_mean_squared_error')\n",
    "MAEscores= cross_val_score(reg, Xtrain, ytrain, cv=5,scoring='neg_mean_absolute_error') "
   ]
  },
  {
   "cell_type": "code",
   "execution_count": 67,
   "metadata": {},
   "outputs": [
    {
     "data": {
      "text/plain": [
       "(-8.061084847574866, 3.917056748564935)"
      ]
     },
     "execution_count": 67,
     "metadata": {},
     "output_type": "execute_result"
    }
   ],
   "source": [
    "(scores.mean(), scores.std())"
   ]
  },
  {
   "cell_type": "code",
   "execution_count": 68,
   "metadata": {},
   "outputs": [
    {
     "data": {
      "text/plain": [
       "(-6.1442512475242745, 3.125005536100124)"
      ]
     },
     "execution_count": 68,
     "metadata": {},
     "output_type": "execute_result"
    }
   ],
   "source": [
    "(MAEscores.mean(), MAEscores.std())"
   ]
  },
  {
   "cell_type": "code",
   "execution_count": 69,
   "metadata": {},
   "outputs": [],
   "source": [
    "terror=np.abs(scores.mean())\n",
    "tmerror=np.abs(MAEscores.mean())"
   ]
  },
  {
   "cell_type": "code",
   "execution_count": 70,
   "metadata": {},
   "outputs": [],
   "source": [
    "reg=reg.fit(Xtrain, ytrain)"
   ]
  },
  {
   "cell_type": "code",
   "execution_count": 71,
   "metadata": {},
   "outputs": [
    {
     "data": {
      "text/plain": [
       "array([ 0.20186844,  0.12184031, -0.01643096, -0.04805647,  0.00210853,\n",
       "        0.03396085,  0.09538521, -0.12715588,  0.11240651,  0.09141541,\n",
       "        0.07317324,  0.20176813, -0.01818853])"
      ]
     },
     "execution_count": 71,
     "metadata": {},
     "output_type": "execute_result"
    }
   ],
   "source": [
    "reg.coef_"
   ]
  },
  {
   "cell_type": "code",
   "execution_count": 72,
   "metadata": {},
   "outputs": [],
   "source": [
    "yhat=reg.predict(Xtest)"
   ]
  },
  {
   "cell_type": "code",
   "execution_count": 73,
   "metadata": {},
   "outputs": [
    {
     "data": {
      "image/png": "[encoded data removed]",
      "text/plain": [
       "<Figure size 720x360 with 1 Axes>"
      ]
     },
     "metadata": {
      "needs_background": "light"
     },
     "output_type": "display_data"
    }
   ],
   "source": [
    "plt.figure(figsize=(10,5))\n",
    "plt.plot(ytest.values,label='actual', linestyle='-', marker='o')\n",
    "plt.plot(yhat,label='predicted', linestyle='-', marker='o')\n",
    "plt.legend()\n",
    "plt.show()"
   ]
  },
  {
   "cell_type": "code",
   "execution_count": 74,
   "metadata": {},
   "outputs": [],
   "source": [
    "ypz=reg.predict(X.values)"
   ]
  },
  {
   "cell_type": "code",
   "execution_count": 75,
   "metadata": {},
   "outputs": [
    {
     "data": {
      "image/png": "[encoded data removed]",
      "text/plain": [
       "<Figure size 720x360 with 1 Axes>"
      ]
     },
     "metadata": {
      "needs_background": "light"
     },
     "output_type": "display_data"
    }
   ],
   "source": [
    "plt.figure(figsize=(10,5))\n",
    "plt.plot(y.values,label='actual')\n",
    "plt.plot(ypz,label='predicted')\n",
    "plt.legend()\n",
    "plt.show()"
   ]
  },
  {
   "cell_type": "code",
   "execution_count": 76,
   "metadata": {},
   "outputs": [],
   "source": [
    "error = mean_squared_error(yhat,ytest,squared=False)\n",
    "merror= mean_absolute_error(yhat,ytest)"
   ]
  },
  {
   "cell_type": "markdown",
   "metadata": {},
   "source": [
    "# Teste Regressão polinomial\n",
    "\n",
    "(houve muito overfitting)"
   ]
  },
  {
   "cell_type": "code",
   "execution_count": 77,
   "metadata": {},
   "outputs": [],
   "source": [
    "from sklearn.preprocessing import PolynomialFeatures"
   ]
  },
  {
   "cell_type": "code",
   "execution_count": 78,
   "metadata": {},
   "outputs": [],
   "source": [
    "poly = PolynomialFeatures(degree=2)\n",
    "X_ = poly.fit_transform(X)\n",
    "X_train=X_[:trainsize]\n",
    "X_test=X_[trainsize:]"
   ]
  },
  {
   "cell_type": "code",
   "execution_count": 79,
   "metadata": {},
   "outputs": [],
   "source": [
    "clf = LinearRegression()\n",
    "clf.fit(X_train, ytrain)\n",
    "y_hat=clf.predict(X_test)\n",
    "y_pz=clf.predict(X_)"
   ]
  },
  {
   "cell_type": "code",
   "execution_count": 80,
   "metadata": {},
   "outputs": [
    {
     "data": {
      "image/png": "[encoded data removed]",
      "text/plain": [
       "<Figure size 720x360 with 1 Axes>"
      ]
     },
     "metadata": {
      "needs_background": "light"
     },
     "output_type": "display_data"
    }
   ],
   "source": [
    "plt.figure(figsize=(10,5))\n",
    "plt.plot(y.values,label='actual', linestyle='-')\n",
    "plt.plot(y_pz,label='predicted', linestyle='-')\n",
    "plt.legend()\n",
    "plt.show()"
   ]
  },
  {
   "cell_type": "markdown",
   "metadata": {},
   "source": [
    "# Comparando alguns forecasts"
   ]
  },
  {
   "cell_type": "code",
   "execution_count": 81,
   "metadata": {},
   "outputs": [
    {
     "name": "stdout",
     "output_type": "stream",
     "text": [
      "RMSE treino\n",
      "Erro regressão linear:  8.061084847574866 \n",
      "Erro da previsão sem gtrends:  3.741059927459121 \n",
      "Erro da previsão com gtrends:  3.700368733021278 \n",
      "Erro todos parametros:  1.8448441179551331 \n",
      "Erro apenas new_week_cases:  2.07889141884623 \n",
      "Erro todas keywords:  1.8288192806926706\n"
     ]
    }
   ],
   "source": [
    "print(\"RMSE treino\\nErro regressão linear: \",terror,\"\\nErro da previsão sem gtrends: \",terr_nogtrends,\"\\nErro da previsão com gtrends: \",terr_gtrends,'\\nErro todos parametros: ',terr_allparameters,\"\\nErro apenas new_week_cases: \",terr_nwcases,'\\nErro todas keywords: ',terr_keywords)"
   ]
  },
  {
   "cell_type": "code",
   "execution_count": 82,
   "metadata": {},
   "outputs": [
    {
     "name": "stdout",
     "output_type": "stream",
     "text": [
      "MAE treino\n",
      "Erro regressão linear:  6.1442512475242745 \n",
      "erro da previsão sem gtrends:  2.032581215404774 \n",
      "Erro da previsão com gtrends:  1.9620059298433976 \n",
      "Erro todos parametros:  1.4935840278329298 \n",
      "Erro apenas new_week_cases:  1.6332557347230217 \n",
      "Erro todas keywords:  1.5279897354340473\n"
     ]
    }
   ],
   "source": [
    "print(\"MAE treino\\nErro regressão linear: \",tmerror,\"\\nerro da previsão sem gtrends: \",tmerr_nogtrends,\"\\nErro da previsão com gtrends: \",tmerr_gtrends,'\\nErro todos parametros: ',tmerr_allparameters,\"\\nErro apenas new_week_cases: \",tmerr_nwcases,'\\nErro todas keywords: ',tmerr_keywords)"
   ]
  },
  {
   "cell_type": "code",
   "execution_count": 83,
   "metadata": {},
   "outputs": [
    {
     "name": "stdout",
     "output_type": "stream",
     "text": [
      "RMSE teste\n",
      "Erro regressão linear:  29.896367003532905 \n",
      "Erro da previsão sem gtrends:  46.30276271522682 \n",
      "Erro da previsão com gtrends:  45.019503835852284 \n",
      "Erro todos parametros:  25.68463993478218 \n",
      "Erro apenas new_week_cases:  54.188036891134665 \n",
      "Erro todas keywords:  27.487833175459173\n"
     ]
    }
   ],
   "source": [
    "print(\"RMSE teste\\nErro regressão linear: \",error,\"\\nErro da previsão sem gtrends: \",err_nogtrends,\"\\nErro da previsão com gtrends: \",err_gtrends,'\\nErro todos parametros: ',err_allparameters,\"\\nErro apenas new_week_cases: \",err_nwcases,'\\nErro todas keywords: ',err_keywords)"
   ]
  },
  {
   "cell_type": "code",
   "execution_count": 84,
   "metadata": {},
   "outputs": [
    {
     "name": "stdout",
     "output_type": "stream",
     "text": [
      "MAE teste\n",
      "Erro regressão linear:  24.501321377958302 \n",
      "erro da previsão sem gtrends:  38.669536670891226 \n",
      "Erro da previsão com gtrends:  37.804962398717194 \n",
      "Erro todos parametros:  21.041658194683915 \n",
      "Erro apenas new_week_cases:  46.435521528872854 \n",
      "Erro todas keywords:  22.595451161488267\n"
     ]
    }
   ],
   "source": [
    "print(\"MAE teste\\nErro regressão linear: \",merror,\"\\nerro da previsão sem gtrends: \",merr_nogtrends,\"\\nErro da previsão com gtrends: \",merr_gtrends,'\\nErro todos parametros: ',merr_allparameters,\"\\nErro apenas new_week_cases: \",merr_nwcases,'\\nErro todas keywords: ',merr_keywords)"
   ]
  },
  {
   "cell_type": "code",
   "execution_count": 85,
   "metadata": {},
   "outputs": [
    {
     "data": {
      "image/png": "[encoded data removed]",
      "text/plain": [
       "<Figure size 720x360 with 1 Axes>"
      ]
     },
     "metadata": {
      "needs_background": "light"
     },
     "output_type": "display_data"
    }
   ],
   "source": [
    "#Gráfico com forecasts\n",
    "ytest=ytest.reset_index()\n",
    "ytest['poly']=y_hat\n",
    "ytest['reg']=yhat\n",
    "ytest.set_index('date',inplace=True)\n",
    "plt.figure(figsize=(10,5))\n",
    "plt.ylim(0,105)\n",
    "plt.plot(ytest['new_week_deaths'],label='new_week_deaths', linestyle='-',marker='o')\n",
    "plt.plot(ytest['reg'],label='Linear regression', linestyle='-',marker='o')\n",
    "plt.plot(forecast2,label='ARIMA', linestyle='-',marker='o')\n",
    "#plt.plot(forecast4,label='ARIMA(keywords+new_week_cases)', linestyle='-',marker='o')\n",
    "plt.plot(forecast3,label='ARIMAX', linestyle='-',marker='o')\n",
    "plt.xlabel('date')\n",
    "plt.ylabel('% in relation to peak value')\n",
    "plt.legend()\n",
    "plt.grid()\n",
    "plt.savefig('graficos\\\\RegressoesMortes.png')\n",
    "plt.show()"
   ]
  },
  {
   "cell_type": "markdown",
   "metadata": {},
   "source": [
    "# Para new week cases"
   ]
  },
  {
   "cell_type": "code",
   "execution_count": 86,
   "metadata": {},
   "outputs": [
    {
     "data": {
      "text/html": [
       "<div>\n",
       "<style scoped>\n",
       "    .dataframe tbody tr th:only-of-type {\n",
       "        vertical-align: middle;\n",
       "    }\n",
       "\n",
       "    .dataframe tbody tr th {\n",
       "        vertical-align: top;\n",
       "    }\n",
       "\n",
       "    .dataframe thead th {\n",
       "        text-align: right;\n",
       "    }\n",
       "</style>\n",
       "<table border=\"1\" class=\"dataframe\">\n",
       "  <thead>\n",
       "    <tr style=\"text-align: right;\">\n",
       "      <th></th>\n",
       "      <th>Keyword</th>\n",
       "      <th>MaxCorrelation</th>\n",
       "      <th>Lag</th>\n",
       "    </tr>\n",
       "  </thead>\n",
       "  <tbody>\n",
       "    <tr>\n",
       "      <th>123</th>\n",
       "      <td>peguei covid</td>\n",
       "      <td>0.843639</td>\n",
       "      <td>3</td>\n",
       "    </tr>\n",
       "    <tr>\n",
       "      <th>122</th>\n",
       "      <td>estou com covid</td>\n",
       "      <td>0.823736</td>\n",
       "      <td>1</td>\n",
       "    </tr>\n",
       "    <tr>\n",
       "      <th>77</th>\n",
       "      <td>covid pcr</td>\n",
       "      <td>0.805269</td>\n",
       "      <td>1</td>\n",
       "    </tr>\n",
       "    <tr>\n",
       "      <th>80</th>\n",
       "      <td>pcr</td>\n",
       "      <td>0.800031</td>\n",
       "      <td>1</td>\n",
       "    </tr>\n",
       "    <tr>\n",
       "      <th>79</th>\n",
       "      <td>exame covid</td>\n",
       "      <td>0.769108</td>\n",
       "      <td>1</td>\n",
       "    </tr>\n",
       "    <tr>\n",
       "      <th>18</th>\n",
       "      <td>teste covid</td>\n",
       "      <td>0.745107</td>\n",
       "      <td>1</td>\n",
       "    </tr>\n",
       "    <tr>\n",
       "      <th>17</th>\n",
       "      <td>exame cotonete</td>\n",
       "      <td>0.737182</td>\n",
       "      <td>1</td>\n",
       "    </tr>\n",
       "    <tr>\n",
       "      <th>78</th>\n",
       "      <td>pcr exame covid</td>\n",
       "      <td>0.729525</td>\n",
       "      <td>1</td>\n",
       "    </tr>\n",
       "    <tr>\n",
       "      <th>101</th>\n",
       "      <td>lockdown covid</td>\n",
       "      <td>0.714541</td>\n",
       "      <td>2</td>\n",
       "    </tr>\n",
       "    <tr>\n",
       "      <th>33</th>\n",
       "      <td>tomar ivermectina</td>\n",
       "      <td>0.676352</td>\n",
       "      <td>1</td>\n",
       "    </tr>\n",
       "    <tr>\n",
       "      <th>89</th>\n",
       "      <td>reagente igg</td>\n",
       "      <td>0.632057</td>\n",
       "      <td>1</td>\n",
       "    </tr>\n",
       "    <tr>\n",
       "      <th>102</th>\n",
       "      <td>decreto lockdown</td>\n",
       "      <td>0.613397</td>\n",
       "      <td>1</td>\n",
       "    </tr>\n",
       "    <tr>\n",
       "      <th>28</th>\n",
       "      <td>cansaço</td>\n",
       "      <td>0.605203</td>\n",
       "      <td>8</td>\n",
       "    </tr>\n",
       "    <tr>\n",
       "      <th>0</th>\n",
       "      <td>sintomas do covid</td>\n",
       "      <td>0.600720</td>\n",
       "      <td>1</td>\n",
       "    </tr>\n",
       "    <tr>\n",
       "      <th>82</th>\n",
       "      <td>teste rápido covid</td>\n",
       "      <td>0.581432</td>\n",
       "      <td>1</td>\n",
       "    </tr>\n",
       "    <tr>\n",
       "      <th>48</th>\n",
       "      <td>covid</td>\n",
       "      <td>0.562564</td>\n",
       "      <td>1</td>\n",
       "    </tr>\n",
       "    <tr>\n",
       "      <th>88</th>\n",
       "      <td>covid igm igg</td>\n",
       "      <td>0.559786</td>\n",
       "      <td>1</td>\n",
       "    </tr>\n",
       "    <tr>\n",
       "      <th>100</th>\n",
       "      <td>lockdown brasil</td>\n",
       "      <td>0.548658</td>\n",
       "      <td>5</td>\n",
       "    </tr>\n",
       "    <tr>\n",
       "      <th>26</th>\n",
       "      <td>ansiedade</td>\n",
       "      <td>0.528864</td>\n",
       "      <td>1</td>\n",
       "    </tr>\n",
       "    <tr>\n",
       "      <th>31</th>\n",
       "      <td>oximetro</td>\n",
       "      <td>0.518396</td>\n",
       "      <td>1</td>\n",
       "    </tr>\n",
       "  </tbody>\n",
       "</table>\n",
       "</div>"
      ],
      "text/plain": [
       "                Keyword  MaxCorrelation  Lag\n",
       "123        peguei covid        0.843639    3\n",
       "122     estou com covid        0.823736    1\n",
       "77            covid pcr        0.805269    1\n",
       "80                  pcr        0.800031    1\n",
       "79          exame covid        0.769108    1\n",
       "18          teste covid        0.745107    1\n",
       "17       exame cotonete        0.737182    1\n",
       "78      pcr exame covid        0.729525    1\n",
       "101      lockdown covid        0.714541    2\n",
       "33    tomar ivermectina        0.676352    1\n",
       "89         reagente igg        0.632057    1\n",
       "102    decreto lockdown        0.613397    1\n",
       "28              cansaço        0.605203    8\n",
       "0     sintomas do covid        0.600720    1\n",
       "82   teste rápido covid        0.581432    1\n",
       "48                covid        0.562564    1\n",
       "88        covid igm igg        0.559786    1\n",
       "100     lockdown brasil        0.548658    5\n",
       "26            ansiedade        0.528864    1\n",
       "31             oximetro        0.518396    1"
      ]
     },
     "execution_count": 86,
     "metadata": {},
     "output_type": "execute_result"
    }
   ],
   "source": [
    "#Encontrando as lagcorrelations, ind é o indicador a ser usado\n",
    "ind='new_week_cases'\n",
    "Corr=pd.DataFrame(getMaxCorrelations(kwBR,brasilDf,ind))\n",
    "Corr=Corr.sort_values(by='MaxCorrelation',ascending=False)\n",
    "Corr[:20]"
   ]
  },
  {
   "cell_type": "code",
   "execution_count": 87,
   "metadata": {},
   "outputs": [],
   "source": [
    "kwBR=pd.read_csv('dados\\\\SeriesKeywords.csv')\n",
    "kwMG=pd.read_csv('dados\\\\SeriesKeywordsMg.csv')\n",
    "kwBR=kwBR[:63]\n",
    "kwMG=kwMG[:63]\n",
    "conn =sqlite3.connect(\"dados\\\\indicadores.db\")\n",
    "brasilDf=pd.read_sql_query(\"select * from brazil_df\",conn)\n",
    "statesDf=pd.read_sql_query(\"select * from states_df\",conn)\n",
    "conn.close()"
   ]
  },
  {
   "cell_type": "code",
   "execution_count": 88,
   "metadata": {},
   "outputs": [],
   "source": [
    "#obtendo dados apenas das semanas desejadas dos indicadores\n",
    "#lag é o max lag a ser explorado\n",
    "lag=4\n",
    "brasilDf=brasilDf.iloc[lag:].reset_index(drop=True)\n",
    "statesDf=statesDf[statesDf['state']=='MG']\n",
    "statesDf=statesDf.iloc[lag:].reset_index(drop=True)"
   ]
  },
  {
   "cell_type": "code",
   "execution_count": 89,
   "metadata": {},
   "outputs": [],
   "source": [
    "#normalizando os dados de indicador a serem usados\n",
    "brasilDf['new_week_cases']=(brasilDf['new_week_cases']/brasilDf['new_week_cases'].max())*100\n",
    "brasilDf['new_week_deaths']=(brasilDf['new_week_deaths']/brasilDf['new_week_deaths'].max())*100\n",
    "statesDf['new_week_cases']=(statesDf['new_week_cases']/statesDf['new_week_cases'].max())*100\n",
    "statesDf['new_week_deaths']=(statesDf['new_week_deaths']/statesDf['new_week_deaths'].max())*100"
   ]
  },
  {
   "cell_type": "code",
   "execution_count": 90,
   "metadata": {},
   "outputs": [],
   "source": [
    "#extraindo apenas dados necessários das databases\n",
    "brasilDf=brasilDf.set_index('epidemiological_week')\n",
    "statesDf=statesDf.set_index('epidemiological_week')\n",
    "brasilDf=brasilDf[['new_week_cases','new_week_deaths','week_last_day']]\n",
    "statesDf=statesDf[['new_week_cases','new_week_deaths','week_last_day']]\n",
    "kwBR=kwBR.drop('date',axis=1)\n",
    "kwMG=kwMG.drop('date',axis=1)"
   ]
  },
  {
   "cell_type": "code",
   "execution_count": 91,
   "metadata": {},
   "outputs": [],
   "source": [
    "X=pd.DataFrame()\n",
    "for i in range(len(Corr)):\n",
    "    if Corr['Lag'].iloc[i]<=lag and Corr['Lag'].iloc[i]>0 and np.abs(Corr['MaxCorrelation'].iloc[i])>=0.7:\n",
    "        try:\n",
    "            X[Corr['Keyword'].iloc[i]]=kwBR[lag-Corr['Lag'].iloc[i]:-Corr['Lag'].iloc[i]].reset_index()[Corr['Keyword'].iloc[i]].copy()\n",
    "        except:\n",
    "            print(i,Corr['Keyword'].iloc[i])\n",
    "Y=brasilDf[[ind,'week_last_day']].copy()\n",
    "Y=Y.reset_index(drop=True)"
   ]
  },
  {
   "cell_type": "code",
   "execution_count": 92,
   "metadata": {},
   "outputs": [],
   "source": [
    "#unindo x e y\n",
    "df=X.copy()\n",
    "df[ind]=Y[ind].copy()\n",
    "df['date']=Y['week_last_day'].copy()\n",
    "#renomeando colunas para tirar espaço e facilitar a proxima etapa\n",
    "for i in df:\n",
    "    df.rename({i:i.replace(' ','_')},axis=1,inplace=True)\n",
    "#colocando o indice como as datas\n",
    "df['date']=pd.to_datetime(df['date'])\n",
    "df.set_index('date',inplace=True)\n",
    "df=df.asfreq('W-Sat')"
   ]
  },
  {
   "cell_type": "code",
   "execution_count": 93,
   "metadata": {},
   "outputs": [
    {
     "data": {
      "text/plain": [
       "['peguei_covid',\n",
       " 'estou_com_covid',\n",
       " 'covid_pcr',\n",
       " 'pcr',\n",
       " 'exame_covid',\n",
       " 'teste_covid',\n",
       " 'exame_cotonete',\n",
       " 'pcr_exame_covid',\n",
       " 'lockdown_covid',\n",
       " 'new_week_cases']"
      ]
     },
     "execution_count": 93,
     "metadata": {},
     "output_type": "execute_result"
    }
   ],
   "source": [
    "list(df.columns)"
   ]
  },
  {
   "cell_type": "code",
   "execution_count": 94,
   "metadata": {},
   "outputs": [],
   "source": [
    "#dividindo em treino e teste\n",
    "trainsize=round(percentage*len(df))\n",
    "train=df[:trainsize]\n",
    "test=df[trainsize:]"
   ]
  },
  {
   "cell_type": "markdown",
   "metadata": {},
   "source": [
    "# ARIMA"
   ]
  },
  {
   "cell_type": "code",
   "execution_count": 95,
   "metadata": {},
   "outputs": [],
   "source": [
    "param=pm.arima.auto_arima(train[ind])\n",
    "order=param.order"
   ]
  },
  {
   "cell_type": "code",
   "execution_count": 96,
   "metadata": {},
   "outputs": [
    {
     "name": "stdout",
     "output_type": "stream",
     "text": [
      "ARIMA (0, 1, 0)  erro= 6.147783550471606 4.422849829797907\n"
     ]
    }
   ],
   "source": [
    "#order foi o melhor resultado\n",
    "arimax=ARIMA(endog=train[ind],freq='W-Sat',order=order).fit()\n",
    "forecast2=arimax.forecast(steps=len(test))\n",
    "terr_nogtrends=np.sqrt((arimax.resid**2).mean())\n",
    "tmerr_nogtrends=(np.abs(arimax.resid)).mean()\n",
    "print('ARIMA',order,' erro=',terr_nogtrends,tmerr_nogtrends)"
   ]
  },
  {
   "cell_type": "code",
   "execution_count": 97,
   "metadata": {},
   "outputs": [
    {
     "data": {
      "image/png": "[encoded data removed]",
      "text/plain": [
       "<Figure size 720x360 with 1 Axes>"
      ]
     },
     "metadata": {
      "needs_background": "light"
     },
     "output_type": "display_data"
    }
   ],
   "source": [
    "predict=arimax.get_forecast(steps=len(test)).summary_frame()\n",
    "plt.figure(figsize=(10,5))\n",
    "plt.plot(test[ind],label='test', linestyle='-', marker='o')\n",
    "plt.plot(forecast2,label='forecast', linestyle='-', marker='o')\n",
    "#plt.plot(predict['mean_ci_lower'], color='#990099', marker='.', linestyle=':', label='Lower 95%')\n",
    "#plt.plot(predict['mean_ci_upper'], color='#0000cc', marker='.', linestyle=':', label='Upper 95%')\n",
    "#plt.fill_between(test.index,predict['mean_ci_lower'], predict['mean_ci_upper'], color = 'b', alpha = 0.15)\n",
    "plt.legend()\n",
    "plt.show()"
   ]
  },
  {
   "cell_type": "code",
   "execution_count": 98,
   "metadata": {
    "scrolled": true
   },
   "outputs": [
    {
     "data": {
      "image/png": "[encoded data removed]",
      "text/plain": [
       "<Figure size 720x360 with 1 Axes>"
      ]
     },
     "metadata": {
      "needs_background": "light"
     },
     "output_type": "display_data"
    }
   ],
   "source": [
    "plt.figure(figsize=(10,5))\n",
    "plt.plot(train[ind], linestyle='-',label='train')\n",
    "plt.plot(arimax.predict(), linestyle='-',label='model')\n",
    "plt.plot(test[ind],label='test',linestyle='-', marker='o')\n",
    "plt.plot(forecast2,label='predict', linestyle='-', marker='o')\n",
    "plt.legend()\n",
    "plt.show()"
   ]
  },
  {
   "cell_type": "code",
   "execution_count": 99,
   "metadata": {},
   "outputs": [],
   "source": [
    "err_nogtrends=mean_squared_error(forecast2,test[ind],squared=False)\n",
    "merr_nogtrends= mean_absolute_error(forecast2,test[ind])"
   ]
  },
  {
   "cell_type": "code",
   "execution_count": 100,
   "metadata": {},
   "outputs": [
    {
     "data": {
      "text/plain": [
       "(32.72092406033529, 30.287394328062003)"
      ]
     },
     "execution_count": 100,
     "metadata": {},
     "output_type": "execute_result"
    }
   ],
   "source": [
    "err_nogtrends,merr_nogtrends"
   ]
  },
  {
   "cell_type": "markdown",
   "metadata": {},
   "source": [
    "# Arimax"
   ]
  },
  {
   "cell_type": "code",
   "execution_count": 101,
   "metadata": {},
   "outputs": [],
   "source": [
    "param3=pm.arima.auto_arima(train[ind],X=train.drop(ind,axis=1))\n",
    "order=param3.order"
   ]
  },
  {
   "cell_type": "code",
   "execution_count": 102,
   "metadata": {},
   "outputs": [
    {
     "name": "stdout",
     "output_type": "stream",
     "text": [
      "ARIMA (1, 0, 2)  erro= 5.280977776007655 3.5898150652599754\n"
     ]
    },
    {
     "name": "stderr",
     "output_type": "stream",
     "text": [
      "C:\\Users\\msart\\anaconda3\\lib\\site-packages\\statsmodels\\base\\model.py:568: ConvergenceWarning: Maximum Likelihood optimization failed to converge. Check mle_retvals\n",
      "  ConvergenceWarning)\n"
     ]
    }
   ],
   "source": [
    "#order foi o melhor resultado\n",
    "arimax=ARIMA(endog=train[ind],freq='W-Sat',order=order,exog=train.drop(ind,axis=1)).fit()\n",
    "forecast3=arimax.forecast(steps=len(test),exog=test.drop(ind,axis=1))\n",
    "terr_keywords=np.sqrt((arimax.resid**2).mean())\n",
    "tmerr_keywords=(np.abs(arimax.resid)).mean()\n",
    "print('ARIMA',order,' erro=',terr_keywords,tmerr_keywords)"
   ]
  },
  {
   "cell_type": "code",
   "execution_count": 103,
   "metadata": {},
   "outputs": [
    {
     "data": {
      "image/png": "[encoded data removed]",
      "text/plain": [
       "<Figure size 720x360 with 1 Axes>"
      ]
     },
     "metadata": {
      "needs_background": "light"
     },
     "output_type": "display_data"
    }
   ],
   "source": [
    "predict=arimax.get_forecast(steps=len(test),exog=test.drop(ind,axis=1)).summary_frame()\n",
    "plt.figure(figsize=(10,5))\n",
    "plt.plot(test[ind],label='test', linestyle='-', marker='o')\n",
    "plt.plot(forecast3,label='forecast', linestyle='-', marker='o')\n",
    "#plt.plot(predict['mean_ci_lower'], color='#990099', marker='.', linestyle=':', label='Lower 95%')\n",
    "#plt.plot(predict['mean_ci_upper'], color='#0000cc', marker='.', linestyle=':', label='Upper 95%')\n",
    "#plt.fill_between(test.index,predict['mean_ci_lower'], predict['mean_ci_upper'], color = 'b', alpha = 0.15)\n",
    "plt.legend()\n",
    "plt.show()"
   ]
  },
  {
   "cell_type": "code",
   "execution_count": 104,
   "metadata": {
    "scrolled": true
   },
   "outputs": [
    {
     "data": {
      "image/png": "[encoded data removed]",
      "text/plain": [
       "<Figure size 720x360 with 1 Axes>"
      ]
     },
     "metadata": {
      "needs_background": "light"
     },
     "output_type": "display_data"
    }
   ],
   "source": [
    "plt.figure(figsize=(10,5))\n",
    "plt.plot(train[ind], linestyle='-',label='train')\n",
    "plt.plot(arimax.predict(), linestyle='-',label='model')\n",
    "plt.plot(test[ind],label='test',linestyle='-', marker='o')\n",
    "plt.plot(forecast3,label='predict', linestyle='-', marker='o')\n",
    "plt.legend()\n",
    "plt.show()"
   ]
  },
  {
   "cell_type": "code",
   "execution_count": 105,
   "metadata": {},
   "outputs": [],
   "source": [
    "err_keywords=mean_squared_error(forecast3,test[ind],squared=False)\n",
    "merr_keywords= mean_absolute_error(forecast3,test[ind])"
   ]
  },
  {
   "cell_type": "code",
   "execution_count": 106,
   "metadata": {},
   "outputs": [
    {
     "data": {
      "text/plain": [
       "(25.312314805159705, 24.24011179242538)"
      ]
     },
     "execution_count": 106,
     "metadata": {},
     "output_type": "execute_result"
    }
   ],
   "source": [
    "err_keywords, merr_keywords"
   ]
  },
  {
   "cell_type": "markdown",
   "metadata": {},
   "source": [
    "# Regressão linear new_week_cases"
   ]
  },
  {
   "cell_type": "code",
   "execution_count": 107,
   "metadata": {},
   "outputs": [],
   "source": [
    "X=df.drop(['new_week_cases'],axis=1)\n",
    "y=df['new_week_cases']"
   ]
  },
  {
   "cell_type": "code",
   "execution_count": 108,
   "metadata": {},
   "outputs": [],
   "source": [
    "#dividindo treino e teste\n",
    "trainsize=round(percentage*len(X))\n",
    "Xtrain=X[:trainsize]\n",
    "Xtest=X[trainsize:]\n",
    "ytrain=y[:trainsize]\n",
    "ytest=y[trainsize:]\n",
    "reg = LinearRegression()\n",
    "scores = cross_val_score(reg, Xtrain, ytrain, cv=5,scoring='neg_root_mean_squared_error')\n",
    "MAEscores= cross_val_score(reg, Xtrain, ytrain, cv=5,scoring='neg_mean_absolute_error') \n",
    "reg=reg.fit(Xtrain, ytrain)\n",
    "yhat=reg.predict(Xtest)"
   ]
  },
  {
   "cell_type": "code",
   "execution_count": 109,
   "metadata": {},
   "outputs": [
    {
     "data": {
      "text/plain": [
       "(-12.148846536380884, 5.424092487805483)"
      ]
     },
     "execution_count": 109,
     "metadata": {},
     "output_type": "execute_result"
    }
   ],
   "source": [
    "(scores.mean(), scores.std())"
   ]
  },
  {
   "cell_type": "code",
   "execution_count": 110,
   "metadata": {},
   "outputs": [
    {
     "data": {
      "text/plain": [
       "(-10.498551006948597, 5.5468294122015465)"
      ]
     },
     "execution_count": 110,
     "metadata": {},
     "output_type": "execute_result"
    }
   ],
   "source": [
    "(MAEscores.mean(), MAEscores.std())"
   ]
  },
  {
   "cell_type": "code",
   "execution_count": 111,
   "metadata": {},
   "outputs": [],
   "source": [
    "terror=np.abs(scores.mean())\n",
    "tmerror=np.abs(MAEscores.mean())"
   ]
  },
  {
   "cell_type": "code",
   "execution_count": 112,
   "metadata": {},
   "outputs": [
    {
     "data": {
      "image/png": "[encoded data removed]",
      "text/plain": [
       "<Figure size 720x360 with 1 Axes>"
      ]
     },
     "metadata": {
      "needs_background": "light"
     },
     "output_type": "display_data"
    }
   ],
   "source": [
    "plt.figure(figsize=(10,5))\n",
    "plt.plot(ytest.values,label='actual', linestyle='-', marker='o')\n",
    "plt.plot(yhat,label='predicted', linestyle='-', marker='o')\n",
    "plt.legend()\n",
    "plt.show()"
   ]
  },
  {
   "cell_type": "code",
   "execution_count": 113,
   "metadata": {},
   "outputs": [],
   "source": [
    "ypz=reg.predict(X.values)"
   ]
  },
  {
   "cell_type": "code",
   "execution_count": 114,
   "metadata": {},
   "outputs": [
    {
     "data": {
      "image/png": "[encoded data removed]",
      "text/plain": [
       "<Figure size 720x360 with 1 Axes>"
      ]
     },
     "metadata": {
      "needs_background": "light"
     },
     "output_type": "display_data"
    }
   ],
   "source": [
    "plt.figure(figsize=(10,5))\n",
    "plt.plot(y.values,label='actual')\n",
    "plt.plot(ypz,label='predicted')\n",
    "plt.legend()\n",
    "plt.show()"
   ]
  },
  {
   "cell_type": "code",
   "execution_count": 115,
   "metadata": {},
   "outputs": [
    {
     "data": {
      "text/plain": [
       "(29.31358026253752, 26.576714294047054)"
      ]
     },
     "execution_count": 115,
     "metadata": {},
     "output_type": "execute_result"
    }
   ],
   "source": [
    "error = mean_squared_error(yhat,ytest,squared=False)\n",
    "merror = mean_absolute_error(yhat,ytest)\n",
    "error,merror"
   ]
  },
  {
   "cell_type": "code",
   "execution_count": 116,
   "metadata": {},
   "outputs": [
    {
     "data": {
      "text/plain": [
       "array([37.0829976 , 58.4061421 , 57.8133618 , 44.96142346, 50.20085253,\n",
       "       37.52137777, 43.01042977, 51.95600619, 49.94205205, 42.12720313,\n",
       "       57.45826964, 53.94132889, 56.24283065, 41.58609659, 63.13965276,\n",
       "       56.77470341, 48.23964305, 49.24618439])"
      ]
     },
     "execution_count": 116,
     "metadata": {},
     "output_type": "execute_result"
    }
   ],
   "source": [
    "yhat"
   ]
  },
  {
   "cell_type": "code",
   "execution_count": 117,
   "metadata": {},
   "outputs": [
    {
     "name": "stdout",
     "output_type": "stream",
     "text": [
      "RMSE train\n",
      "Erro linear: 12.148846536380884 \n",
      "Erro ARIMAX: 5.280977776007655 \n",
      "Erro ARIMA: 6.147783550471606\n"
     ]
    }
   ],
   "source": [
    "print('RMSE train\\nErro linear:',terror,'\\nErro ARIMAX:',terr_keywords,'\\nErro ARIMA:',terr_nogtrends)"
   ]
  },
  {
   "cell_type": "code",
   "execution_count": 118,
   "metadata": {},
   "outputs": [
    {
     "name": "stdout",
     "output_type": "stream",
     "text": [
      "MAE train\n",
      "Erro linear: 10.498551006948597 \n",
      "Erro ARIMAX: 3.5898150652599754 \n",
      "Erro ARIMA: 4.422849829797907\n"
     ]
    }
   ],
   "source": [
    "print('MAE train\\nErro linear:',tmerror,'\\nErro ARIMAX:',tmerr_keywords,'\\nErro ARIMA:',tmerr_nogtrends)"
   ]
  },
  {
   "cell_type": "code",
   "execution_count": 119,
   "metadata": {},
   "outputs": [
    {
     "name": "stdout",
     "output_type": "stream",
     "text": [
      "RMSE test\n",
      "Erro linear: 29.31358026253752 \n",
      "Erro ARIMAX: 25.312314805159705 \n",
      "Erro ARIMA: 32.72092406033529\n"
     ]
    }
   ],
   "source": [
    "print('RMSE test\\nErro linear:',error,'\\nErro ARIMAX:',err_keywords,'\\nErro ARIMA:',err_nogtrends)"
   ]
  },
  {
   "cell_type": "code",
   "execution_count": 120,
   "metadata": {},
   "outputs": [
    {
     "name": "stdout",
     "output_type": "stream",
     "text": [
      "MAE test\n",
      "Erro linear: 26.576714294047054 \n",
      "Erro ARIMAX: 24.24011179242538 \n",
      "Erro ARIMA: 30.287394328062003\n"
     ]
    }
   ],
   "source": [
    "print('MAE test\\nErro linear:',merror,'\\nErro ARIMAX:',merr_keywords,'\\nErro ARIMA:',merr_nogtrends)"
   ]
  },
  {
   "cell_type": "code",
   "execution_count": 121,
   "metadata": {},
   "outputs": [
    {
     "data": {
      "image/png": "[encoded data removed]",
      "text/plain": [
       "<Figure size 720x360 with 1 Axes>"
      ]
     },
     "metadata": {
      "needs_background": "light"
     },
     "output_type": "display_data"
    }
   ],
   "source": [
    "#Gráfico com forecasts\n",
    "ytest=ytest.reset_index()\n",
    "ytest['poly']=y_hat\n",
    "ytest['reg']=yhat\n",
    "ytest.set_index('date',inplace=True)\n",
    "plt.figure(figsize=(10,5))\n",
    "plt.ylim(0,105)\n",
    "plt.plot(ytest['new_week_cases'],label='new_week_cases', linestyle='-',marker='o')\n",
    "plt.plot(ytest['reg'],label='Linear regression', linestyle='-',marker='o')\n",
    "plt.plot(forecast2,label='ARIMA', linestyle='-',marker='o')\n",
    "#plt.plot(forecast4,label='ARIMA(keywords+new_week_cases)', linestyle='-',marker='o')\n",
    "plt.xlabel('date')\n",
    "plt.ylabel('% in relation to peak value')\n",
    "plt.plot(forecast3,label='ARIMAX', linestyle='-',marker='o')\n",
    "plt.legend()\n",
    "plt.grid()\n",
    "plt.savefig('graficos\\\\RegressoesCasos.png')\n",
    "plt.show()"
   ]
  }
 ],
 "metadata": {
  "kernelspec": {
   "display_name": "Python 3",
   "language": "python",
   "name": "python3"
  },
  "language_info": {
   "codemirror_mode": {
    "name": "ipython",
    "version": 3
   },
   "file_extension": ".py",
   "mimetype": "text/x-python",
   "name": "python",
   "nbconvert_exporter": "python",
   "pygments_lexer": "ipython3",
   "version": "3.7.6"
  }
 },
 "nbformat": 4,
 "nbformat_minor": 4
}
