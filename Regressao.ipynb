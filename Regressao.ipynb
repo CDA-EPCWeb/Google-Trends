{
 "cells": [
  {
   "cell_type": "code",
   "execution_count": 389,
   "metadata": {},
   "outputs": [],
   "source": [
    "import pandas as pd\n",
    "import sqlite3\n",
    "import numpy as np\n",
    "import matplotlib.pyplot as plt\n",
    "import math\n",
    "from lagCorrelations import getMaxCorrelations\n",
    "from sklearn.metrics import mean_absolute_error\n",
    "import pmdarima as pm"
   ]
  },
  {
   "cell_type": "code",
   "execution_count": 390,
   "metadata": {},
   "outputs": [],
   "source": [
    "kwBR=pd.read_csv('SeriesKeywords.csv')\n",
    "kwMG=pd.read_csv('SeriesKeywordsMg.csv')\n",
    "kwBR=kwBR[:63]\n",
    "kwMG=kwMG[:63]\n",
    "conn =sqlite3.connect(\"indicadores.db\")\n",
    "brasilDf=pd.read_sql_query(\"select * from brazil_df\",conn)\n",
    "statesDf=pd.read_sql_query(\"select * from states_df\",conn)\n",
    "conn.close()"
   ]
  },
  {
   "cell_type": "code",
   "execution_count": 391,
   "metadata": {},
   "outputs": [
    {
     "data": {
      "text/html": [
       "<div>\n",
       "<style scoped>\n",
       "    .dataframe tbody tr th:only-of-type {\n",
       "        vertical-align: middle;\n",
       "    }\n",
       "\n",
       "    .dataframe tbody tr th {\n",
       "        vertical-align: top;\n",
       "    }\n",
       "\n",
       "    .dataframe thead th {\n",
       "        text-align: right;\n",
       "    }\n",
       "</style>\n",
       "<table border=\"1\" class=\"dataframe\">\n",
       "  <thead>\n",
       "    <tr style=\"text-align: right;\">\n",
       "      <th></th>\n",
       "      <th>Keyword</th>\n",
       "      <th>MaxCorrelation</th>\n",
       "      <th>Lag</th>\n",
       "    </tr>\n",
       "  </thead>\n",
       "  <tbody>\n",
       "    <tr>\n",
       "      <th>103</th>\n",
       "      <td>decreto lockdown</td>\n",
       "      <td>0.860029</td>\n",
       "      <td>3</td>\n",
       "    </tr>\n",
       "    <tr>\n",
       "      <th>49</th>\n",
       "      <td>covid</td>\n",
       "      <td>0.829267</td>\n",
       "      <td>4</td>\n",
       "    </tr>\n",
       "    <tr>\n",
       "      <th>123</th>\n",
       "      <td>estou com covid</td>\n",
       "      <td>0.823418</td>\n",
       "      <td>3</td>\n",
       "    </tr>\n",
       "    <tr>\n",
       "      <th>124</th>\n",
       "      <td>peguei covid</td>\n",
       "      <td>0.816361</td>\n",
       "      <td>1</td>\n",
       "    </tr>\n",
       "    <tr>\n",
       "      <th>32</th>\n",
       "      <td>oximetro</td>\n",
       "      <td>0.806206</td>\n",
       "      <td>4</td>\n",
       "    </tr>\n",
       "    <tr>\n",
       "      <th>33</th>\n",
       "      <td>oximetro de dedo</td>\n",
       "      <td>0.782610</td>\n",
       "      <td>3</td>\n",
       "    </tr>\n",
       "    <tr>\n",
       "      <th>19</th>\n",
       "      <td>teste covid</td>\n",
       "      <td>0.767422</td>\n",
       "      <td>3</td>\n",
       "    </tr>\n",
       "    <tr>\n",
       "      <th>34</th>\n",
       "      <td>tomar ivermectina</td>\n",
       "      <td>0.759583</td>\n",
       "      <td>2</td>\n",
       "    </tr>\n",
       "    <tr>\n",
       "      <th>102</th>\n",
       "      <td>lockdown covid</td>\n",
       "      <td>0.759239</td>\n",
       "      <td>5</td>\n",
       "    </tr>\n",
       "    <tr>\n",
       "      <th>1</th>\n",
       "      <td>sintomas do covid</td>\n",
       "      <td>0.754365</td>\n",
       "      <td>4</td>\n",
       "    </tr>\n",
       "    <tr>\n",
       "      <th>90</th>\n",
       "      <td>reagente igg</td>\n",
       "      <td>0.715391</td>\n",
       "      <td>1</td>\n",
       "    </tr>\n",
       "    <tr>\n",
       "      <th>63</th>\n",
       "      <td>taxa de ocupação de leitos</td>\n",
       "      <td>0.705310</td>\n",
       "      <td>1</td>\n",
       "    </tr>\n",
       "    <tr>\n",
       "      <th>83</th>\n",
       "      <td>teste rápido covid</td>\n",
       "      <td>0.702121</td>\n",
       "      <td>3</td>\n",
       "    </tr>\n",
       "    <tr>\n",
       "      <th>80</th>\n",
       "      <td>exame covid</td>\n",
       "      <td>0.701509</td>\n",
       "      <td>3</td>\n",
       "    </tr>\n",
       "    <tr>\n",
       "      <th>27</th>\n",
       "      <td>ansiedade</td>\n",
       "      <td>0.682796</td>\n",
       "      <td>5</td>\n",
       "    </tr>\n",
       "    <tr>\n",
       "      <th>101</th>\n",
       "      <td>lockdown brasil</td>\n",
       "      <td>0.666441</td>\n",
       "      <td>7</td>\n",
       "    </tr>\n",
       "    <tr>\n",
       "      <th>92</th>\n",
       "      <td>exame igg</td>\n",
       "      <td>0.661145</td>\n",
       "      <td>3</td>\n",
       "    </tr>\n",
       "    <tr>\n",
       "      <th>16</th>\n",
       "      <td>paladar e olfato</td>\n",
       "      <td>0.660906</td>\n",
       "      <td>6</td>\n",
       "    </tr>\n",
       "    <tr>\n",
       "      <th>85</th>\n",
       "      <td>igg</td>\n",
       "      <td>0.651804</td>\n",
       "      <td>3</td>\n",
       "    </tr>\n",
       "    <tr>\n",
       "      <th>37</th>\n",
       "      <td>azitromicina</td>\n",
       "      <td>0.651647</td>\n",
       "      <td>5</td>\n",
       "    </tr>\n",
       "  </tbody>\n",
       "</table>\n",
       "</div>"
      ],
      "text/plain": [
       "                        Keyword  MaxCorrelation  Lag\n",
       "103            decreto lockdown        0.860029    3\n",
       "49                        covid        0.829267    4\n",
       "123             estou com covid        0.823418    3\n",
       "124                peguei covid        0.816361    1\n",
       "32                     oximetro        0.806206    4\n",
       "33             oximetro de dedo        0.782610    3\n",
       "19                  teste covid        0.767422    3\n",
       "34            tomar ivermectina        0.759583    2\n",
       "102              lockdown covid        0.759239    5\n",
       "1             sintomas do covid        0.754365    4\n",
       "90                 reagente igg        0.715391    1\n",
       "63   taxa de ocupação de leitos        0.705310    1\n",
       "83           teste rápido covid        0.702121    3\n",
       "80                  exame covid        0.701509    3\n",
       "27                    ansiedade        0.682796    5\n",
       "101             lockdown brasil        0.666441    7\n",
       "92                    exame igg        0.661145    3\n",
       "16             paladar e olfato        0.660906    6\n",
       "85                          igg        0.651804    3\n",
       "37                 azitromicina        0.651647    5"
      ]
     },
     "execution_count": 391,
     "metadata": {},
     "output_type": "execute_result"
    }
   ],
   "source": [
    "#Encontrando as lagcorrelations, ind é o indicador a ser usado\n",
    "ind='new_week_deaths'\n",
    "Corr=pd.DataFrame(getMaxCorrelations(kwBR,brasilDf,ind))\n",
    "Corr=Corr.sort_values(by='MaxCorrelation',ascending=False)\n",
    "Corr[:20]"
   ]
  },
  {
   "cell_type": "code",
   "execution_count": 392,
   "metadata": {},
   "outputs": [],
   "source": [
    "#obtendo dados apenas das semanas desejadas dos indicadores\n",
    "#lag é o lag a ser explorado\n",
    "lag=Corr['Lag'].iloc[0]\n",
    "brasilDf=brasilDf.iloc[lag:].reset_index(drop=True)\n",
    "statesDf=statesDf[statesDf['state']=='MG']\n",
    "statesDf=statesDf.iloc[lag:].reset_index(drop=True)\n",
    "#retirarei as ultimas semanas para considerar o lag\n",
    "kwBR=kwBR[:-lag]\n",
    "kwMG=kwMG[:-lag]"
   ]
  },
  {
   "cell_type": "code",
   "execution_count": 393,
   "metadata": {},
   "outputs": [],
   "source": [
    "#normalizando os dados de indicador a serem usados\n",
    "brasilDf['new_week_cases']=(brasilDf['new_week_cases']/brasilDf['new_week_cases'].max())*100\n",
    "brasilDf['new_week_deaths']=(brasilDf['new_week_deaths']/brasilDf['new_week_deaths'].max())*100\n",
    "statesDf['new_week_cases']=(statesDf['new_week_cases']/statesDf['new_week_cases'].max())*100\n",
    "statesDf['new_week_deaths']=(statesDf['new_week_deaths']/statesDf['new_week_deaths'].max())*100"
   ]
  },
  {
   "cell_type": "code",
   "execution_count": 394,
   "metadata": {},
   "outputs": [],
   "source": [
    "#extraindo apenas dados necessários das databases\n",
    "brasilDf=brasilDf.set_index('epidemiological_week')\n",
    "statesDf=statesDf.set_index('epidemiological_week')\n",
    "brasilDf=brasilDf[['new_week_cases','new_week_deaths','week_last_day']]\n",
    "statesDf=statesDf[['new_week_cases','new_week_deaths','week_last_day']]\n",
    "kwBR=kwBR.drop('date',axis=1)\n",
    "kwMG=kwMG.drop('date',axis=1)"
   ]
  },
  {
   "cell_type": "code",
   "execution_count": 395,
   "metadata": {},
   "outputs": [],
   "source": [
    "X=pd.DataFrame()\n",
    "X[Corr['Keyword'].iloc[0]]=kwBR[Corr['Keyword'].iloc[0]].copy()\n",
    "Y=brasilDf[[ind,'week_last_day']].copy()\n",
    "Y=Y.reset_index(drop=True)"
   ]
  },
  {
   "cell_type": "code",
   "execution_count": 396,
   "metadata": {},
   "outputs": [],
   "source": [
    "#unindo x e y\n",
    "df=X.copy()\n",
    "df[ind]=Y[ind].copy()\n",
    "df['date']=Y['week_last_day'].copy()\n",
    "#renomeando colunas para tirar espaço e facilitar a proxima etapa\n",
    "for i in df:\n",
    "    df.rename({i:i.replace(' ','_')},axis=1,inplace=True)\n",
    "#colocando o indice como as datas\n",
    "df['date']=pd.to_datetime(df['date'])\n",
    "df.set_index('date',inplace=True)\n",
    "df=df.asfreq('W-Sat')"
   ]
  },
  {
   "cell_type": "code",
   "execution_count": 397,
   "metadata": {},
   "outputs": [
    {
     "data": {
      "text/plain": [
       "['decreto_lockdown', 'new_week_deaths']"
      ]
     },
     "execution_count": 397,
     "metadata": {},
     "output_type": "execute_result"
    }
   ],
   "source": [
    "list(df.columns)"
   ]
  },
  {
   "cell_type": "markdown",
   "metadata": {},
   "source": [
    "# Previsão 1: Arimax com apenas a \"melhor\" keyword como parametro"
   ]
  },
  {
   "cell_type": "code",
   "execution_count": 398,
   "metadata": {},
   "outputs": [],
   "source": [
    "from statsmodels.tsa.arima.model import ARIMA "
   ]
  },
  {
   "cell_type": "code",
   "execution_count": 399,
   "metadata": {},
   "outputs": [],
   "source": [
    "#dividindo em treino e teste\n",
    "percentage=0.7\n",
    "trainsize=round(percentage*len(df))\n",
    "train=df[:trainsize]\n",
    "test=df[trainsize:]"
   ]
  },
  {
   "cell_type": "code",
   "execution_count": 400,
   "metadata": {},
   "outputs": [],
   "source": [
    "param1=pm.arima.auto_arima(train[ind],X=train.drop(ind,axis=1))\n",
    "order=param1.order"
   ]
  },
  {
   "cell_type": "code",
   "execution_count": 401,
   "metadata": {},
   "outputs": [
    {
     "name": "stdout",
     "output_type": "stream",
     "text": [
      "ARIMA (3, 0, 0)  erro= 3.700368733021278\n"
     ]
    }
   ],
   "source": [
    "#order foi o melhor resultado\n",
    "arimax=ARIMA(endog=train[ind],freq='W-Sat',order=order,exog=train.drop(ind,axis=1)).fit()\n",
    "forecast1=arimax.forecast(steps=len(test),exog=test.drop(ind,axis=1))\n",
    "terr_gtrends=np.sqrt((arimax.resid**2).mean())\n",
    "tmerr_gtrends=\n",
    "print('ARIMA',order,' erro=',erro)"
   ]
  },
  {
   "cell_type": "code",
   "execution_count": 402,
   "metadata": {},
   "outputs": [
    {
     "data": {
      "image/png": "[encoded data removed]",
      "text/plain": [
       "<Figure size 720x360 with 1 Axes>"
      ]
     },
     "metadata": {
      "needs_background": "light"
     },
     "output_type": "display_data"
    }
   ],
   "source": [
    "predict=arimax.get_forecast(steps=len(test),exog=test.drop(ind,axis=1)).summary_frame()\n",
    "plt.figure(figsize=(10,5))\n",
    "plt.plot(test[ind],label='test', linestyle='-', marker='o')\n",
    "plt.plot(forecast1,label='forecast', linestyle='-', marker='o')\n",
    "plt.plot(predict['mean_ci_lower'], color='#990099', marker='.', linestyle=':', label='Lower 95%')\n",
    "plt.plot(predict['mean_ci_upper'], color='#0000cc', marker='.', linestyle=':', label='Upper 95%')\n",
    "plt.fill_between(test.index,predict['mean_ci_lower'], predict['mean_ci_upper'], color = 'b', alpha = 0.15)\n",
    "plt.legend()\n",
    "plt.show()"
   ]
  },
  {
   "cell_type": "code",
   "execution_count": 403,
   "metadata": {
    "scrolled": true
   },
   "outputs": [
    {
     "data": {
      "image/png": "[encoded data removed]",
      "text/plain": [
       "<Figure size 720x360 with 1 Axes>"
      ]
     },
     "metadata": {
      "needs_background": "light"
     },
     "output_type": "display_data"
    }
   ],
   "source": [
    "plt.figure(figsize=(10,5))\n",
    "plt.plot(train[ind], linestyle='-',label='train')\n",
    "plt.plot(arimax.predict(), linestyle='-',label='model')\n",
    "plt.plot(test[ind],label='test',linestyle='-', marker='o')\n",
    "plt.plot(forecast1,label='predict', linestyle='-', marker='o')\n",
    "plt.legend()\n",
    "plt.show()"
   ]
  },
  {
   "cell_type": "code",
   "execution_count": 404,
   "metadata": {},
   "outputs": [
    {
     "data": {
      "text/html": [
       "<div>\n",
       "<style scoped>\n",
       "    .dataframe tbody tr th:only-of-type {\n",
       "        vertical-align: middle;\n",
       "    }\n",
       "\n",
       "    .dataframe tbody tr th {\n",
       "        vertical-align: top;\n",
       "    }\n",
       "\n",
       "    .dataframe thead th {\n",
       "        text-align: right;\n",
       "    }\n",
       "</style>\n",
       "<table border=\"1\" class=\"dataframe\">\n",
       "  <thead>\n",
       "    <tr style=\"text-align: right;\">\n",
       "      <th>new_week_deaths</th>\n",
       "      <th>mean</th>\n",
       "      <th>mean_se</th>\n",
       "      <th>mean_ci_lower</th>\n",
       "      <th>mean_ci_upper</th>\n",
       "    </tr>\n",
       "  </thead>\n",
       "  <tbody>\n",
       "    <tr>\n",
       "      <th>2021-01-09</th>\n",
       "      <td>21.428590</td>\n",
       "      <td>2.086613</td>\n",
       "      <td>17.338902</td>\n",
       "      <td>25.518277</td>\n",
       "    </tr>\n",
       "    <tr>\n",
       "      <th>2021-01-16</th>\n",
       "      <td>22.269501</td>\n",
       "      <td>3.129373</td>\n",
       "      <td>16.136043</td>\n",
       "      <td>28.402959</td>\n",
       "    </tr>\n",
       "    <tr>\n",
       "      <th>2021-01-23</th>\n",
       "      <td>21.285204</td>\n",
       "      <td>4.603813</td>\n",
       "      <td>12.261896</td>\n",
       "      <td>30.308512</td>\n",
       "    </tr>\n",
       "    <tr>\n",
       "      <th>2021-01-30</th>\n",
       "      <td>21.545533</td>\n",
       "      <td>5.768163</td>\n",
       "      <td>10.240142</td>\n",
       "      <td>32.850924</td>\n",
       "    </tr>\n",
       "    <tr>\n",
       "      <th>2021-02-06</th>\n",
       "      <td>21.001126</td>\n",
       "      <td>6.926232</td>\n",
       "      <td>7.425962</td>\n",
       "      <td>34.576290</td>\n",
       "    </tr>\n",
       "    <tr>\n",
       "      <th>2021-02-13</th>\n",
       "      <td>20.934910</td>\n",
       "      <td>7.848469</td>\n",
       "      <td>5.552194</td>\n",
       "      <td>36.317626</td>\n",
       "    </tr>\n",
       "    <tr>\n",
       "      <th>2021-02-20</th>\n",
       "      <td>20.689860</td>\n",
       "      <td>8.638657</td>\n",
       "      <td>3.758403</td>\n",
       "      <td>37.621317</td>\n",
       "    </tr>\n",
       "    <tr>\n",
       "      <th>2021-02-27</th>\n",
       "      <td>20.555066</td>\n",
       "      <td>9.235298</td>\n",
       "      <td>2.454214</td>\n",
       "      <td>38.655918</td>\n",
       "    </tr>\n",
       "    <tr>\n",
       "      <th>2021-03-06</th>\n",
       "      <td>20.166450</td>\n",
       "      <td>9.689113</td>\n",
       "      <td>1.176137</td>\n",
       "      <td>39.156763</td>\n",
       "    </tr>\n",
       "    <tr>\n",
       "      <th>2021-03-13</th>\n",
       "      <td>20.244631</td>\n",
       "      <td>10.000150</td>\n",
       "      <td>0.644698</td>\n",
       "      <td>39.844564</td>\n",
       "    </tr>\n",
       "    <tr>\n",
       "      <th>2021-03-20</th>\n",
       "      <td>22.958221</td>\n",
       "      <td>10.204623</td>\n",
       "      <td>2.957526</td>\n",
       "      <td>42.958915</td>\n",
       "    </tr>\n",
       "    <tr>\n",
       "      <th>2021-03-27</th>\n",
       "      <td>22.751001</td>\n",
       "      <td>10.322632</td>\n",
       "      <td>2.519014</td>\n",
       "      <td>42.982987</td>\n",
       "    </tr>\n",
       "    <tr>\n",
       "      <th>2021-04-03</th>\n",
       "      <td>22.214593</td>\n",
       "      <td>10.382609</td>\n",
       "      <td>1.865053</td>\n",
       "      <td>42.564133</td>\n",
       "    </tr>\n",
       "    <tr>\n",
       "      <th>2021-04-10</th>\n",
       "      <td>23.874536</td>\n",
       "      <td>10.405533</td>\n",
       "      <td>3.480067</td>\n",
       "      <td>44.269005</td>\n",
       "    </tr>\n",
       "    <tr>\n",
       "      <th>2021-04-17</th>\n",
       "      <td>22.093822</td>\n",
       "      <td>10.410386</td>\n",
       "      <td>1.689840</td>\n",
       "      <td>42.497804</td>\n",
       "    </tr>\n",
       "    <tr>\n",
       "      <th>2021-04-24</th>\n",
       "      <td>21.232352</td>\n",
       "      <td>10.410390</td>\n",
       "      <td>0.828362</td>\n",
       "      <td>41.636341</td>\n",
       "    </tr>\n",
       "    <tr>\n",
       "      <th>2021-05-01</th>\n",
       "      <td>20.945072</td>\n",
       "      <td>10.414068</td>\n",
       "      <td>0.533875</td>\n",
       "      <td>41.356270</td>\n",
       "    </tr>\n",
       "    <tr>\n",
       "      <th>2021-05-08</th>\n",
       "      <td>20.306512</td>\n",
       "      <td>10.425560</td>\n",
       "      <td>-0.127211</td>\n",
       "      <td>40.740234</td>\n",
       "    </tr>\n",
       "  </tbody>\n",
       "</table>\n",
       "</div>"
      ],
      "text/plain": [
       "new_week_deaths       mean    mean_se  mean_ci_lower  mean_ci_upper\n",
       "2021-01-09       21.428590   2.086613      17.338902      25.518277\n",
       "2021-01-16       22.269501   3.129373      16.136043      28.402959\n",
       "2021-01-23       21.285204   4.603813      12.261896      30.308512\n",
       "2021-01-30       21.545533   5.768163      10.240142      32.850924\n",
       "2021-02-06       21.001126   6.926232       7.425962      34.576290\n",
       "2021-02-13       20.934910   7.848469       5.552194      36.317626\n",
       "2021-02-20       20.689860   8.638657       3.758403      37.621317\n",
       "2021-02-27       20.555066   9.235298       2.454214      38.655918\n",
       "2021-03-06       20.166450   9.689113       1.176137      39.156763\n",
       "2021-03-13       20.244631  10.000150       0.644698      39.844564\n",
       "2021-03-20       22.958221  10.204623       2.957526      42.958915\n",
       "2021-03-27       22.751001  10.322632       2.519014      42.982987\n",
       "2021-04-03       22.214593  10.382609       1.865053      42.564133\n",
       "2021-04-10       23.874536  10.405533       3.480067      44.269005\n",
       "2021-04-17       22.093822  10.410386       1.689840      42.497804\n",
       "2021-04-24       21.232352  10.410390       0.828362      41.636341\n",
       "2021-05-01       20.945072  10.414068       0.533875      41.356270\n",
       "2021-05-08       20.306512  10.425560      -0.127211      40.740234"
      ]
     },
     "execution_count": 404,
     "metadata": {},
     "output_type": "execute_result"
    }
   ],
   "source": [
    "predict"
   ]
  },
  {
   "cell_type": "code",
   "execution_count": 405,
   "metadata": {},
   "outputs": [],
   "source": [
    "#erro da previsão\n",
    "from sklearn.metrics import mean_squared_error\n",
    "err_gtrends=mean_squared_error(forecast1,test[ind],squared=False)\n",
    "merr_gtrends= mean_absolute_error(forecast1,test[ind])"
   ]
  },
  {
   "cell_type": "markdown",
   "metadata": {},
   "source": [
    "# Teste 1: Arima apenas com o indicador"
   ]
  },
  {
   "cell_type": "code",
   "execution_count": 406,
   "metadata": {},
   "outputs": [],
   "source": [
    "param2=pm.arima.auto_arima(train[ind])\n",
    "order=param2.order"
   ]
  },
  {
   "cell_type": "code",
   "execution_count": 407,
   "metadata": {},
   "outputs": [
    {
     "name": "stdout",
     "output_type": "stream",
     "text": [
      "ARIMA (3, 0, 0)  erro= 3.741059927459121 2.032581215404774\n"
     ]
    }
   ],
   "source": [
    "#order foi o melhor resultado\n",
    "arima=ARIMA(train[ind],freq='W-Sat',order=order).fit()\n",
    "forecast2=arima.forecast(steps=len(test))\n",
    "terr_nogtrends=np.sqrt((arima.resid**2).mean())\n",
    "tmerr_nogtrends=(np.abs(arima.resid)).mean()\n",
    "print('ARIMA',order,' erro=',terr_nogtrends, tmerr_nogtrends)"
   ]
  },
  {
   "cell_type": "code",
   "execution_count": 408,
   "metadata": {},
   "outputs": [
    {
     "data": {
      "text/plain": [
       "const     1.882781e-07\n",
       "ar.L1     2.321967e-09\n",
       "ar.L2     3.478240e-01\n",
       "ar.L3     1.026381e-02\n",
       "sigma2    3.241871e-05\n",
       "dtype: float64"
      ]
     },
     "execution_count": 408,
     "metadata": {},
     "output_type": "execute_result"
    }
   ],
   "source": [
    "arima.pvalues"
   ]
  },
  {
   "cell_type": "code",
   "execution_count": 409,
   "metadata": {},
   "outputs": [
    {
     "data": {
      "image/png": "[encoded data removed]",
      "text/plain": [
       "<Figure size 720x360 with 1 Axes>"
      ]
     },
     "metadata": {
      "needs_background": "light"
     },
     "output_type": "display_data"
    }
   ],
   "source": [
    "predict=arima.get_forecast(steps=len(test)).summary_frame()\n",
    "plt.figure(figsize=(10,5))\n",
    "plt.plot(test[ind],label='test', linestyle='-', marker='o')\n",
    "plt.plot(forecast2,label='forecast', linestyle='-', marker='o')\n",
    "plt.plot(predict['mean_ci_lower'], color='#990099', marker='.', linestyle=':', label='Lower 95%')\n",
    "plt.plot(predict['mean_ci_upper'], color='#0000cc', marker='.', linestyle=':', label='Upper 95%')\n",
    "plt.fill_between(test.index,predict['mean_ci_lower'], predict['mean_ci_upper'], color = 'b', alpha = 0.15)\n",
    "plt.legend()\n",
    "plt.show()"
   ]
  },
  {
   "cell_type": "code",
   "execution_count": 410,
   "metadata": {
    "scrolled": true
   },
   "outputs": [
    {
     "data": {
      "image/png": "[encoded data removed]",
      "text/plain": [
       "<Figure size 720x360 with 1 Axes>"
      ]
     },
     "metadata": {
      "needs_background": "light"
     },
     "output_type": "display_data"
    }
   ],
   "source": [
    "plt.figure(figsize=(10,5))\n",
    "plt.plot(train[ind], linestyle='-',label='train')\n",
    "plt.plot(arima.predict(), linestyle='-',label='model')\n",
    "plt.plot(test[ind],label='test',linestyle='-', marker='o')\n",
    "plt.plot(forecast2,label='predict', linestyle='-', marker='o')\n",
    "plt.legend()\n",
    "plt.show()"
   ]
  },
  {
   "cell_type": "code",
   "execution_count": 411,
   "metadata": {},
   "outputs": [
    {
     "data": {
      "text/html": [
       "<div>\n",
       "<style scoped>\n",
       "    .dataframe tbody tr th:only-of-type {\n",
       "        vertical-align: middle;\n",
       "    }\n",
       "\n",
       "    .dataframe tbody tr th {\n",
       "        vertical-align: top;\n",
       "    }\n",
       "\n",
       "    .dataframe thead th {\n",
       "        text-align: right;\n",
       "    }\n",
       "</style>\n",
       "<table border=\"1\" class=\"dataframe\">\n",
       "  <thead>\n",
       "    <tr style=\"text-align: right;\">\n",
       "      <th>new_week_deaths</th>\n",
       "      <th>mean</th>\n",
       "      <th>mean_se</th>\n",
       "      <th>mean_ci_lower</th>\n",
       "      <th>mean_ci_upper</th>\n",
       "    </tr>\n",
       "  </thead>\n",
       "  <tbody>\n",
       "    <tr>\n",
       "      <th>2021-01-09</th>\n",
       "      <td>21.474596</td>\n",
       "      <td>2.113857</td>\n",
       "      <td>17.331513</td>\n",
       "      <td>25.617679</td>\n",
       "    </tr>\n",
       "    <tr>\n",
       "      <th>2021-01-16</th>\n",
       "      <td>22.289046</td>\n",
       "      <td>3.178679</td>\n",
       "      <td>16.058950</td>\n",
       "      <td>28.519142</td>\n",
       "    </tr>\n",
       "    <tr>\n",
       "      <th>2021-01-23</th>\n",
       "      <td>21.341645</td>\n",
       "      <td>4.674444</td>\n",
       "      <td>12.179903</td>\n",
       "      <td>30.503388</td>\n",
       "    </tr>\n",
       "    <tr>\n",
       "      <th>2021-01-30</th>\n",
       "      <td>21.549552</td>\n",
       "      <td>5.860992</td>\n",
       "      <td>10.062220</td>\n",
       "      <td>33.036884</td>\n",
       "    </tr>\n",
       "    <tr>\n",
       "      <th>2021-02-06</th>\n",
       "      <td>20.991712</td>\n",
       "      <td>7.036055</td>\n",
       "      <td>7.201298</td>\n",
       "      <td>34.782127</td>\n",
       "    </tr>\n",
       "    <tr>\n",
       "      <th>2021-02-13</th>\n",
       "      <td>20.963725</td>\n",
       "      <td>7.973459</td>\n",
       "      <td>5.336032</td>\n",
       "      <td>36.591418</td>\n",
       "    </tr>\n",
       "    <tr>\n",
       "      <th>2021-02-20</th>\n",
       "      <td>20.616490</td>\n",
       "      <td>8.773517</td>\n",
       "      <td>3.420713</td>\n",
       "      <td>37.812266</td>\n",
       "    </tr>\n",
       "    <tr>\n",
       "      <th>2021-02-27</th>\n",
       "      <td>20.524761</td>\n",
       "      <td>9.377167</td>\n",
       "      <td>2.145852</td>\n",
       "      <td>38.903669</td>\n",
       "    </tr>\n",
       "    <tr>\n",
       "      <th>2021-03-06</th>\n",
       "      <td>20.312161</td>\n",
       "      <td>9.833999</td>\n",
       "      <td>1.037878</td>\n",
       "      <td>39.586445</td>\n",
       "    </tr>\n",
       "    <tr>\n",
       "      <th>2021-03-13</th>\n",
       "      <td>20.232281</td>\n",
       "      <td>10.145817</td>\n",
       "      <td>0.346845</td>\n",
       "      <td>40.117717</td>\n",
       "    </tr>\n",
       "    <tr>\n",
       "      <th>2021-03-20</th>\n",
       "      <td>20.116705</td>\n",
       "      <td>10.348989</td>\n",
       "      <td>-0.166940</td>\n",
       "      <td>40.400350</td>\n",
       "    </tr>\n",
       "    <tr>\n",
       "      <th>2021-03-27</th>\n",
       "      <td>20.075641</td>\n",
       "      <td>10.464899</td>\n",
       "      <td>-0.435185</td>\n",
       "      <td>40.586467</td>\n",
       "    </tr>\n",
       "    <tr>\n",
       "      <th>2021-04-03</th>\n",
       "      <td>20.032050</td>\n",
       "      <td>10.522524</td>\n",
       "      <td>-0.591719</td>\n",
       "      <td>40.655819</td>\n",
       "    </tr>\n",
       "    <tr>\n",
       "      <th>2021-04-10</th>\n",
       "      <td>20.032184</td>\n",
       "      <td>10.543619</td>\n",
       "      <td>-0.632929</td>\n",
       "      <td>40.697298</td>\n",
       "    </tr>\n",
       "    <tr>\n",
       "      <th>2021-04-17</th>\n",
       "      <td>20.039332</td>\n",
       "      <td>10.547503</td>\n",
       "      <td>-0.633395</td>\n",
       "      <td>40.712059</td>\n",
       "    </tr>\n",
       "    <tr>\n",
       "      <th>2021-04-24</th>\n",
       "      <td>20.071499</td>\n",
       "      <td>10.547605</td>\n",
       "      <td>-0.601427</td>\n",
       "      <td>40.744425</td>\n",
       "    </tr>\n",
       "    <tr>\n",
       "      <th>2021-05-01</th>\n",
       "      <td>20.110124</td>\n",
       "      <td>10.552377</td>\n",
       "      <td>-0.572155</td>\n",
       "      <td>40.792403</td>\n",
       "    </tr>\n",
       "    <tr>\n",
       "      <th>2021-05-08</th>\n",
       "      <td>20.161136</td>\n",
       "      <td>10.565740</td>\n",
       "      <td>-0.547333</td>\n",
       "      <td>40.869605</td>\n",
       "    </tr>\n",
       "  </tbody>\n",
       "</table>\n",
       "</div>"
      ],
      "text/plain": [
       "new_week_deaths       mean    mean_se  mean_ci_lower  mean_ci_upper\n",
       "2021-01-09       21.474596   2.113857      17.331513      25.617679\n",
       "2021-01-16       22.289046   3.178679      16.058950      28.519142\n",
       "2021-01-23       21.341645   4.674444      12.179903      30.503388\n",
       "2021-01-30       21.549552   5.860992      10.062220      33.036884\n",
       "2021-02-06       20.991712   7.036055       7.201298      34.782127\n",
       "2021-02-13       20.963725   7.973459       5.336032      36.591418\n",
       "2021-02-20       20.616490   8.773517       3.420713      37.812266\n",
       "2021-02-27       20.524761   9.377167       2.145852      38.903669\n",
       "2021-03-06       20.312161   9.833999       1.037878      39.586445\n",
       "2021-03-13       20.232281  10.145817       0.346845      40.117717\n",
       "2021-03-20       20.116705  10.348989      -0.166940      40.400350\n",
       "2021-03-27       20.075641  10.464899      -0.435185      40.586467\n",
       "2021-04-03       20.032050  10.522524      -0.591719      40.655819\n",
       "2021-04-10       20.032184  10.543619      -0.632929      40.697298\n",
       "2021-04-17       20.039332  10.547503      -0.633395      40.712059\n",
       "2021-04-24       20.071499  10.547605      -0.601427      40.744425\n",
       "2021-05-01       20.110124  10.552377      -0.572155      40.792403\n",
       "2021-05-08       20.161136  10.565740      -0.547333      40.869605"
      ]
     },
     "execution_count": 411,
     "metadata": {},
     "output_type": "execute_result"
    }
   ],
   "source": [
    "predict"
   ]
  },
  {
   "cell_type": "code",
   "execution_count": 412,
   "metadata": {},
   "outputs": [],
   "source": [
    "#erro da previsão\n",
    "err_nogtrends=mean_squared_error(forecast2,test[ind],squared=False)\n",
    "merr_nogtrends= mean_absolute_error(forecast2,test[ind])"
   ]
  },
  {
   "cell_type": "code",
   "execution_count": 413,
   "metadata": {},
   "outputs": [
    {
     "name": "stdout",
     "output_type": "stream",
     "text": [
      "Erro da previsão sem gtrends:  46.30276271522682 \n",
      "Erro da previsão com gtrends:  45.019503835852284\n"
     ]
    }
   ],
   "source": [
    "#comparando os erros das previsões\n",
    "print(\"Erro da previsão sem gtrends: \",err_nogtrends,\"\\nErro da previsão com gtrends: \",err_gtrends)"
   ]
  },
  {
   "cell_type": "markdown",
   "metadata": {},
   "source": [
    "# Sobre a previsão 1\n",
    "Temos uma previsão, mas será que os dados google trends realmente a auxiliaram?\n",
    "\n",
    "O que pode-se observar, é que realmente auxiliaram a previsão de casos, mas não a de mortes."
   ]
  },
  {
   "cell_type": "markdown",
   "metadata": {},
   "source": [
    "# Previsão 2 - Usando todas as keywords com alta correlação até um determinado lag"
   ]
  },
  {
   "cell_type": "code",
   "execution_count": 414,
   "metadata": {},
   "outputs": [],
   "source": [
    "kwBR=pd.read_csv('SeriesKeywords.csv')\n",
    "kwMG=pd.read_csv('SeriesKeywordsMg.csv')\n",
    "kwBR=kwBR[:63]\n",
    "kwMG=kwMG[:63]\n",
    "conn =sqlite3.connect(\"indicadores.db\")\n",
    "brasilDf=pd.read_sql_query(\"select * from brazil_df\",conn)\n",
    "statesDf=pd.read_sql_query(\"select * from states_df\",conn)\n",
    "conn.close()"
   ]
  },
  {
   "cell_type": "code",
   "execution_count": 415,
   "metadata": {},
   "outputs": [],
   "source": [
    "#obtendo dados apenas das semanas desejadas dos indicadores\n",
    "#lag é o max lag a ser explorado\n",
    "lag=4\n",
    "brasilDf=brasilDf.iloc[lag:].reset_index(drop=True)\n",
    "statesDf=statesDf[statesDf['state']=='MG']\n",
    "statesDf=statesDf.iloc[lag:].reset_index(drop=True)"
   ]
  },
  {
   "cell_type": "code",
   "execution_count": 416,
   "metadata": {},
   "outputs": [],
   "source": [
    "#normalizando os dados de indicador a serem usados\n",
    "brasilDf['new_week_cases']=(brasilDf['new_week_cases']/brasilDf['new_week_cases'].max())*100\n",
    "brasilDf['new_week_deaths']=(brasilDf['new_week_deaths']/brasilDf['new_week_deaths'].max())*100\n",
    "statesDf['new_week_cases']=(statesDf['new_week_cases']/statesDf['new_week_cases'].max())*100\n",
    "statesDf['new_week_deaths']=(statesDf['new_week_deaths']/statesDf['new_week_deaths'].max())*100"
   ]
  },
  {
   "cell_type": "code",
   "execution_count": 417,
   "metadata": {},
   "outputs": [],
   "source": [
    "#extraindo apenas dados necessários das databases\n",
    "brasilDf=brasilDf.set_index('epidemiological_week')\n",
    "statesDf=statesDf.set_index('epidemiological_week')\n",
    "brasilDf=brasilDf[['new_week_cases','new_week_deaths','week_last_day']]\n",
    "statesDf=statesDf[['new_week_cases','new_week_deaths','week_last_day']]\n",
    "kwBR=kwBR.drop('date',axis=1)\n",
    "kwMG=kwMG.drop('date',axis=1)"
   ]
  },
  {
   "cell_type": "code",
   "execution_count": 418,
   "metadata": {},
   "outputs": [],
   "source": [
    "X=pd.DataFrame()\n",
    "for i in range(len(Corr)):\n",
    "    if Corr['Lag'].iloc[i]<=lag and np.abs(Corr['MaxCorrelation'].iloc[i])>=0.7:\n",
    "        try:\n",
    "            X[Corr['Keyword'].iloc[i]]=kwBR[lag-Corr['Lag'].iloc[i]:-Corr['Lag'].iloc[i]].reset_index()[Corr['Keyword'].iloc[i]].copy()\n",
    "        except:\n",
    "            print(i,Corr['Keyword'].iloc[i])\n",
    "Y=brasilDf[[ind,'week_last_day']].copy()\n",
    "Y=Y.reset_index(drop=True)"
   ]
  },
  {
   "cell_type": "code",
   "execution_count": 419,
   "metadata": {},
   "outputs": [],
   "source": [
    "#unindo x e y\n",
    "df=X.copy()\n",
    "df[ind]=Y[ind].copy()\n",
    "df['date']=Y['week_last_day'].copy()\n",
    "#renomeando colunas para tirar espaço e facilitar a proxima etapa\n",
    "for i in df:\n",
    "    df.rename({i:i.replace(' ','_')},axis=1,inplace=True)\n",
    "#colocando o indice como as datas\n",
    "df['date']=pd.to_datetime(df['date'])\n",
    "df.set_index('date',inplace=True)\n",
    "df=df.asfreq('W-Sat')"
   ]
  },
  {
   "cell_type": "code",
   "execution_count": 420,
   "metadata": {},
   "outputs": [
    {
     "data": {
      "text/plain": [
       "['decreto_lockdown',\n",
       " 'covid',\n",
       " 'estou_com_covid',\n",
       " 'peguei_covid',\n",
       " 'oximetro',\n",
       " 'oximetro_de_dedo',\n",
       " 'teste_covid',\n",
       " 'tomar_ivermectina',\n",
       " 'sintomas_do_covid',\n",
       " 'reagente_igg',\n",
       " 'taxa_de_ocupação_de_leitos',\n",
       " 'teste_rápido_covid',\n",
       " 'exame_covid',\n",
       " 'new_week_deaths']"
      ]
     },
     "execution_count": 420,
     "metadata": {},
     "output_type": "execute_result"
    }
   ],
   "source": [
    "list(df.columns)"
   ]
  },
  {
   "cell_type": "code",
   "execution_count": 421,
   "metadata": {},
   "outputs": [],
   "source": [
    "#dividindo em treino e teste\n",
    "trainsize=round(percentage*len(df))\n",
    "train=df[:trainsize]\n",
    "test=df[trainsize:]"
   ]
  },
  {
   "cell_type": "code",
   "execution_count": 422,
   "metadata": {},
   "outputs": [],
   "source": [
    "param3=pm.arima.auto_arima(train[ind],X=train.drop(ind,axis=1))\n",
    "order=param3.order"
   ]
  },
  {
   "cell_type": "code",
   "execution_count": 423,
   "metadata": {},
   "outputs": [
    {
     "name": "stdout",
     "output_type": "stream",
     "text": [
      "ARIMA (0, 0, 1)  erro= 3.700368733021278 1.5279897354340473\n"
     ]
    },
    {
     "name": "stderr",
     "output_type": "stream",
     "text": [
      "C:\\Users\\msart\\anaconda3\\lib\\site-packages\\statsmodels\\base\\model.py:568: ConvergenceWarning: Maximum Likelihood optimization failed to converge. Check mle_retvals\n",
      "  ConvergenceWarning)\n"
     ]
    }
   ],
   "source": [
    "#order foi o melhor resultado\n",
    "arimax=ARIMA(endog=train[ind],freq='W-Sat',order=order,exog=train.drop(ind,axis=1)).fit()\n",
    "forecast3=arimax.forecast(steps=len(test),exog=test.drop(ind,axis=1))\n",
    "terr_keywords=np.sqrt((arimax.resid**2).mean())\n",
    "tmerr_keywords=(np.abs(arimax.resid)).mean()\n",
    "print('ARIMA',order,' erro=',erro,merro)"
   ]
  },
  {
   "cell_type": "code",
   "execution_count": 424,
   "metadata": {},
   "outputs": [
    {
     "data": {
      "text/plain": [
       "const                         9.621550e-01\n",
       "decreto_lockdown              1.367416e-02\n",
       "covid                         3.873242e-02\n",
       "estou_com_covid               4.612893e-01\n",
       "peguei_covid                  6.666884e-01\n",
       "oximetro                      6.932923e-01\n",
       "oximetro_de_dedo              2.536582e-01\n",
       "teste_covid                   4.608025e-01\n",
       "tomar_ivermectina             4.166896e-02\n",
       "sintomas_do_covid             1.230749e-01\n",
       "reagente_igg                  1.594323e-02\n",
       "taxa_de_ocupação_de_leitos    2.749509e-01\n",
       "teste_rápido_covid            3.580257e-03\n",
       "exame_covid                   5.958833e-01\n",
       "ma.L1                         7.714935e-11\n",
       "sigma2                        9.693588e-03\n",
       "dtype: float64"
      ]
     },
     "execution_count": 424,
     "metadata": {},
     "output_type": "execute_result"
    }
   ],
   "source": [
    "arimax.pvalues"
   ]
  },
  {
   "cell_type": "code",
   "execution_count": 425,
   "metadata": {},
   "outputs": [
    {
     "data": {
      "image/png": "[encoded data removed]",
      "text/plain": [
       "<Figure size 720x360 with 1 Axes>"
      ]
     },
     "metadata": {
      "needs_background": "light"
     },
     "output_type": "display_data"
    }
   ],
   "source": [
    "predict=arimax.get_forecast(steps=len(test),exog=test.drop(ind,axis=1)).summary_frame()\n",
    "plt.figure(figsize=(10,5))\n",
    "plt.plot(test[ind],label='test', linestyle='-', marker='o')\n",
    "plt.plot(forecast3,label='forecast', linestyle='-', marker='o')\n",
    "#plt.plot(predict['mean_ci_lower'], color='#990099', marker='.', linestyle=':', label='Lower 95%')\n",
    "#plt.plot(predict['mean_ci_upper'], color='#0000cc', marker='.', linestyle=':', label='Upper 95%')\n",
    "#plt.fill_between(test.index,predict['mean_ci_lower'], predict['mean_ci_upper'], color = 'b', alpha = 0.15)\n",
    "plt.legend()\n",
    "plt.show()"
   ]
  },
  {
   "cell_type": "code",
   "execution_count": 426,
   "metadata": {
    "scrolled": true
   },
   "outputs": [
    {
     "data": {
      "image/png": "[encoded data removed]",
      "text/plain": [
       "<Figure size 720x360 with 1 Axes>"
      ]
     },
     "metadata": {
      "needs_background": "light"
     },
     "output_type": "display_data"
    }
   ],
   "source": [
    "plt.figure(figsize=(10,5))\n",
    "plt.plot(train[ind], linestyle='-',label='train')\n",
    "plt.plot(arimax.predict(), linestyle='-',label='model')\n",
    "plt.plot(test[ind],label='test',linestyle='-', marker='o')\n",
    "plt.plot(forecast3,label='predict', linestyle='-', marker='o')\n",
    "plt.legend()\n",
    "plt.show()"
   ]
  },
  {
   "cell_type": "code",
   "execution_count": 427,
   "metadata": {},
   "outputs": [
    {
     "name": "stdout",
     "output_type": "stream",
     "text": [
      "27.487833175459173 22.595451161488267\n"
     ]
    }
   ],
   "source": [
    "err_keywords=mean_squared_error(forecast3,test[ind],squared=False)\n",
    "merr_keywords= mean_absolute_error(forecast3,test[ind])\n",
    "print(err_keywords,merr_keywords)"
   ]
  },
  {
   "cell_type": "markdown",
   "metadata": {},
   "source": [
    "# Previsão 3: Usando Arimax com as keywords Gtrends e new_week_cases com o lag que garante maior correlação"
   ]
  },
  {
   "cell_type": "code",
   "execution_count": 428,
   "metadata": {},
   "outputs": [],
   "source": [
    "kwBR=pd.read_csv('SeriesKeywords.csv')\n",
    "kwMG=pd.read_csv('SeriesKeywordsMg.csv')\n",
    "kwBR=kwBR[:63]\n",
    "kwMG=kwMG[:63]\n",
    "conn =sqlite3.connect(\"indicadores.db\")\n",
    "brasilDf=pd.read_sql_query(\"select * from brazil_df\",conn)\n",
    "brasilDf2=pd.read_sql_query(\"select * from brazil_df\",conn)\n",
    "statesDf=pd.read_sql_query(\"select * from states_df\",conn)\n",
    "conn.close()"
   ]
  },
  {
   "cell_type": "code",
   "execution_count": 429,
   "metadata": {},
   "outputs": [],
   "source": [
    "#obtendo dados apenas das semanas desejadas dos indicadores\n",
    "#lag é o max lag a ser explorado\n",
    "lag=4\n",
    "brasilDf=brasilDf.iloc[lag:].reset_index(drop=True)\n",
    "statesDf=statesDf[statesDf['state']=='MG']\n",
    "statesDf=statesDf.iloc[lag:].reset_index(drop=True)"
   ]
  },
  {
   "cell_type": "code",
   "execution_count": 430,
   "metadata": {},
   "outputs": [],
   "source": [
    "#normalizando os dados de indicador a serem usados\n",
    "brasilDf['new_week_cases']=(brasilDf['new_week_cases']/brasilDf['new_week_cases'].max())*100\n",
    "brasilDf2['new_week_cases']=(brasilDf2['new_week_cases']/brasilDf2['new_week_cases'].max())*100\n",
    "brasilDf['new_week_deaths']=(brasilDf['new_week_deaths']/brasilDf['new_week_deaths'].max())*100\n",
    "statesDf['new_week_cases']=(statesDf['new_week_cases']/statesDf['new_week_cases'].max())*100\n",
    "statesDf['new_week_deaths']=(statesDf['new_week_deaths']/statesDf['new_week_deaths'].max())*100"
   ]
  },
  {
   "cell_type": "code",
   "execution_count": 431,
   "metadata": {},
   "outputs": [],
   "source": [
    "#extraindo apenas dados necessários das databases\n",
    "brasilDf=brasilDf.set_index('epidemiological_week')\n",
    "statesDf=statesDf.set_index('epidemiological_week')\n",
    "brasilDf=brasilDf[['new_week_cases','new_week_deaths','week_last_day']]\n",
    "statesDf=statesDf[['new_week_cases','new_week_deaths','week_last_day']]\n",
    "kwBR=kwBR.drop('date',axis=1)\n",
    "kwMG=kwMG.drop('date',axis=1)"
   ]
  },
  {
   "cell_type": "code",
   "execution_count": 432,
   "metadata": {},
   "outputs": [],
   "source": [
    "X=pd.DataFrame()\n",
    "for i in range(len(Corr)):\n",
    "    if Corr['Lag'].iloc[i]<=lag and np.abs(Corr['MaxCorrelation'].iloc[i])>=0.7:\n",
    "        try:\n",
    "            X[Corr['Keyword'].iloc[i]]=kwBR[lag-Corr['Lag'].iloc[i]:-Corr['Lag'].iloc[i]].reset_index()[Corr['Keyword'].iloc[i]].copy()\n",
    "        except:\n",
    "            print(i,Corr['Keyword'].iloc[i])\n",
    "Y=brasilDf[[ind,'week_last_day']].copy()\n",
    "Y=Y.reset_index(drop=True)"
   ]
  },
  {
   "cell_type": "code",
   "execution_count": 433,
   "metadata": {},
   "outputs": [
    {
     "name": "stdout",
     "output_type": "stream",
     "text": [
      "0.8036820572764465 3\n"
     ]
    }
   ],
   "source": [
    "#achando o lag otimo para new_week_cases\n",
    "k=pd.DataFrame()\n",
    "k[ind]=Y[ind]\n",
    "maxcor=0\n",
    "for i in range(0,5):\n",
    "    k['new_week_cases']=brasilDf2[i:-(4-i)].reset_index()['new_week_cases']\n",
    "    cor=k.corr(method='spearman')['new_week_cases'].loc['new_week_deaths']\n",
    "    if(cor>maxcor):\n",
    "        maxcor=cor\n",
    "        newcaseslag=i\n",
    "print(maxcor,newcaseslag)"
   ]
  },
  {
   "cell_type": "code",
   "execution_count": 434,
   "metadata": {},
   "outputs": [],
   "source": [
    "#unindo x e y\n",
    "df=X.copy()\n",
    "df[ind]=Y[ind].copy()\n",
    "df['date']=Y['week_last_day'].copy()\n",
    "#renomeando colunas para tirar espaço e facilitar a proxima etapa\n",
    "for i in df:\n",
    "    df.rename({i:i.replace(' ','_')},axis=1,inplace=True)\n",
    "df['new_week_cases']=brasilDf2[newcaseslag:-(4-newcaseslag)].reset_index()['new_week_cases']\n",
    "#colocando o indice como as datas\n",
    "df['date']=pd.to_datetime(df['date'])\n",
    "df.set_index('date',inplace=True)\n",
    "df=df.asfreq('W-Sat')"
   ]
  },
  {
   "cell_type": "code",
   "execution_count": 435,
   "metadata": {},
   "outputs": [
    {
     "data": {
      "text/plain": [
       "['decreto_lockdown',\n",
       " 'covid',\n",
       " 'estou_com_covid',\n",
       " 'peguei_covid',\n",
       " 'oximetro',\n",
       " 'oximetro_de_dedo',\n",
       " 'teste_covid',\n",
       " 'tomar_ivermectina',\n",
       " 'sintomas_do_covid',\n",
       " 'reagente_igg',\n",
       " 'taxa_de_ocupação_de_leitos',\n",
       " 'teste_rápido_covid',\n",
       " 'exame_covid',\n",
       " 'new_week_deaths',\n",
       " 'new_week_cases']"
      ]
     },
     "execution_count": 435,
     "metadata": {},
     "output_type": "execute_result"
    }
   ],
   "source": [
    "list(df.columns)"
   ]
  },
  {
   "cell_type": "code",
   "execution_count": 436,
   "metadata": {},
   "outputs": [],
   "source": [
    "#dividindo em treino e teste\n",
    "trainsize=round(percentage*len(df))\n",
    "train=df[:trainsize]\n",
    "test=df[trainsize:]"
   ]
  },
  {
   "cell_type": "code",
   "execution_count": 437,
   "metadata": {},
   "outputs": [],
   "source": [
    "param4=pm.arima.auto_arima(train[ind],X=train.drop(ind,axis=1))\n",
    "order=param4.order"
   ]
  },
  {
   "cell_type": "code",
   "execution_count": 438,
   "metadata": {},
   "outputs": [
    {
     "name": "stdout",
     "output_type": "stream",
     "text": [
      "ARIMA (0, 0, 1)  erro= 3.700368733021278\n"
     ]
    },
    {
     "name": "stderr",
     "output_type": "stream",
     "text": [
      "C:\\Users\\msart\\anaconda3\\lib\\site-packages\\statsmodels\\base\\model.py:568: ConvergenceWarning: Maximum Likelihood optimization failed to converge. Check mle_retvals\n",
      "  ConvergenceWarning)\n"
     ]
    }
   ],
   "source": [
    "#order foi o melhor resultado\n",
    "arimax=ARIMA(endog=train[ind],freq='W-Sat',order=order,exog=train.drop(ind,axis=1)).fit()\n",
    "forecast4=arimax.forecast(steps=len(test),exog=test.drop(ind,axis=1))\n",
    "terr_allparameters=np.sqrt((arimax.resid**2).mean())\n",
    "tmerr_allparameters=(np.abs(arimax.resid)).mean()\n",
    "print('ARIMA',order,' erro=',erro)"
   ]
  },
  {
   "cell_type": "code",
   "execution_count": 439,
   "metadata": {},
   "outputs": [
    {
     "data": {
      "image/png": "[encoded data removed]",
      "text/plain": [
       "<Figure size 720x360 with 1 Axes>"
      ]
     },
     "metadata": {
      "needs_background": "light"
     },
     "output_type": "display_data"
    }
   ],
   "source": [
    "predict=arimax.get_forecast(steps=len(test),exog=test.drop(ind,axis=1)).summary_frame()\n",
    "plt.figure(figsize=(10,5))\n",
    "plt.plot(test[ind],label='test', linestyle='-', marker='o')\n",
    "plt.plot(forecast4,label='forecast', linestyle='-', marker='o')\n",
    "#plt.plot(predict['mean_ci_lower'], color='#990099', marker='.', linestyle=':', label='Lower 95%')\n",
    "#plt.plot(predict['mean_ci_upper'], color='#0000cc', marker='.', linestyle=':', label='Upper 95%')\n",
    "#plt.fill_between(test.index,predict['mean_ci_lower'], predict['mean_ci_upper'], color = 'b', alpha = 0.15)\n",
    "plt.legend()\n",
    "plt.show()"
   ]
  },
  {
   "cell_type": "code",
   "execution_count": 440,
   "metadata": {
    "scrolled": true
   },
   "outputs": [
    {
     "data": {
      "image/png": "[encoded data removed]",
      "text/plain": [
       "<Figure size 720x360 with 1 Axes>"
      ]
     },
     "metadata": {
      "needs_background": "light"
     },
     "output_type": "display_data"
    }
   ],
   "source": [
    "plt.figure(figsize=(10,5))\n",
    "plt.plot(train[ind], linestyle='-',label='train')\n",
    "plt.plot(arimax.predict(), linestyle='-',label='model')\n",
    "plt.plot(test[ind],label='test',linestyle='-', marker='o')\n",
    "plt.plot(forecast4,label='predict', linestyle='-', marker='o')\n",
    "plt.legend()\n",
    "plt.show()"
   ]
  },
  {
   "cell_type": "code",
   "execution_count": 441,
   "metadata": {
    "scrolled": true
   },
   "outputs": [
    {
     "data": {
      "text/html": [
       "<div>\n",
       "<style scoped>\n",
       "    .dataframe tbody tr th:only-of-type {\n",
       "        vertical-align: middle;\n",
       "    }\n",
       "\n",
       "    .dataframe tbody tr th {\n",
       "        vertical-align: top;\n",
       "    }\n",
       "\n",
       "    .dataframe thead th {\n",
       "        text-align: right;\n",
       "    }\n",
       "</style>\n",
       "<table border=\"1\" class=\"dataframe\">\n",
       "  <thead>\n",
       "    <tr style=\"text-align: right;\">\n",
       "      <th>new_week_deaths</th>\n",
       "      <th>mean</th>\n",
       "      <th>mean_se</th>\n",
       "      <th>mean_ci_lower</th>\n",
       "      <th>mean_ci_upper</th>\n",
       "    </tr>\n",
       "  </thead>\n",
       "  <tbody>\n",
       "    <tr>\n",
       "      <th>2021-01-09</th>\n",
       "      <td>26.196363</td>\n",
       "      <td>1.792431</td>\n",
       "      <td>22.683263</td>\n",
       "      <td>29.709463</td>\n",
       "    </tr>\n",
       "    <tr>\n",
       "      <th>2021-01-16</th>\n",
       "      <td>31.005298</td>\n",
       "      <td>2.284371</td>\n",
       "      <td>26.528014</td>\n",
       "      <td>35.482582</td>\n",
       "    </tr>\n",
       "    <tr>\n",
       "      <th>2021-01-23</th>\n",
       "      <td>37.366339</td>\n",
       "      <td>2.284371</td>\n",
       "      <td>32.889055</td>\n",
       "      <td>41.843623</td>\n",
       "    </tr>\n",
       "    <tr>\n",
       "      <th>2021-01-30</th>\n",
       "      <td>34.310248</td>\n",
       "      <td>2.284371</td>\n",
       "      <td>29.832964</td>\n",
       "      <td>38.787532</td>\n",
       "    </tr>\n",
       "    <tr>\n",
       "      <th>2021-02-06</th>\n",
       "      <td>31.612953</td>\n",
       "      <td>2.284371</td>\n",
       "      <td>27.135669</td>\n",
       "      <td>36.090237</td>\n",
       "    </tr>\n",
       "    <tr>\n",
       "      <th>2021-02-13</th>\n",
       "      <td>28.359019</td>\n",
       "      <td>2.284371</td>\n",
       "      <td>23.881735</td>\n",
       "      <td>32.836303</td>\n",
       "    </tr>\n",
       "    <tr>\n",
       "      <th>2021-02-20</th>\n",
       "      <td>24.781831</td>\n",
       "      <td>2.284371</td>\n",
       "      <td>20.304547</td>\n",
       "      <td>29.259115</td>\n",
       "    </tr>\n",
       "    <tr>\n",
       "      <th>2021-02-27</th>\n",
       "      <td>25.961120</td>\n",
       "      <td>2.284371</td>\n",
       "      <td>21.483836</td>\n",
       "      <td>30.438404</td>\n",
       "    </tr>\n",
       "    <tr>\n",
       "      <th>2021-03-06</th>\n",
       "      <td>24.889011</td>\n",
       "      <td>2.284371</td>\n",
       "      <td>20.411727</td>\n",
       "      <td>29.366295</td>\n",
       "    </tr>\n",
       "    <tr>\n",
       "      <th>2021-03-13</th>\n",
       "      <td>28.796682</td>\n",
       "      <td>2.284371</td>\n",
       "      <td>24.319398</td>\n",
       "      <td>33.273966</td>\n",
       "    </tr>\n",
       "    <tr>\n",
       "      <th>2021-03-20</th>\n",
       "      <td>47.461959</td>\n",
       "      <td>2.284371</td>\n",
       "      <td>42.984675</td>\n",
       "      <td>51.939243</td>\n",
       "    </tr>\n",
       "    <tr>\n",
       "      <th>2021-03-27</th>\n",
       "      <td>53.904405</td>\n",
       "      <td>2.284371</td>\n",
       "      <td>49.427121</td>\n",
       "      <td>58.381689</td>\n",
       "    </tr>\n",
       "    <tr>\n",
       "      <th>2021-04-03</th>\n",
       "      <td>51.317979</td>\n",
       "      <td>2.284371</td>\n",
       "      <td>46.840695</td>\n",
       "      <td>55.795263</td>\n",
       "    </tr>\n",
       "    <tr>\n",
       "      <th>2021-04-10</th>\n",
       "      <td>59.888281</td>\n",
       "      <td>2.284371</td>\n",
       "      <td>55.410997</td>\n",
       "      <td>64.365565</td>\n",
       "    </tr>\n",
       "    <tr>\n",
       "      <th>2021-04-17</th>\n",
       "      <td>59.114004</td>\n",
       "      <td>2.284371</td>\n",
       "      <td>54.636720</td>\n",
       "      <td>63.591288</td>\n",
       "    </tr>\n",
       "    <tr>\n",
       "      <th>2021-04-24</th>\n",
       "      <td>51.623156</td>\n",
       "      <td>2.284371</td>\n",
       "      <td>47.145872</td>\n",
       "      <td>56.100440</td>\n",
       "    </tr>\n",
       "    <tr>\n",
       "      <th>2021-05-01</th>\n",
       "      <td>42.822015</td>\n",
       "      <td>2.284371</td>\n",
       "      <td>38.344731</td>\n",
       "      <td>47.299299</td>\n",
       "    </tr>\n",
       "    <tr>\n",
       "      <th>2021-05-08</th>\n",
       "      <td>36.057288</td>\n",
       "      <td>2.284371</td>\n",
       "      <td>31.580004</td>\n",
       "      <td>40.534572</td>\n",
       "    </tr>\n",
       "  </tbody>\n",
       "</table>\n",
       "</div>"
      ],
      "text/plain": [
       "new_week_deaths       mean   mean_se  mean_ci_lower  mean_ci_upper\n",
       "2021-01-09       26.196363  1.792431      22.683263      29.709463\n",
       "2021-01-16       31.005298  2.284371      26.528014      35.482582\n",
       "2021-01-23       37.366339  2.284371      32.889055      41.843623\n",
       "2021-01-30       34.310248  2.284371      29.832964      38.787532\n",
       "2021-02-06       31.612953  2.284371      27.135669      36.090237\n",
       "2021-02-13       28.359019  2.284371      23.881735      32.836303\n",
       "2021-02-20       24.781831  2.284371      20.304547      29.259115\n",
       "2021-02-27       25.961120  2.284371      21.483836      30.438404\n",
       "2021-03-06       24.889011  2.284371      20.411727      29.366295\n",
       "2021-03-13       28.796682  2.284371      24.319398      33.273966\n",
       "2021-03-20       47.461959  2.284371      42.984675      51.939243\n",
       "2021-03-27       53.904405  2.284371      49.427121      58.381689\n",
       "2021-04-03       51.317979  2.284371      46.840695      55.795263\n",
       "2021-04-10       59.888281  2.284371      55.410997      64.365565\n",
       "2021-04-17       59.114004  2.284371      54.636720      63.591288\n",
       "2021-04-24       51.623156  2.284371      47.145872      56.100440\n",
       "2021-05-01       42.822015  2.284371      38.344731      47.299299\n",
       "2021-05-08       36.057288  2.284371      31.580004      40.534572"
      ]
     },
     "execution_count": 441,
     "metadata": {},
     "output_type": "execute_result"
    }
   ],
   "source": [
    "predict"
   ]
  },
  {
   "cell_type": "code",
   "execution_count": 442,
   "metadata": {},
   "outputs": [],
   "source": [
    "err_allparameters=mean_squared_error(forecast4,test[ind],squared=False)\n",
    "merr_allparameters= mean_absolute_error(forecast4,test[ind])"
   ]
  },
  {
   "cell_type": "markdown",
   "metadata": {},
   "source": [
    "# Teste 2- Arimax apenas com o new_week_cases com lag"
   ]
  },
  {
   "cell_type": "code",
   "execution_count": 443,
   "metadata": {},
   "outputs": [],
   "source": [
    "param5=pm.arima.auto_arima(train[ind],X=train['new_week_cases'].values.reshape(-1,1))\n",
    "order=param5.order"
   ]
  },
  {
   "cell_type": "code",
   "execution_count": 444,
   "metadata": {},
   "outputs": [
    {
     "name": "stdout",
     "output_type": "stream",
     "text": [
      "ARIMA (1, 1, 2)  erro= 3.700368733021278\n"
     ]
    }
   ],
   "source": [
    "#order foi o melhor resultado\n",
    "arimax=ARIMA(endog=train[ind],freq='W-Sat',order=order,exog=train['new_week_cases']).fit()\n",
    "forecast5=arimax.forecast(steps=len(test),exog=test['new_week_cases'])\n",
    "terr_nwcases=np.sqrt((arimax.resid**2).mean())\n",
    "tmerr_nwcases=(np.abs(arimax.resid)).mean()\n",
    "print('ARIMA',order,' erro=',erro)"
   ]
  },
  {
   "cell_type": "code",
   "execution_count": 445,
   "metadata": {},
   "outputs": [
    {
     "data": {
      "image/png": "[encoded data removed]",
      "text/plain": [
       "<Figure size 720x360 with 1 Axes>"
      ]
     },
     "metadata": {
      "needs_background": "light"
     },
     "output_type": "display_data"
    }
   ],
   "source": [
    "predict=arimax.get_forecast(steps=len(test),exog=test['new_week_cases']).summary_frame()\n",
    "plt.figure(figsize=(10,5))\n",
    "plt.plot(test[ind],label='test', linestyle='-', marker='o')\n",
    "plt.plot(forecast5,label='forecast', linestyle='-', marker='o')\n",
    "plt.plot(predict['mean_ci_lower'], color='#990099', marker='.', linestyle=':', label='Lower 95%')\n",
    "plt.plot(predict['mean_ci_upper'], color='#0000cc', marker='.', linestyle=':', label='Upper 95%')\n",
    "plt.fill_between(test.index,predict['mean_ci_lower'], predict['mean_ci_upper'], color = 'b', alpha = 0.15)\n",
    "plt.legend()\n",
    "plt.show()"
   ]
  },
  {
   "cell_type": "code",
   "execution_count": 446,
   "metadata": {
    "scrolled": true
   },
   "outputs": [
    {
     "data": {
      "image/png": "[encoded data removed]",
      "text/plain": [
       "<Figure size 720x360 with 1 Axes>"
      ]
     },
     "metadata": {
      "needs_background": "light"
     },
     "output_type": "display_data"
    }
   ],
   "source": [
    "plt.figure(figsize=(10,5))\n",
    "plt.plot(train[ind], linestyle='-',label='train')\n",
    "plt.plot(arimax.predict(), linestyle='-',label='model')\n",
    "plt.plot(test[ind],label='test',linestyle='-', marker='o')\n",
    "plt.plot(forecast5,label='predict', linestyle='-', marker='o')\n",
    "plt.legend()\n",
    "plt.show()"
   ]
  },
  {
   "cell_type": "code",
   "execution_count": 447,
   "metadata": {
    "scrolled": true
   },
   "outputs": [
    {
     "data": {
      "text/html": [
       "<div>\n",
       "<style scoped>\n",
       "    .dataframe tbody tr th:only-of-type {\n",
       "        vertical-align: middle;\n",
       "    }\n",
       "\n",
       "    .dataframe tbody tr th {\n",
       "        vertical-align: top;\n",
       "    }\n",
       "\n",
       "    .dataframe thead th {\n",
       "        text-align: right;\n",
       "    }\n",
       "</style>\n",
       "<table border=\"1\" class=\"dataframe\">\n",
       "  <thead>\n",
       "    <tr style=\"text-align: right;\">\n",
       "      <th>new_week_deaths</th>\n",
       "      <th>mean</th>\n",
       "      <th>mean_se</th>\n",
       "      <th>mean_ci_lower</th>\n",
       "      <th>mean_ci_upper</th>\n",
       "    </tr>\n",
       "  </thead>\n",
       "  <tbody>\n",
       "    <tr>\n",
       "      <th>2021-01-09</th>\n",
       "      <td>21.619565</td>\n",
       "      <td>2.097417</td>\n",
       "      <td>17.508702</td>\n",
       "      <td>25.730427</td>\n",
       "    </tr>\n",
       "    <tr>\n",
       "      <th>2021-01-16</th>\n",
       "      <td>16.967029</td>\n",
       "      <td>3.525606</td>\n",
       "      <td>10.056969</td>\n",
       "      <td>23.877090</td>\n",
       "    </tr>\n",
       "    <tr>\n",
       "      <th>2021-01-23</th>\n",
       "      <td>15.362031</td>\n",
       "      <td>5.389301</td>\n",
       "      <td>4.799196</td>\n",
       "      <td>25.924867</td>\n",
       "    </tr>\n",
       "    <tr>\n",
       "      <th>2021-01-30</th>\n",
       "      <td>15.098524</td>\n",
       "      <td>7.343430</td>\n",
       "      <td>0.705666</td>\n",
       "      <td>29.491382</td>\n",
       "    </tr>\n",
       "    <tr>\n",
       "      <th>2021-02-06</th>\n",
       "      <td>14.566659</td>\n",
       "      <td>9.270139</td>\n",
       "      <td>-3.602479</td>\n",
       "      <td>32.735797</td>\n",
       "    </tr>\n",
       "    <tr>\n",
       "      <th>2021-02-13</th>\n",
       "      <td>15.168845</td>\n",
       "      <td>11.124251</td>\n",
       "      <td>-6.634287</td>\n",
       "      <td>36.971976</td>\n",
       "    </tr>\n",
       "    <tr>\n",
       "      <th>2021-02-20</th>\n",
       "      <td>15.069336</td>\n",
       "      <td>12.889188</td>\n",
       "      <td>-10.193010</td>\n",
       "      <td>40.331681</td>\n",
       "    </tr>\n",
       "    <tr>\n",
       "      <th>2021-02-27</th>\n",
       "      <td>14.481044</td>\n",
       "      <td>14.561367</td>\n",
       "      <td>-14.058710</td>\n",
       "      <td>43.020799</td>\n",
       "    </tr>\n",
       "    <tr>\n",
       "      <th>2021-03-06</th>\n",
       "      <td>12.802709</td>\n",
       "      <td>16.143397</td>\n",
       "      <td>-18.837768</td>\n",
       "      <td>44.443185</td>\n",
       "    </tr>\n",
       "    <tr>\n",
       "      <th>2021-03-13</th>\n",
       "      <td>11.507817</td>\n",
       "      <td>17.640754</td>\n",
       "      <td>-23.067425</td>\n",
       "      <td>46.083058</td>\n",
       "    </tr>\n",
       "    <tr>\n",
       "      <th>2021-03-20</th>\n",
       "      <td>9.179363</td>\n",
       "      <td>19.060050</td>\n",
       "      <td>-28.177649</td>\n",
       "      <td>46.536375</td>\n",
       "    </tr>\n",
       "    <tr>\n",
       "      <th>2021-03-27</th>\n",
       "      <td>8.815570</td>\n",
       "      <td>20.408132</td>\n",
       "      <td>-31.183634</td>\n",
       "      <td>48.814775</td>\n",
       "    </tr>\n",
       "    <tr>\n",
       "      <th>2021-04-03</th>\n",
       "      <td>7.962265</td>\n",
       "      <td>21.691607</td>\n",
       "      <td>-34.552503</td>\n",
       "      <td>50.477034</td>\n",
       "    </tr>\n",
       "    <tr>\n",
       "      <th>2021-04-10</th>\n",
       "      <td>10.146510</td>\n",
       "      <td>22.916619</td>\n",
       "      <td>-34.769239</td>\n",
       "      <td>55.062258</td>\n",
       "    </tr>\n",
       "    <tr>\n",
       "      <th>2021-04-17</th>\n",
       "      <td>9.249610</td>\n",
       "      <td>24.088759</td>\n",
       "      <td>-37.963491</td>\n",
       "      <td>56.462710</td>\n",
       "    </tr>\n",
       "    <tr>\n",
       "      <th>2021-04-24</th>\n",
       "      <td>10.128723</td>\n",
       "      <td>25.213046</td>\n",
       "      <td>-39.287939</td>\n",
       "      <td>59.545385</td>\n",
       "    </tr>\n",
       "    <tr>\n",
       "      <th>2021-05-01</th>\n",
       "      <td>11.726668</td>\n",
       "      <td>26.293949</td>\n",
       "      <td>-39.808525</td>\n",
       "      <td>63.261861</td>\n",
       "    </tr>\n",
       "    <tr>\n",
       "      <th>2021-05-08</th>\n",
       "      <td>11.294646</td>\n",
       "      <td>27.335432</td>\n",
       "      <td>-42.281817</td>\n",
       "      <td>64.871108</td>\n",
       "    </tr>\n",
       "  </tbody>\n",
       "</table>\n",
       "</div>"
      ],
      "text/plain": [
       "new_week_deaths       mean    mean_se  mean_ci_lower  mean_ci_upper\n",
       "2021-01-09       21.619565   2.097417      17.508702      25.730427\n",
       "2021-01-16       16.967029   3.525606      10.056969      23.877090\n",
       "2021-01-23       15.362031   5.389301       4.799196      25.924867\n",
       "2021-01-30       15.098524   7.343430       0.705666      29.491382\n",
       "2021-02-06       14.566659   9.270139      -3.602479      32.735797\n",
       "2021-02-13       15.168845  11.124251      -6.634287      36.971976\n",
       "2021-02-20       15.069336  12.889188     -10.193010      40.331681\n",
       "2021-02-27       14.481044  14.561367     -14.058710      43.020799\n",
       "2021-03-06       12.802709  16.143397     -18.837768      44.443185\n",
       "2021-03-13       11.507817  17.640754     -23.067425      46.083058\n",
       "2021-03-20        9.179363  19.060050     -28.177649      46.536375\n",
       "2021-03-27        8.815570  20.408132     -31.183634      48.814775\n",
       "2021-04-03        7.962265  21.691607     -34.552503      50.477034\n",
       "2021-04-10       10.146510  22.916619     -34.769239      55.062258\n",
       "2021-04-17        9.249610  24.088759     -37.963491      56.462710\n",
       "2021-04-24       10.128723  25.213046     -39.287939      59.545385\n",
       "2021-05-01       11.726668  26.293949     -39.808525      63.261861\n",
       "2021-05-08       11.294646  27.335432     -42.281817      64.871108"
      ]
     },
     "execution_count": 447,
     "metadata": {},
     "output_type": "execute_result"
    }
   ],
   "source": [
    "predict"
   ]
  },
  {
   "cell_type": "code",
   "execution_count": 448,
   "metadata": {},
   "outputs": [
    {
     "name": "stdout",
     "output_type": "stream",
     "text": [
      "Erro todos parametros:  25.68463993478218 Erro apenas new_week_cases:  54.188036891134665\n"
     ]
    }
   ],
   "source": [
    "err_nwcases=mean_squared_error(forecast5,test[ind],squared=False)\n",
    "merr_nwcases= mean_absolute_error(forecast5,test[ind])\n",
    "print('Erro todos parametros: ',err_allparameters,\"Erro apenas new_week_cases: \",err_nwcases)"
   ]
  },
  {
   "cell_type": "markdown",
   "metadata": {},
   "source": [
    "# Observações\n",
    "\n",
    "Como pode ser visto, ao retirar as keywords do google trends o resultado da previsão se torna bastante pior, indicando que não são só os novos casos contribuindo para a previsão"
   ]
  },
  {
   "cell_type": "markdown",
   "metadata": {},
   "source": [
    "# Teste regressão linear"
   ]
  },
  {
   "cell_type": "code",
   "execution_count": 449,
   "metadata": {},
   "outputs": [],
   "source": [
    "from sklearn.linear_model import LinearRegression\n",
    "from sklearn.model_selection import cross_val_score"
   ]
  },
  {
   "cell_type": "code",
   "execution_count": 450,
   "metadata": {},
   "outputs": [],
   "source": [
    "X=df.drop(['new_week_cases','new_week_deaths'],axis=1)\n",
    "y=df['new_week_deaths']"
   ]
  },
  {
   "cell_type": "code",
   "execution_count": 451,
   "metadata": {},
   "outputs": [],
   "source": [
    "#dividindo treino e teste\n",
    "trainsize=round(percentage*len(X))\n",
    "Xtrain=X[:trainsize]\n",
    "Xtest=X[trainsize:]\n",
    "ytrain=y[:trainsize]\n",
    "ytest=y[trainsize:]"
   ]
  },
  {
   "cell_type": "code",
   "execution_count": 452,
   "metadata": {},
   "outputs": [],
   "source": [
    "reg = LinearRegression()\n",
    "#.fit(Xtrain, ytrain)"
   ]
  },
  {
   "cell_type": "code",
   "execution_count": 453,
   "metadata": {},
   "outputs": [],
   "source": [
    "scores = cross_val_score(reg, Xtrain, ytrain, cv=5,scoring='neg_root_mean_squared_error')\n",
    "MAEscores= cross_val_score(reg, Xtrain, ytrain, cv=5,scoring='neg_mean_absolute_error') "
   ]
  },
  {
   "cell_type": "code",
   "execution_count": 454,
   "metadata": {},
   "outputs": [
    {
     "data": {
      "text/plain": [
       "(-8.061084847574866, 3.917056748564935)"
      ]
     },
     "execution_count": 454,
     "metadata": {},
     "output_type": "execute_result"
    }
   ],
   "source": [
    "(scores.mean(), scores.std())"
   ]
  },
  {
   "cell_type": "code",
   "execution_count": 455,
   "metadata": {},
   "outputs": [
    {
     "data": {
      "text/plain": [
       "(-6.1442512475242745, 3.125005536100124)"
      ]
     },
     "execution_count": 455,
     "metadata": {},
     "output_type": "execute_result"
    }
   ],
   "source": [
    "(MAEscores.mean(), MAEscores.std())"
   ]
  },
  {
   "cell_type": "code",
   "execution_count": 456,
   "metadata": {},
   "outputs": [],
   "source": [
    "terror=np.abs(scores.mean())\n",
    "tmerror=np.abs(MAEscores.mean())"
   ]
  },
  {
   "cell_type": "code",
   "execution_count": 457,
   "metadata": {},
   "outputs": [],
   "source": [
    "reg=reg.fit(Xtrain, ytrain)"
   ]
  },
  {
   "cell_type": "code",
   "execution_count": 458,
   "metadata": {},
   "outputs": [
    {
     "data": {
      "text/plain": [
       "array([ 0.20186844,  0.12184031, -0.01643096, -0.04805647,  0.00210853,\n",
       "        0.03396085,  0.09538521, -0.12715588,  0.11240651,  0.09141541,\n",
       "        0.07317324,  0.20176813, -0.01818853])"
      ]
     },
     "execution_count": 458,
     "metadata": {},
     "output_type": "execute_result"
    }
   ],
   "source": [
    "reg.coef_"
   ]
  },
  {
   "cell_type": "code",
   "execution_count": 459,
   "metadata": {},
   "outputs": [],
   "source": [
    "yhat=reg.predict(Xtest)"
   ]
  },
  {
   "cell_type": "code",
   "execution_count": 460,
   "metadata": {},
   "outputs": [
    {
     "data": {
      "image/png": "[encoded data removed]",
      "text/plain": [
       "<Figure size 720x360 with 1 Axes>"
      ]
     },
     "metadata": {
      "needs_background": "light"
     },
     "output_type": "display_data"
    }
   ],
   "source": [
    "plt.figure(figsize=(10,5))\n",
    "plt.plot(ytest.values,label='actual', linestyle='-', marker='o')\n",
    "plt.plot(yhat,label='predicted', linestyle='-', marker='o')\n",
    "plt.legend()\n",
    "plt.show()"
   ]
  },
  {
   "cell_type": "code",
   "execution_count": 461,
   "metadata": {},
   "outputs": [],
   "source": [
    "ypz=reg.predict(X.values)"
   ]
  },
  {
   "cell_type": "code",
   "execution_count": 462,
   "metadata": {},
   "outputs": [
    {
     "data": {
      "image/png": "[encoded data removed]",
      "text/plain": [
       "<Figure size 720x360 with 1 Axes>"
      ]
     },
     "metadata": {
      "needs_background": "light"
     },
     "output_type": "display_data"
    }
   ],
   "source": [
    "plt.figure(figsize=(10,5))\n",
    "plt.plot(y.values,label='actual')\n",
    "plt.plot(ypz,label='predicted')\n",
    "plt.legend()\n",
    "plt.show()"
   ]
  },
  {
   "cell_type": "code",
   "execution_count": 463,
   "metadata": {},
   "outputs": [],
   "source": [
    "error = mean_squared_error(yhat,ytest,squared=False)\n",
    "merror= mean_absolute_error(yhat,ytest)"
   ]
  },
  {
   "cell_type": "markdown",
   "metadata": {},
   "source": [
    "# Teste Regressão polinomial\n",
    "\n",
    "(houve muito overfitting)"
   ]
  },
  {
   "cell_type": "code",
   "execution_count": 464,
   "metadata": {},
   "outputs": [],
   "source": [
    "from sklearn.preprocessing import PolynomialFeatures"
   ]
  },
  {
   "cell_type": "code",
   "execution_count": 465,
   "metadata": {},
   "outputs": [],
   "source": [
    "poly = PolynomialFeatures(degree=2)\n",
    "X_ = poly.fit_transform(X)\n",
    "X_train=X_[:trainsize]\n",
    "X_test=X_[trainsize:]"
   ]
  },
  {
   "cell_type": "code",
   "execution_count": 466,
   "metadata": {},
   "outputs": [],
   "source": [
    "clf = LinearRegression()\n",
    "clf.fit(X_train, ytrain)\n",
    "y_hat=clf.predict(X_test)\n",
    "y_pz=clf.predict(X_)"
   ]
  },
  {
   "cell_type": "code",
   "execution_count": 467,
   "metadata": {},
   "outputs": [
    {
     "data": {
      "image/png": "[encoded data removed]",
      "text/plain": [
       "<Figure size 720x360 with 1 Axes>"
      ]
     },
     "metadata": {
      "needs_background": "light"
     },
     "output_type": "display_data"
    }
   ],
   "source": [
    "plt.figure(figsize=(10,5))\n",
    "plt.plot(y.values,label='actual', linestyle='-')\n",
    "plt.plot(y_pz,label='predicted', linestyle='-')\n",
    "plt.legend()\n",
    "plt.show()"
   ]
  },
  {
   "cell_type": "markdown",
   "metadata": {},
   "source": [
    "# Comparando alguns forecasts"
   ]
  },
  {
   "cell_type": "code",
   "execution_count": 468,
   "metadata": {},
   "outputs": [
    {
     "ename": "NameError",
     "evalue": "name 'terr_gtrends' is not defined",
     "output_type": "error",
     "traceback": [
      "\u001b[1;31m---------------------------------------------------------------------------\u001b[0m",
      "\u001b[1;31mNameError\u001b[0m                                 Traceback (most recent call last)",
      "\u001b[1;32m<ipython-input-468-077a4a4a35c3>\u001b[0m in \u001b[0;36m<module>\u001b[1;34m\u001b[0m\n\u001b[1;32m----> 1\u001b[1;33m \u001b[0mprint\u001b[0m\u001b[1;33m(\u001b[0m\u001b[1;34m\"RMSE treino\\nErro regressão linear: \"\u001b[0m\u001b[1;33m,\u001b[0m\u001b[0mterror\u001b[0m\u001b[1;33m,\u001b[0m\u001b[1;34m\"\\nErro da previsão sem gtrends: \"\u001b[0m\u001b[1;33m,\u001b[0m\u001b[0mterr_nogtrends\u001b[0m\u001b[1;33m,\u001b[0m\u001b[1;34m\"\\nErro da previsão com gtrends: \"\u001b[0m\u001b[1;33m,\u001b[0m\u001b[0mterr_gtrends\u001b[0m\u001b[1;33m,\u001b[0m\u001b[1;34m'\\nErro todos parametros: '\u001b[0m\u001b[1;33m,\u001b[0m\u001b[0mterr_allparameters\u001b[0m\u001b[1;33m,\u001b[0m\u001b[1;34m\"\\nErro apenas new_week_cases: \"\u001b[0m\u001b[1;33m,\u001b[0m\u001b[0mterr_nwcases\u001b[0m\u001b[1;33m,\u001b[0m\u001b[1;34m'\\nErro todas keywords: '\u001b[0m\u001b[1;33m,\u001b[0m\u001b[0mterr_keywords\u001b[0m\u001b[1;33m)\u001b[0m\u001b[1;33m\u001b[0m\u001b[1;33m\u001b[0m\u001b[0m\n\u001b[0m",
      "\u001b[1;31mNameError\u001b[0m: name 'terr_gtrends' is not defined"
     ]
    }
   ],
   "source": [
    "print(\"RMSE treino\\nErro regressão linear: \",terror,\"\\nErro da previsão sem gtrends: \",terr_nogtrends,\"\\nErro da previsão com gtrends: \",terr_gtrends,'\\nErro todos parametros: ',terr_allparameters,\"\\nErro apenas new_week_cases: \",terr_nwcases,'\\nErro todas keywords: ',terr_keywords)"
   ]
  },
  {
   "cell_type": "code",
   "execution_count": null,
   "metadata": {},
   "outputs": [],
   "source": [
    "print(\"MAE treino\\nErro regressão linear: \",tmerror,\"\\nerro da previsão sem gtrends: \",tmerr_nogtrends,\"\\nErro da previsão com gtrends: \",tmerr_gtrends,'\\nErro todos parametros: ',tmerr_allparameters,\"\\nErro apenas new_week_cases: \",tmerr_nwcases,'\\nErro todas keywords: ',tmerr_keywords)"
   ]
  },
  {
   "cell_type": "code",
   "execution_count": null,
   "metadata": {},
   "outputs": [],
   "source": [
    "print(\"RMSE teste\\nErro regressão linear: \",error,\"\\nErro da previsão sem gtrends: \",err_nogtrends,\"\\nErro da previsão com gtrends: \",err_gtrends,'\\nErro todos parametros: ',err_allparameters,\"\\nErro apenas new_week_cases: \",err_nwcases,'\\nErro todas keywords: ',err_keywords)"
   ]
  },
  {
   "cell_type": "code",
   "execution_count": null,
   "metadata": {},
   "outputs": [],
   "source": [
    "print(\"MAE teste\\nErro regressão linear: \",merror,\"\\nerro da previsão sem gtrends: \",merr_nogtrends,\"\\nErro da previsão com gtrends: \",merr_gtrends,'\\nErro todos parametros: ',merr_allparameters,\"\\nErro apenas new_week_cases: \",merr_nwcases,'\\nErro todas keywords: ',merr_keywords)"
   ]
  },
  {
   "cell_type": "code",
   "execution_count": null,
   "metadata": {},
   "outputs": [],
   "source": [
    "#Gráfico com forecasts\n",
    "ytest=ytest.reset_index()\n",
    "ytest['poly']=y_hat\n",
    "ytest['reg']=yhat\n",
    "ytest.set_index('date',inplace=True)\n",
    "plt.figure(figsize=(10,5))\n",
    "plt.ylim(0,105)\n",
    "plt.plot(ytest['new_week_deaths'],label='new_week_deaths', linestyle='-',marker='o')\n",
    "plt.plot(ytest['reg'],label='Linear regression', linestyle='-',marker='o')\n",
    "plt.plot(forecast2,label='ARIMA', linestyle='-',marker='o')\n",
    "#plt.plot(forecast4,label='ARIMA(keywords+new_week_cases)', linestyle='-',marker='o')\n",
    "plt.plot(forecast3,label='ARIMAX', linestyle='-',marker='o')\n",
    "plt.xlabel('date')\n",
    "plt.ylabel('% in relation to peak value')\n",
    "plt.legend()\n",
    "plt.grid()\n",
    "plt.savefig('graficos\\\\RegressoesMortes.png')\n",
    "plt.show()"
   ]
  },
  {
   "cell_type": "markdown",
   "metadata": {},
   "source": [
    "# Para new week cases"
   ]
  },
  {
   "cell_type": "code",
   "execution_count": null,
   "metadata": {},
   "outputs": [],
   "source": [
    "#Encontrando as lagcorrelations, ind é o indicador a ser usado\n",
    "ind='new_week_cases'\n",
    "Corr=pd.DataFrame(getMaxCorrelations(kwBR,brasilDf,ind))\n",
    "Corr=Corr.sort_values(by='MaxCorrelation',ascending=False)\n",
    "Corr[:20]"
   ]
  },
  {
   "cell_type": "code",
   "execution_count": null,
   "metadata": {},
   "outputs": [],
   "source": [
    "kwBR=pd.read_csv('SeriesKeywords.csv')\n",
    "kwMG=pd.read_csv('SeriesKeywordsMg.csv')\n",
    "kwBR=kwBR[:63]\n",
    "kwMG=kwMG[:63]\n",
    "conn =sqlite3.connect(\"indicadores.db\")\n",
    "brasilDf=pd.read_sql_query(\"select * from brazil_df\",conn)\n",
    "statesDf=pd.read_sql_query(\"select * from states_df\",conn)\n",
    "conn.close()"
   ]
  },
  {
   "cell_type": "code",
   "execution_count": null,
   "metadata": {},
   "outputs": [],
   "source": [
    "#obtendo dados apenas das semanas desejadas dos indicadores\n",
    "#lag é o max lag a ser explorado\n",
    "lag=4\n",
    "brasilDf=brasilDf.iloc[lag:].reset_index(drop=True)\n",
    "statesDf=statesDf[statesDf['state']=='MG']\n",
    "statesDf=statesDf.iloc[lag:].reset_index(drop=True)"
   ]
  },
  {
   "cell_type": "code",
   "execution_count": null,
   "metadata": {},
   "outputs": [],
   "source": [
    "#normalizando os dados de indicador a serem usados\n",
    "brasilDf['new_week_cases']=(brasilDf['new_week_cases']/brasilDf['new_week_cases'].max())*100\n",
    "brasilDf['new_week_deaths']=(brasilDf['new_week_deaths']/brasilDf['new_week_deaths'].max())*100\n",
    "statesDf['new_week_cases']=(statesDf['new_week_cases']/statesDf['new_week_cases'].max())*100\n",
    "statesDf['new_week_deaths']=(statesDf['new_week_deaths']/statesDf['new_week_deaths'].max())*100"
   ]
  },
  {
   "cell_type": "code",
   "execution_count": null,
   "metadata": {},
   "outputs": [],
   "source": [
    "#extraindo apenas dados necessários das databases\n",
    "brasilDf=brasilDf.set_index('epidemiological_week')\n",
    "statesDf=statesDf.set_index('epidemiological_week')\n",
    "brasilDf=brasilDf[['new_week_cases','new_week_deaths','week_last_day']]\n",
    "statesDf=statesDf[['new_week_cases','new_week_deaths','week_last_day']]\n",
    "kwBR=kwBR.drop('date',axis=1)\n",
    "kwMG=kwMG.drop('date',axis=1)"
   ]
  },
  {
   "cell_type": "code",
   "execution_count": null,
   "metadata": {},
   "outputs": [],
   "source": [
    "X=pd.DataFrame()\n",
    "for i in range(len(Corr)):\n",
    "    if Corr['Lag'].iloc[i]<=lag and np.abs(Corr['MaxCorrelation'].iloc[i])>=0.7:\n",
    "        try:\n",
    "            X[Corr['Keyword'].iloc[i]]=kwBR[lag-Corr['Lag'].iloc[i]:-Corr['Lag'].iloc[i]].reset_index()[Corr['Keyword'].iloc[i]].copy()\n",
    "        except:\n",
    "            print(i,Corr['Keyword'].iloc[i])\n",
    "Y=brasilDf[[ind,'week_last_day']].copy()\n",
    "Y=Y.reset_index(drop=True)"
   ]
  },
  {
   "cell_type": "code",
   "execution_count": null,
   "metadata": {},
   "outputs": [],
   "source": [
    "#unindo x e y\n",
    "df=X.copy()\n",
    "df[ind]=Y[ind].copy()\n",
    "df['date']=Y['week_last_day'].copy()\n",
    "#renomeando colunas para tirar espaço e facilitar a proxima etapa\n",
    "for i in df:\n",
    "    df.rename({i:i.replace(' ','_')},axis=1,inplace=True)\n",
    "#colocando o indice como as datas\n",
    "df['date']=pd.to_datetime(df['date'])\n",
    "df.set_index('date',inplace=True)\n",
    "df=df.asfreq('W-Sat')"
   ]
  },
  {
   "cell_type": "code",
   "execution_count": null,
   "metadata": {},
   "outputs": [],
   "source": [
    "list(df.columns)"
   ]
  },
  {
   "cell_type": "code",
   "execution_count": null,
   "metadata": {},
   "outputs": [],
   "source": [
    "#dividindo em treino e teste\n",
    "trainsize=round(percentage*len(df))\n",
    "train=df[:trainsize]\n",
    "test=df[trainsize:]"
   ]
  },
  {
   "cell_type": "markdown",
   "metadata": {},
   "source": [
    "# ARIMA"
   ]
  },
  {
   "cell_type": "code",
   "execution_count": null,
   "metadata": {},
   "outputs": [],
   "source": [
    "param=pm.arima.auto_arima(train[ind])\n",
    "order=param.order"
   ]
  },
  {
   "cell_type": "code",
   "execution_count": null,
   "metadata": {},
   "outputs": [],
   "source": [
    "#order foi o melhor resultado\n",
    "arimax=ARIMA(endog=train[ind],freq='W-Sat',order=order).fit()\n",
    "forecast2=arimax.forecast(steps=len(test))\n",
    "terr_nogtrends=np.sqrt((arimax.resid**2).mean())\n",
    "tmerr_nogtrends=(np.abs(arimax.resid)).mean()\n",
    "print('ARIMA',order,' erro=',erro,merro)"
   ]
  },
  {
   "cell_type": "code",
   "execution_count": null,
   "metadata": {},
   "outputs": [],
   "source": [
    "predict=arimax.get_forecast(steps=len(test)).summary_frame()\n",
    "plt.figure(figsize=(10,5))\n",
    "plt.plot(test[ind],label='test', linestyle='-', marker='o')\n",
    "plt.plot(forecast2,label='forecast', linestyle='-', marker='o')\n",
    "#plt.plot(predict['mean_ci_lower'], color='#990099', marker='.', linestyle=':', label='Lower 95%')\n",
    "#plt.plot(predict['mean_ci_upper'], color='#0000cc', marker='.', linestyle=':', label='Upper 95%')\n",
    "#plt.fill_between(test.index,predict['mean_ci_lower'], predict['mean_ci_upper'], color = 'b', alpha = 0.15)\n",
    "plt.legend()\n",
    "plt.show()"
   ]
  },
  {
   "cell_type": "code",
   "execution_count": null,
   "metadata": {
    "scrolled": true
   },
   "outputs": [],
   "source": [
    "plt.figure(figsize=(10,5))\n",
    "plt.plot(train[ind], linestyle='-',label='train')\n",
    "plt.plot(arimax.predict(), linestyle='-',label='model')\n",
    "plt.plot(test[ind],label='test',linestyle='-', marker='o')\n",
    "plt.plot(forecast2,label='predict', linestyle='-', marker='o')\n",
    "plt.legend()\n",
    "plt.show()"
   ]
  },
  {
   "cell_type": "code",
   "execution_count": null,
   "metadata": {},
   "outputs": [],
   "source": [
    "err_nogtrends=mean_squared_error(forecast2,test[ind],squared=False)\n",
    "merr_nogtrends= mean_absolute_error(forecast2,test[ind])"
   ]
  },
  {
   "cell_type": "code",
   "execution_count": null,
   "metadata": {},
   "outputs": [],
   "source": [
    "err_nogtrends,merr_nogtrends"
   ]
  },
  {
   "cell_type": "markdown",
   "metadata": {},
   "source": [
    "# Arimax"
   ]
  },
  {
   "cell_type": "code",
   "execution_count": null,
   "metadata": {},
   "outputs": [],
   "source": [
    "param3=pm.arima.auto_arima(train[ind],X=train.drop(ind,axis=1))\n",
    "order=param3.order"
   ]
  },
  {
   "cell_type": "code",
   "execution_count": null,
   "metadata": {},
   "outputs": [],
   "source": [
    "#order foi o melhor resultado\n",
    "arimax=ARIMA(endog=train[ind],freq='W-Sat',order=order,exog=train.drop(ind,axis=1)).fit()\n",
    "forecast3=arimax.forecast(steps=len(test),exog=test.drop(ind,axis=1))\n",
    "terr_keywords=np.sqrt((arimax.resid**2).mean())\n",
    "tmerr_keywords=(np.abs(arimax.resid)).mean()\n",
    "print('ARIMA',order,' erro=',terr_keywords,tmerr_keywords)"
   ]
  },
  {
   "cell_type": "code",
   "execution_count": null,
   "metadata": {},
   "outputs": [],
   "source": [
    "predict=arimax.get_forecast(steps=len(test),exog=test.drop(ind,axis=1)).summary_frame()\n",
    "plt.figure(figsize=(10,5))\n",
    "plt.plot(test[ind],label='test', linestyle='-', marker='o')\n",
    "plt.plot(forecast3,label='forecast', linestyle='-', marker='o')\n",
    "#plt.plot(predict['mean_ci_lower'], color='#990099', marker='.', linestyle=':', label='Lower 95%')\n",
    "#plt.plot(predict['mean_ci_upper'], color='#0000cc', marker='.', linestyle=':', label='Upper 95%')\n",
    "#plt.fill_between(test.index,predict['mean_ci_lower'], predict['mean_ci_upper'], color = 'b', alpha = 0.15)\n",
    "plt.legend()\n",
    "plt.show()"
   ]
  },
  {
   "cell_type": "code",
   "execution_count": null,
   "metadata": {
    "scrolled": true
   },
   "outputs": [],
   "source": [
    "plt.figure(figsize=(10,5))\n",
    "plt.plot(train[ind], linestyle='-',label='train')\n",
    "plt.plot(arimax.predict(), linestyle='-',label='model')\n",
    "plt.plot(test[ind],label='test',linestyle='-', marker='o')\n",
    "plt.plot(forecast3,label='predict', linestyle='-', marker='o')\n",
    "plt.legend()\n",
    "plt.show()"
   ]
  },
  {
   "cell_type": "code",
   "execution_count": null,
   "metadata": {},
   "outputs": [],
   "source": [
    "err_keywords=mean_squared_error(forecast3,test[ind],squared=False)\n",
    "merr_keywords= mean_absolute_error(forecast3,test[ind])"
   ]
  },
  {
   "cell_type": "code",
   "execution_count": null,
   "metadata": {},
   "outputs": [],
   "source": [
    "err_keywords, merr_keywords"
   ]
  },
  {
   "cell_type": "markdown",
   "metadata": {},
   "source": [
    "# Regressão linear new_week_cases"
   ]
  },
  {
   "cell_type": "code",
   "execution_count": null,
   "metadata": {},
   "outputs": [],
   "source": [
    "X=df.drop(['new_week_cases'],axis=1)\n",
    "y=df['new_week_cases']"
   ]
  },
  {
   "cell_type": "code",
   "execution_count": null,
   "metadata": {},
   "outputs": [],
   "source": [
    "#dividindo treino e teste\n",
    "trainsize=round(percentage*len(X))\n",
    "Xtrain=X[:trainsize]\n",
    "Xtest=X[trainsize:]\n",
    "ytrain=y[:trainsize]\n",
    "ytest=y[trainsize:]\n",
    "reg = LinearRegression()\n",
    "scores = cross_val_score(reg, Xtrain, ytrain, cv=5,scoring='neg_root_mean_squared_error')\n",
    "MAEscores= cross_val_score(reg, Xtrain, ytrain, cv=5,scoring='neg_mean_absolute_error') \n",
    "reg=reg.fit(Xtrain, ytrain)\n",
    "yhat=reg.predict(Xtest)"
   ]
  },
  {
   "cell_type": "code",
   "execution_count": null,
   "metadata": {},
   "outputs": [],
   "source": [
    "(scores.mean(), scores.std())"
   ]
  },
  {
   "cell_type": "code",
   "execution_count": null,
   "metadata": {},
   "outputs": [],
   "source": [
    "(MAEscores.mean(), MAEscores.std())"
   ]
  },
  {
   "cell_type": "code",
   "execution_count": null,
   "metadata": {},
   "outputs": [],
   "source": [
    "terror=np.abs(scores.mean())\n",
    "tmerror=np.abs(MAEscores.mean())"
   ]
  },
  {
   "cell_type": "code",
   "execution_count": null,
   "metadata": {},
   "outputs": [],
   "source": [
    "plt.figure(figsize=(10,5))\n",
    "plt.plot(ytest.values,label='actual', linestyle='-', marker='o')\n",
    "plt.plot(yhat,label='predicted', linestyle='-', marker='o')\n",
    "plt.legend()\n",
    "plt.show()"
   ]
  },
  {
   "cell_type": "code",
   "execution_count": null,
   "metadata": {},
   "outputs": [],
   "source": [
    "ypz=reg.predict(X.values)"
   ]
  },
  {
   "cell_type": "code",
   "execution_count": null,
   "metadata": {},
   "outputs": [],
   "source": [
    "plt.figure(figsize=(10,5))\n",
    "plt.plot(y.values,label='actual')\n",
    "plt.plot(ypz,label='predicted')\n",
    "plt.legend()\n",
    "plt.show()"
   ]
  },
  {
   "cell_type": "code",
   "execution_count": null,
   "metadata": {},
   "outputs": [],
   "source": [
    "error = mean_squared_error(yhat,ytest,squared=False)\n",
    "merror = mean_absolute_error(yhat,ytest)\n",
    "error,merror"
   ]
  },
  {
   "cell_type": "code",
   "execution_count": null,
   "metadata": {},
   "outputs": [],
   "source": [
    "yhat"
   ]
  },
  {
   "cell_type": "code",
   "execution_count": null,
   "metadata": {},
   "outputs": [],
   "source": [
    "print('RMSE train\\nErro linear:',terror,'\\nErro ARIMAX:',terr_keywords,'\\nErro ARIMA:',terr_nogtrends)"
   ]
  },
  {
   "cell_type": "code",
   "execution_count": null,
   "metadata": {},
   "outputs": [],
   "source": [
    "print('MAE train\\nErro linear:',tmerror,'\\nErro ARIMAX:',tmerr_keywords,'\\nErro ARIMA:',tmerr_nogtrends)"
   ]
  },
  {
   "cell_type": "code",
   "execution_count": null,
   "metadata": {},
   "outputs": [],
   "source": [
    "print('RMSE test\\nErro linear:',error,'\\nErro ARIMAX:',err_keywords,'\\nErro ARIMA:',err_nogtrends)"
   ]
  },
  {
   "cell_type": "code",
   "execution_count": null,
   "metadata": {},
   "outputs": [],
   "source": [
    "print('MAE test\\nErro linear:',merror,'\\nErro ARIMAX:',merr_keywords,'\\nErro ARIMA:',merr_nogtrends)"
   ]
  },
  {
   "cell_type": "code",
   "execution_count": null,
   "metadata": {},
   "outputs": [],
   "source": [
    "#Gráfico com forecasts\n",
    "ytest=ytest.reset_index()\n",
    "ytest['poly']=y_hat\n",
    "ytest['reg']=yhat\n",
    "ytest.set_index('date',inplace=True)\n",
    "plt.figure(figsize=(10,5))\n",
    "plt.ylim(0,105)\n",
    "plt.plot(ytest['new_week_cases'],label='new_week_cases', linestyle='-',marker='o')\n",
    "plt.plot(ytest['reg'],label='Linear regression', linestyle='-',marker='o')\n",
    "plt.plot(forecast2,label='ARIMA', linestyle='-',marker='o')\n",
    "#plt.plot(forecast4,label='ARIMA(keywords+new_week_cases)', linestyle='-',marker='o')\n",
    "plt.xlabel('date')\n",
    "plt.ylabel('% in relation to peak value')\n",
    "plt.plot(forecast3,label='ARIMAX', linestyle='-',marker='o')\n",
    "plt.legend()\n",
    "plt.grid()\n",
    "plt.savefig('graficos\\\\RegressoesCasos.png')\n",
    "plt.show()"
   ]
  },
  {
   "cell_type": "code",
   "execution_count": null,
   "metadata": {},
   "outputs": [],
   "source": []
  }
 ],
 "metadata": {
  "kernelspec": {
   "display_name": "Python 3",
   "language": "python",
   "name": "python3"
  },
  "language_info": {
   "codemirror_mode": {
    "name": "ipython",
    "version": 3
   },
   "file_extension": ".py",
   "mimetype": "text/x-python",
   "name": "python",
   "nbconvert_exporter": "python",
   "pygments_lexer": "ipython3",
   "version": "3.7.6"
  }
 },
 "nbformat": 4,
 "nbformat_minor": 4
}
