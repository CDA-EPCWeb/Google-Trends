{
 "cells": [
  {
   "cell_type": "code",
   "execution_count": 1,
   "metadata": {},
   "outputs": [],
   "source": [
    "from pytrends.request import TrendReq\n",
    "import pandas as pd\n",
    "import sqlite3\n",
    "import numpy as np"
   ]
  },
  {
   "cell_type": "code",
   "execution_count": 2,
   "metadata": {},
   "outputs": [
    {
     "name": "stdout",
     "output_type": "stream",
     "text": [
      "[('imedreg_df',), ('cities_df',), ('states_df',), ('regions_df',), ('brazil_df',)]\n"
     ]
    }
   ],
   "source": [
    "#obtendo as tabelas de indicadores\n",
    "conn =sqlite3.connect(\"indicadores.db\")\n",
    "cursor = conn.cursor()\n",
    "cursor.execute(\"SELECT name FROM sqlite_master WHERE type='table';\")\n",
    "print(cursor.fetchall())\n",
    "brasilDf=pd.read_sql_query(\"select * from brazil_df\",conn)\n",
    "conn.close()"
   ]
  },
  {
   "cell_type": "code",
   "execution_count": 3,
   "metadata": {},
   "outputs": [
    {
     "data": {
      "text/html": [
       "<div>\n",
       "<style scoped>\n",
       "    .dataframe tbody tr th:only-of-type {\n",
       "        vertical-align: middle;\n",
       "    }\n",
       "\n",
       "    .dataframe tbody tr th {\n",
       "        vertical-align: top;\n",
       "    }\n",
       "\n",
       "    .dataframe thead th {\n",
       "        text-align: right;\n",
       "    }\n",
       "</style>\n",
       "<table border=\"1\" class=\"dataframe\">\n",
       "  <thead>\n",
       "    <tr style=\"text-align: right;\">\n",
       "      <th></th>\n",
       "      <th>Unnamed: 0</th>\n",
       "      <th>referencia</th>\n",
       "      <th>query</th>\n",
       "      <th>Categoria</th>\n",
       "      <th>Subcategoria</th>\n",
       "    </tr>\n",
       "  </thead>\n",
       "  <tbody>\n",
       "    <tr>\n",
       "      <th>0</th>\n",
       "      <td>1</td>\n",
       "      <td>erupção cutânea</td>\n",
       "      <td>sintomas do covid</td>\n",
       "      <td>Sintoma</td>\n",
       "      <td>geral</td>\n",
       "    </tr>\n",
       "    <tr>\n",
       "      <th>1</th>\n",
       "      <td>2</td>\n",
       "      <td>erupção cutânea</td>\n",
       "      <td>covid-19</td>\n",
       "      <td>Vírus ou Doença</td>\n",
       "      <td>geral</td>\n",
       "    </tr>\n",
       "    <tr>\n",
       "      <th>2</th>\n",
       "      <td>3</td>\n",
       "      <td>erupção cutânea</td>\n",
       "      <td>sintomas do covid 19</td>\n",
       "      <td>Sintoma</td>\n",
       "      <td>geral</td>\n",
       "    </tr>\n",
       "    <tr>\n",
       "      <th>3</th>\n",
       "      <td>4</td>\n",
       "      <td>dor de garganta</td>\n",
       "      <td>dor de garganta</td>\n",
       "      <td>Sintoma</td>\n",
       "      <td>gripais</td>\n",
       "    </tr>\n",
       "    <tr>\n",
       "      <th>4</th>\n",
       "      <td>5</td>\n",
       "      <td>dor de cabeça</td>\n",
       "      <td>dor de cabeça</td>\n",
       "      <td>Sintoma</td>\n",
       "      <td>geral</td>\n",
       "    </tr>\n",
       "    <tr>\n",
       "      <th>...</th>\n",
       "      <td>...</td>\n",
       "      <td>...</td>\n",
       "      <td>...</td>\n",
       "      <td>...</td>\n",
       "      <td>...</td>\n",
       "    </tr>\n",
       "    <tr>\n",
       "      <th>120</th>\n",
       "      <td>121</td>\n",
       "      <td>respirador</td>\n",
       "      <td>respirador hospitalar</td>\n",
       "      <td>Medicação e Tratamento</td>\n",
       "      <td>respiradores</td>\n",
       "    </tr>\n",
       "    <tr>\n",
       "      <th>121</th>\n",
       "      <td>122</td>\n",
       "      <td>medicamento</td>\n",
       "      <td>medicamento coronavírus</td>\n",
       "      <td>Medicação e Tratamento</td>\n",
       "      <td>geral</td>\n",
       "    </tr>\n",
       "    <tr>\n",
       "      <th>122</th>\n",
       "      <td>123</td>\n",
       "      <td>medicamento</td>\n",
       "      <td>medicamento corona</td>\n",
       "      <td>Medicação e Tratamento</td>\n",
       "      <td>geral</td>\n",
       "    </tr>\n",
       "    <tr>\n",
       "      <th>123</th>\n",
       "      <td>124</td>\n",
       "      <td>estou com covid</td>\n",
       "      <td>estou com covid</td>\n",
       "      <td>Contraiui Covid</td>\n",
       "      <td>NaN</td>\n",
       "    </tr>\n",
       "    <tr>\n",
       "      <th>124</th>\n",
       "      <td>125</td>\n",
       "      <td>peguei covid</td>\n",
       "      <td>peguei covid</td>\n",
       "      <td>Contraiui Covid</td>\n",
       "      <td>NaN</td>\n",
       "    </tr>\n",
       "  </tbody>\n",
       "</table>\n",
       "<p>125 rows × 5 columns</p>\n",
       "</div>"
      ],
      "text/plain": [
       "     Unnamed: 0       referencia                    query  \\\n",
       "0             1  erupção cutânea        sintomas do covid   \n",
       "1             2  erupção cutânea                 covid-19   \n",
       "2             3  erupção cutânea     sintomas do covid 19   \n",
       "3             4  dor de garganta          dor de garganta   \n",
       "4             5    dor de cabeça            dor de cabeça   \n",
       "..          ...              ...                      ...   \n",
       "120         121       respirador    respirador hospitalar   \n",
       "121         122      medicamento  medicamento coronavírus   \n",
       "122         123      medicamento       medicamento corona   \n",
       "123         124  estou com covid          estou com covid   \n",
       "124         125     peguei covid             peguei covid   \n",
       "\n",
       "                  Categoria  Subcategoria  \n",
       "0                   Sintoma         geral  \n",
       "1           Vírus ou Doença         geral  \n",
       "2                   Sintoma         geral  \n",
       "3                   Sintoma       gripais  \n",
       "4                   Sintoma         geral  \n",
       "..                      ...           ...  \n",
       "120  Medicação e Tratamento  respiradores  \n",
       "121  Medicação e Tratamento         geral  \n",
       "122  Medicação e Tratamento         geral  \n",
       "123         Contraiui Covid           NaN  \n",
       "124         Contraiui Covid           NaN  \n",
       "\n",
       "[125 rows x 5 columns]"
      ]
     },
     "execution_count": 3,
     "metadata": {},
     "output_type": "execute_result"
    }
   ],
   "source": [
    "#lendo o arquivo com as keywords\n",
    "keywords=pd.read_csv('Queries categorizadas.csv')\n",
    "keywords"
   ]
  },
  {
   "cell_type": "code",
   "execution_count": 4,
   "metadata": {},
   "outputs": [
    {
     "name": "stderr",
     "output_type": "stream",
     "text": [
      "C:\\Users\\msart\\anaconda3\\lib\\site-packages\\pandas\\core\\indexing.py:1637: SettingWithCopyWarning: \n",
      "A value is trying to be set on a copy of a slice from a DataFrame\n",
      "\n",
      "See the caveats in the documentation: https://pandas.pydata.org/pandas-docs/stable/user_guide/indexing.html#returning-a-view-versus-a-copy\n",
      "  self._setitem_single_block(indexer, value, name)\n"
     ]
    }
   ],
   "source": [
    "#gerando a lista de keywords\n",
    "kw_list=[]\n",
    "for i in range(len(keywords)):\n",
    "    keywords['query'].iloc[i]=keywords['query'].iloc[i].replace('[','')\n",
    "    keywords['query'].iloc[i]=keywords['query'].iloc[i].replace(']','')\n",
    "    keywords['query'].iloc[i]=keywords['query'].iloc[i].replace('\\'','')\n",
    "    kw_list.append(keywords['query'].iloc[i])"
   ]
  },
  {
   "cell_type": "code",
   "execution_count": 5,
   "metadata": {},
   "outputs": [
    {
     "name": "stdout",
     "output_type": "stream",
     "text": [
      "0    2020-02-29\n",
      "1    2020-03-07\n",
      "2    2020-03-14\n",
      "3    2020-03-21\n",
      "4    2020-03-28\n",
      "Name: week_last_day, dtype: object\n",
      "42    2020-12-19\n",
      "43    2020-12-26\n",
      "44    2021-01-02\n",
      "45    2021-01-09\n",
      "46    2021-01-16\n",
      "Name: week_last_day, dtype: object\n"
     ]
    }
   ],
   "source": [
    "#como pode ser visto,a ultima semana totalmente em 2020 termina no dia 26 de dezembro e a primeira com dados\n",
    "#começa dia 23 de fevereiro\n",
    "print(brasilDf['week_last_day'].head())\n",
    "print(brasilDf['week_last_day'].tail())"
   ]
  },
  {
   "cell_type": "code",
   "execution_count": 6,
   "metadata": {},
   "outputs": [],
   "source": [
    "pytrends = TrendReq(hl='en-US', tz=360)"
   ]
  },
  {
   "cell_type": "code",
   "execution_count": 7,
   "metadata": {},
   "outputs": [],
   "source": [
    "#dados das semanas 2020-02-23 até 2020-12-26 que são as semanas epidemiologicas 9 até a 52 relativos ao brasil\n",
    "df=pd.DataFrame()\n",
    "for i in range(len(kw_list)):\n",
    "    kw = []\n",
    "    kw.append(kw_list[i])\n",
    "    pytrends.build_payload(kw, cat=0, timeframe='2020-02-23 2020-12-26', geo='BR', gprop='')\n",
    "    aux=pytrends.interest_over_time()\n",
    "    df[kw_list[i]]=aux[kw_list[i]]"
   ]
  },
  {
   "cell_type": "code",
   "execution_count": 8,
   "metadata": {},
   "outputs": [],
   "source": [
    "df.to_csv('SeriesKeywords.csv')"
   ]
  },
  {
   "cell_type": "code",
   "execution_count": 10,
   "metadata": {},
   "outputs": [],
   "source": [
    "#dados das semanas 2020-02-23 até 2020-12-26 que são as semanas epidemiologicas 9 até a 52 relativos a MG\n",
    "dfMg=pd.DataFrame()\n",
    "for i in range(len(kw_list)):\n",
    "    kw = []\n",
    "    kw.append(kw_list[i])\n",
    "    pytrends.build_payload(kw, cat=0, timeframe='2020-02-23 2020-12-26', geo='BR-MG', gprop='')\n",
    "    aux=pytrends.interest_over_time()\n",
    "    #caso a consulta não consiga resultado, criará uma coluna de NAN\n",
    "    if not aux.empty:\n",
    "        dfMg[kw_list[i]]=aux[kw_list[i]]\n",
    "    else:\n",
    "        dfMg[kw_list[i]]=np.nan"
   ]
  },
  {
   "cell_type": "code",
   "execution_count": 11,
   "metadata": {},
   "outputs": [],
   "source": [
    "dfMg.to_csv('SeriesKeywordsMg.csv')"
   ]
  },
  {
   "cell_type": "code",
   "execution_count": null,
   "metadata": {},
   "outputs": [],
   "source": []
  }
 ],
 "metadata": {
  "kernelspec": {
   "display_name": "Python 3",
   "language": "python",
   "name": "python3"
  },
  "language_info": {
   "codemirror_mode": {
    "name": "ipython",
    "version": 3
   },
   "file_extension": ".py",
   "mimetype": "text/x-python",
   "name": "python",
   "nbconvert_exporter": "python",
   "pygments_lexer": "ipython3",
   "version": "3.7.6"
  }
 },
 "nbformat": 4,
 "nbformat_minor": 4
}
