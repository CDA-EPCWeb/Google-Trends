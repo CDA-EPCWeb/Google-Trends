{
 "cells": [
  {
   "cell_type": "code",
   "execution_count": null,
   "metadata": {},
   "outputs": [],
   "source": [
    "from pytrends.request import TrendReq\n",
    "import pandas as pd\n",
    "import sqlite3\n",
    "import numpy as np"
   ]
  },
  {
   "cell_type": "code",
   "execution_count": null,
   "metadata": {},
   "outputs": [],
   "source": [
    "#obtendo as tabelas de indicadores\n",
    "conn =sqlite3.connect(\"indicadores.db\")\n",
    "cursor = conn.cursor()\n",
    "cursor.execute(\"SELECT name FROM sqlite_master WHERE type='table';\")\n",
    "print(cursor.fetchall())\n",
    "brasilDf=pd.read_sql_query(\"select * from brazil_df\",conn)\n",
    "conn.close()"
   ]
  },
  {
   "cell_type": "code",
   "execution_count": null,
   "metadata": {},
   "outputs": [],
   "source": [
    "#lendo o arquivo com as keywords\n",
    "keywords=pd.read_csv('Queries categorizadas.csv')\n",
    "keywords"
   ]
  },
  {
   "cell_type": "code",
   "execution_count": null,
   "metadata": {},
   "outputs": [],
   "source": [
    "#gerando a lista de keywords\n",
    "kw_list=[]\n",
    "for i in range(len(keywords)):\n",
    "    keywords['query'].iloc[i]=keywords['query'].iloc[i].replace('[','')\n",
    "    keywords['query'].iloc[i]=keywords['query'].iloc[i].replace(']','')\n",
    "    keywords['query'].iloc[i]=keywords['query'].iloc[i].replace('\\'','')\n",
    "    kw_list.append(keywords['query'].iloc[i])"
   ]
  },
  {
   "cell_type": "code",
   "execution_count": null,
   "metadata": {},
   "outputs": [],
   "source": [
    "#como pode ser visto,a ultima semana totalmente em 2020 termina no dia 26 de dezembro e a primeira com dados\n",
    "#começa dia 23 de fevereiro\n",
    "print(brasilDf['week_last_day'].head())\n",
    "print(brasilDf['week_last_day'].tail())"
   ]
  },
  {
   "cell_type": "code",
   "execution_count": null,
   "metadata": {},
   "outputs": [],
   "source": [
    "pytrends = TrendReq(hl='en-US', tz=360)"
   ]
  },
  {
   "cell_type": "code",
   "execution_count": null,
   "metadata": {},
   "outputs": [],
   "source": [
    "#dados das semanas 2020-02-23 até 2020-12-26 que são as semanas epidemiologicas 9 até a 52 relativos ao brasil\n",
    "df=pd.DataFrame()\n",
    "for i in range(len(kw_list)):\n",
    "    kw = []\n",
    "    kw.append(kw_list[i])\n",
    "    pytrends.build_payload(kw, cat=0, timeframe='2020-02-23 2020-12-26', geo='BR', gprop='')\n",
    "    aux=pytrends.interest_over_time()\n",
    "    df[kw_list[i]]=aux[kw_list[i]]"
   ]
  },
  {
   "cell_type": "code",
   "execution_count": null,
   "metadata": {},
   "outputs": [],
   "source": [
    "df.to_csv('SeriesKeywords.csv')"
   ]
  },
  {
   "cell_type": "code",
   "execution_count": null,
   "metadata": {},
   "outputs": [],
   "source": [
    "#dados das semanas 2020-02-23 até 2020-12-26 que são as semanas epidemiologicas 9 até a 52 relativos a MG\n",
    "dfMg=pd.DataFrame()\n",
    "for i in range(len(kw_list)):\n",
    "    kw = []\n",
    "    kw.append(kw_list[i])\n",
    "    pytrends.build_payload(kw, cat=0, timeframe='2020-02-23 2020-12-26', geo='BR-MG', gprop='')\n",
    "    aux=pytrends.interest_over_time()\n",
    "    #caso a consulta não consiga resultado, criará uma coluna de NAN\n",
    "    if not aux.empty:\n",
    "        dfMg[kw_list[i]]=aux[kw_list[i]]\n",
    "    else:\n",
    "        dfMg[kw_list[i]]=np.nan"
   ]
  },
  {
   "cell_type": "code",
   "execution_count": null,
   "metadata": {},
   "outputs": [],
   "source": [
    "dfMg.to_csv('SeriesKeywordsMg.csv')"
   ]
  },
  {
   "cell_type": "code",
   "execution_count": null,
   "metadata": {},
   "outputs": [],
   "source": []
  }
 ],
 "metadata": {
  "kernelspec": {
   "display_name": "Python 3",
   "language": "python",
   "name": "python3"
  },
  "language_info": {
   "codemirror_mode": {
    "name": "ipython",
    "version": 3
   },
   "file_extension": ".py",
   "mimetype": "text/x-python",
   "name": "python",
   "nbconvert_exporter": "python",
   "pygments_lexer": "ipython3",
   "version": "3.7.6"
  }
 },
 "nbformat": 4,
 "nbformat_minor": 4
}
