{
 "cells": [
  {
   "cell_type": "code",
   "execution_count": 16,
   "metadata": {},
   "outputs": [],
   "source": [
    "from pytrends.request import TrendReq\n",
    "import pandas as pd\n",
    "import sqlite3\n",
    "import numpy as np"
   ]
  },
  {
   "cell_type": "code",
   "execution_count": 17,
   "metadata": {},
   "outputs": [
    {
     "name": "stdout",
     "output_type": "stream",
     "text": [
      "[('imedreg_df',), ('cities_df',), ('states_df',), ('regions_df',), ('brazil_df',)]\n"
     ]
    }
   ],
   "source": [
    "#obtendo as tabelas de indicadores\n",
    "conn =sqlite3.connect(\"indicadores.db\")\n",
    "cursor = conn.cursor()\n",
    "cursor.execute(\"SELECT name FROM sqlite_master WHERE type='table';\")\n",
    "print(cursor.fetchall())\n",
    "brasilDf=pd.read_sql_query(\"select * from brazil_df\",conn)\n",
    "conn.close()"
   ]
  },
  {
   "cell_type": "code",
   "execution_count": 18,
   "metadata": {},
   "outputs": [
    {
     "data": {
      "text/html": [
       "<div>\n",
       "<style scoped>\n",
       "    .dataframe tbody tr th:only-of-type {\n",
       "        vertical-align: middle;\n",
       "    }\n",
       "\n",
       "    .dataframe tbody tr th {\n",
       "        vertical-align: top;\n",
       "    }\n",
       "\n",
       "    .dataframe thead th {\n",
       "        text-align: right;\n",
       "    }\n",
       "</style>\n",
       "<table border=\"1\" class=\"dataframe\">\n",
       "  <thead>\n",
       "    <tr style=\"text-align: right;\">\n",
       "      <th></th>\n",
       "      <th>0</th>\n",
       "    </tr>\n",
       "  </thead>\n",
       "  <tbody>\n",
       "    <tr>\n",
       "      <th>0</th>\n",
       "      <td>['ansiedade']</td>\n",
       "    </tr>\n",
       "    <tr>\n",
       "      <th>1</th>\n",
       "      <td>['auxilio desemprego']</td>\n",
       "    </tr>\n",
       "    <tr>\n",
       "      <th>2</th>\n",
       "      <td>['azitromicina']</td>\n",
       "    </tr>\n",
       "    <tr>\n",
       "      <th>3</th>\n",
       "      <td>['brasil coronavirus mortes']</td>\n",
       "    </tr>\n",
       "    <tr>\n",
       "      <th>4</th>\n",
       "      <td>['brasil coronavirus']</td>\n",
       "    </tr>\n",
       "    <tr>\n",
       "      <th>...</th>\n",
       "      <td>...</td>\n",
       "    </tr>\n",
       "    <tr>\n",
       "      <th>119</th>\n",
       "      <td>['tosse']</td>\n",
       "    </tr>\n",
       "    <tr>\n",
       "      <th>120</th>\n",
       "      <td>['vacina china']</td>\n",
       "    </tr>\n",
       "    <tr>\n",
       "      <th>121</th>\n",
       "      <td>['vacina corona']</td>\n",
       "    </tr>\n",
       "    <tr>\n",
       "      <th>122</th>\n",
       "      <td>['álcool 70']</td>\n",
       "    </tr>\n",
       "    <tr>\n",
       "      <th>123</th>\n",
       "      <td>['álcool gel']</td>\n",
       "    </tr>\n",
       "  </tbody>\n",
       "</table>\n",
       "<p>124 rows × 1 columns</p>\n",
       "</div>"
      ],
      "text/plain": [
       "                                 0\n",
       "0                    ['ansiedade']\n",
       "1           ['auxilio desemprego']\n",
       "2                 ['azitromicina']\n",
       "3    ['brasil coronavirus mortes']\n",
       "4           ['brasil coronavirus']\n",
       "..                             ...\n",
       "119                      ['tosse']\n",
       "120               ['vacina china']\n",
       "121              ['vacina corona']\n",
       "122                  ['álcool 70']\n",
       "123                 ['álcool gel']\n",
       "\n",
       "[124 rows x 1 columns]"
      ]
     },
     "execution_count": 18,
     "metadata": {},
     "output_type": "execute_result"
    }
   ],
   "source": [
    "#lendo o arquivo com as keywords\n",
    "keywords=pd.read_csv('keywords.csv',header=None)\n",
    "keywords"
   ]
  },
  {
   "cell_type": "code",
   "execution_count": 20,
   "metadata": {},
   "outputs": [],
   "source": [
    "#gerando a lista de keywords\n",
    "kw_list=[]\n",
    "for i in range(len(keywords)):\n",
    "    keywords[0].iloc[i]=keywords[0].iloc[i].replace('[','')\n",
    "    keywords[0].iloc[i]=keywords[0].iloc[i].replace(']','')\n",
    "    keywords[0].iloc[i]=keywords[0].iloc[i].replace('\\'','')\n",
    "    kw_list.append(keywords[0].iloc[i])"
   ]
  },
  {
   "cell_type": "code",
   "execution_count": null,
   "metadata": {},
   "outputs": [],
   "source": [
    "#como pode ser visto,a ultima semana totalmente em 2020 termina no dia 26 de dezembro e a primeira com dados\n",
    "#começa dia 23 de fevereiro\n",
    "print(brasilDf['week_last_day'].head())\n",
    "print(brasilDf['week_last_day'].tail())"
   ]
  },
  {
   "cell_type": "code",
   "execution_count": null,
   "metadata": {},
   "outputs": [],
   "source": [
    "pytrends = TrendReq(hl='en-US', tz=360)"
   ]
  },
  {
   "cell_type": "code",
   "execution_count": null,
   "metadata": {},
   "outputs": [],
   "source": [
    "#dados das semanas 2020-02-23 até 2020-12-26 que são as semanas epidemiologicas 9 até a 52 relativos ao brasil\n",
    "df=pd.DataFrame()\n",
    "for i in range(len(kw_list)):\n",
    "    kw = []\n",
    "    kw.append(kw_list[i])\n",
    "    pytrends.build_payload(kw, cat=0, timeframe='2020-02-23 2020-12-26', geo='BR', gprop='')\n",
    "    aux=pytrends.interest_over_time()\n",
    "    df[kw_list[i]]=aux[kw_list[i]]"
   ]
  },
  {
   "cell_type": "code",
   "execution_count": null,
   "metadata": {},
   "outputs": [],
   "source": [
    "df.to_csv('SeriesKeywords.csv')"
   ]
  },
  {
   "cell_type": "code",
   "execution_count": null,
   "metadata": {},
   "outputs": [],
   "source": [
    "#dados das semanas 2020-02-23 até 2020-12-26 que são as semanas epidemiologicas 9 até a 52 relativos a MG\n",
    "dfMg=pd.DataFrame()\n",
    "for i in range(len(kw_list)):\n",
    "    kw = []\n",
    "    kw.append(kw_list[i])\n",
    "    pytrends.build_payload(kw, cat=0, timeframe='2020-02-23 2020-12-26', geo='BR-MG', gprop='')\n",
    "    aux=pytrends.interest_over_time()\n",
    "    #caso a consulta não consiga resultado, criará uma coluna de NAN\n",
    "    if not aux.empty:\n",
    "        dfMg[kw_list[i]]=aux[kw_list[i]]\n",
    "    else:\n",
    "        dfMg[kw_list[i]]=np.nan"
   ]
  },
  {
   "cell_type": "code",
   "execution_count": null,
   "metadata": {},
   "outputs": [],
   "source": [
    "dfMg.to_csv('SeriesKeywordsMg.csv')"
   ]
  },
  {
   "cell_type": "code",
   "execution_count": null,
   "metadata": {},
   "outputs": [],
   "source": []
  }
 ],
 "metadata": {
  "kernelspec": {
   "display_name": "Python 3",
   "language": "python",
   "name": "python3"
  },
  "language_info": {
   "codemirror_mode": {
    "name": "ipython",
    "version": 3
   },
   "file_extension": ".py",
   "mimetype": "text/x-python",
   "name": "python",
   "nbconvert_exporter": "python",
   "pygments_lexer": "ipython3",
   "version": "3.7.6"
  }
 },
 "nbformat": 4,
 "nbformat_minor": 4
}
